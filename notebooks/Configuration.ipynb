{
  "nbformat": 4,
  "nbformat_minor": 0,
  "metadata": {
    "colab": {
      "name": "Configuration.ipynb",
      "provenance": [],
      "collapsed_sections": [],
      "authorship_tag": "ABX9TyOot4HfLHcK7WcVZyWsyff/",
      "include_colab_link": true
    },
    "kernelspec": {
      "name": "python3",
      "display_name": "Python 3"
    },
    "language_info": {
      "name": "python"
    }
  },
  "cells": [
    {
      "cell_type": "markdown",
      "metadata": {
        "id": "view-in-github",
        "colab_type": "text"
      },
      "source": [
        "<a href=\"https://colab.research.google.com/github/veerendra12/CS598-DL4H-Project/blob/main/notebooks/Configuration.ipynb\" target=\"_parent\"><img src=\"https://colab.research.google.com/assets/colab-badge.svg\" alt=\"Open In Colab\"/></a>"
      ]
    },
    {
      "cell_type": "code",
      "source": [
        "import torchvision.transforms as transforms"
      ],
      "metadata": {
        "id": "j4jI41uEoweo"
      },
      "execution_count": null,
      "outputs": []
    },
    {
      "cell_type": "markdown",
      "source": [
        "### Configuration\n",
        "This notebook serves as central configuration file for entire model pipeline. It includes settings like:\n",
        "\n",
        "\n",
        "*   Data set and results storage directory paths\n",
        "*   Hyper parameters like *number of epochs*, *learning rate*, *mini batch size* etc..\n",
        "*   Tranformations for training and validation\n",
        "*   And so on...\n",
        "\n"
      ],
      "metadata": {
        "id": "hTggKfuQ8LGt"
      }
    },
    {
      "cell_type": "code",
      "source": [
        "\"\"\"\n",
        "What % of overall data needs to be sampled for training and validation combined. \n",
        "Example: 0.5 indicates, 50% of whole data is randomly sampled for train and validation sets\n",
        "\"\"\"\n",
        "SAMPLE_RATIO = 0.5 # 100%\n",
        "\n",
        "\"\"\"Base directory for NIH data set\"\"\"\n",
        "BASE_DIR = '/content/DataSets/NIHDataSet/'\n",
        "\n",
        "\"\"\"List of 14 named class labels for NIH CXR data set\"\"\"\n",
        "CLASS_LABELS = ['Atelectasis',\n",
        "                'Cardiomegaly',\n",
        "                'Effusion',\n",
        "                'Infiltration',\n",
        "                'Mass',\n",
        "                'Nodule',\n",
        "                'Pneumonia',\n",
        "                'Pneumothorax',\n",
        "                'Consolidation',\n",
        "                'Edema',\n",
        "                'Emphysema',\n",
        "                'Fibrosis',\n",
        "                'Pleural_Thickening',\n",
        "                'Hernia']\n",
        "\n",
        "CONFIG = {\n",
        "    \"RANDOM_SEED\": 2022,\n",
        "    \n",
        "    \"LEARNING_RATE\": 1e-4,\n",
        "    \n",
        "    \"BATCH_SIZE\": 16,\n",
        "    \"NUM_EPOCHS\": 2,\n",
        "    \"NUM_WORKERS\": 2,\n",
        "    \n",
        "    \"IMAGE_HEIGHT\": 256,\n",
        "    \"IMAGE_WIDTH\": 256,\n",
        "    \n",
        "    \"PIN_MEMORY\": True,\n",
        "    \"LOAD_MODEL\": False,\n",
        "\n",
        "    \"IMAGE_DATA_SET_TYPE\": '',\n",
        "    \"MASK_SUFFIX_NO_EXTN\": '',\n",
        "    \n",
        "    \"SAMPLE_RATIO\": SAMPLE_RATIO,\n",
        "\n",
        "    \"TEST_TRAIN_SPLIT\": 0.2, \"\"\"Test to train ratio. Example, 0.2 indicates 80% training data and 20% test data\"\"\"\n",
        "\n",
        "    \"TRAIN_CSV\": \"train_\" + str(SAMPLE_RATIO) + \".csv\",\n",
        "    \"VALIDATION_CSV\": \"validation_\" + str(SAMPLE_RATIO) + \".csv\",\n",
        "\n",
        "    \"BASE_DIR\": BASE_DIR,\n",
        "    \"IMAGE_DIR\": BASE_DIR + \"images/\",\n",
        "    \"NIH_CXR_DATA_ONEHOT_FULL_CSV\": BASE_DIR +'NIH_CXR_Data_OneHot_Full.csv',\n",
        "\n",
        "    # Mean and Standard deviation of Imagenet set\n",
        "    \"MEAN\": [0.485, 0.456, 0.406],\n",
        "    \"STD\": [0.229, 0.224, 0.225],\n",
        "    \"CLASS_LABELS\": CLASS_LABELS,\n",
        "    \"NUM_CLASSES\": len(CLASS_LABELS),\n",
        "    \"SEGMENTATION_BEST_MODEL\": '/content/DataSets/LungSegmentationDataset/results/unet_chesxray_mcu_8.pth',\n",
        "    \"FEM1_BEST_MODEL\": BASE_DIR + \"results/fem-1_nih_2.pth\",\n",
        "    \"FEM2_BEST_MODEL\": BASE_DIR + \"results/fem-2_nih_2.pth\"\n",
        "}\n",
        "\n",
        "\"\"\" Transoformations for NIH CXR Data set during classification training and validation \"\"\"\n",
        "NIH_TRANSFORMS = {\n",
        "        'train': transforms.Compose([\n",
        "            transforms.RandomHorizontalFlip(),\n",
        "            transforms.Resize(CONFIG['IMAGE_HEIGHT']),\n",
        "            transforms.CenterCrop(CONFIG['IMAGE_WIDTH']),\n",
        "            transforms.ToTensor(),\n",
        "            transforms.Normalize(CONFIG['MEAN'], CONFIG['STD'])\n",
        "        ]),\n",
        "        'validation': transforms.Compose([\n",
        "            transforms.Resize(224),\n",
        "            transforms.CenterCrop(224),\n",
        "            transforms.ToTensor(),\n",
        "            transforms.Normalize([0.0, 0.0, 0.0], [1.0, 1.0, 1.0])\n",
        "        ]),\n",
        "    }\n",
        "\n",
        "\"\"\" Transoformations for Segementation Model \"\"\"\n",
        "SEGMENTATION_TRANSOFRM = transforms.Compose([\n",
        "            transforms.Resize(224),\n",
        "            transforms.CenterCrop(224),\n",
        "            transforms.ToTensor(),\n",
        "            transforms.Normalize([0.0, 0.0, 0.0], [1.0, 1.0, 1.0])\n",
        "        ])\n",
        "\n",
        "\n",
        "\n",
        "CONFIG['NIH_TRANSFORMS'] = NIH_TRANSFORMS\n",
        "CONFIG['SEGMENTATION_TRANSOFRM'] = SEGMENTATION_TRANSOFRM"
      ],
      "metadata": {
        "id": "7xo4DI1hmZfJ"
      },
      "execution_count": null,
      "outputs": []
    }
  ]
}
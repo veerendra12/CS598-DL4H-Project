{
  "nbformat": 4,
  "nbformat_minor": 0,
  "metadata": {
    "colab": {
      "name": "DownloadNIHData.ipynb",
      "provenance": [],
      "collapsed_sections": [],
      "authorship_tag": "ABX9TyMW1JtoY/8wFlVV95yki1O1",
      "include_colab_link": true
    },
    "kernelspec": {
      "name": "python3",
      "display_name": "Python 3"
    },
    "language_info": {
      "name": "python"
    }
  },
  "cells": [
    {
      "cell_type": "markdown",
      "metadata": {
        "id": "view-in-github",
        "colab_type": "text"
      },
      "source": [
        "<a href=\"https://colab.research.google.com/github/veerendra12/CS598-DL4H-Project/blob/main/notebooks/DownloadNIHData.ipynb\" target=\"_parent\"><img src=\"https://colab.research.google.com/assets/colab-badge.svg\" alt=\"Open In Colab\"/></a>"
      ]
    },
    {
      "cell_type": "markdown",
      "source": [
        "# Download NIH Data Set"
      ],
      "metadata": {
        "id": "K3xBw6nepgFj"
      }
    },
    {
      "cell_type": "code",
      "source": [
        "from google.colab import drive\n",
        "drive.mount('/content/drive')"
      ],
      "metadata": {
        "colab": {
          "base_uri": "https://localhost:8080/"
        },
        "id": "Uv84Uhj1bMda",
        "outputId": "a146ea40-e239-41e7-8717-7432d7340535"
      },
      "execution_count": null,
      "outputs": [
        {
          "output_type": "stream",
          "name": "stdout",
          "text": [
            "Mounted at /content/drive\n"
          ]
        }
      ]
    },
    {
      "cell_type": "markdown",
      "source": [
        "This notebook downloads NIH Data Set files from https://nihcc.app.box.com/v/ChestXray-NIHCC/folder/37178474737 "
      ],
      "metadata": {
        "id": "bLCgOwiwp4i8"
      }
    },
    {
      "cell_type": "code",
      "source": [
        "# Download images_001.tar.gz\n",
        "!wget --header=\"Host: dl2.boxcloud.com\" --header=\"User-Agent: Mozilla/5.0 (Macintosh; Intel Mac OS X 10_15_7) AppleWebKit/537.36 (KHTML, like Gecko) Chrome/101.0.4951.54 Safari/537.36\" --header=\"Accept: text/html,application/xhtml+xml,application/xml;q=0.9,image/avif,image/webp,image/apng,*/*;q=0.8,application/signed-exchange;v=b3;q=0.9\" --header=\"Accept-Language: en-US,en;q=0.9\" --header=\"Referer: https://nihcc.app.box.com/\" \"https://dl2.boxcloud.com/d/1/b1!egT-EBzhfjVSUZIGgMy5hY2MM9JJSTxK1DdvlAcRoLhM6mUb4sH3AYhdaWLKjJ72v0dYgvEGfSU-SvymXMr3Glcj4yIbnO9cbkUYh499l-hQtRjPt8z9K_UpeGZ4IANNFAf1rWGRiN9sQ97ATXrRU28-09ZIK0FwOz7E3BNXkp7XuJ47_3Wkp8C79beIYVDvtj6bsKGSjCQg2yBA5MjpA_Wd_510_PNC6QnSwz4NpKyOCMBcMmQ5Mm2fhsF7DSQa0gkvmRR9aZ5Bfjb-8ldQMuVjHzL06hUQRSCmUux8zndjdvUcg7sIpRg-d1waPRm-YCcLK4n3fmeFh0EXC1tWVBP6K5Ubsr9r8ppFIkE8BJceCi58vy4uzjbi3AHm2wiI1uRJHLDw2cKAT5p2dl-t51uR7qwGouql2JKh9-DxKChW8lJ8tv2zrS5T_61GTgnAoGn8HvOzjLXJvHt05zQ_hyqA6kmLanpZ7arwILTW0RkorJ6obQjC8fvk6yhpG2SccTCvtP1gNhm7cdC-2yUDec4pedoVx2KOMrtVpZiUHhnkltXgm5cL4kz9GsHUny3M3n0JIy6c_fy5pJWzBdfEfTlexk5ilo8acnS8-zM1nufpMD0AgUrGm_ZpdGFnJUoUSIYAMCWgMs-ha6BVw-SaZSzaRO_Tz5yz_S_04WJ-Hqg3bsFGdlwAn_I-dSzg7ecMjQdWhDFNiW17rC0Skg0-PURwnCLybxRuCbv93D_SfHI6h_fMF79cltDeECWG4xEin9FNrjNdK8W_9fArG3WEj9QXnk0lBfOpfVIgT23ofrgANynCyho_XEJ3EQw6Ym0E1Vgdw01E-rZvPdohOEvoSRE1wr67AocgzSP1lpoJoj8YwIRh67vPXH2JRBqg_JcI8Hhf-6UE8hlyYLWap7tCLx7SzTDrB_O91M2pMoj4U7iFAOtCB4_bxtXk3xnVCZpmSVEiHUhnRp_0b8Sxuuc2PXF_8RyWTyQGXLsy1ene4CM2blkFsChaxWi3Q9XmfgiGXZez4H3fM3g8-zS68Bk9C9MxGxsIkg33zRQSLqXDje98OWI3LnimLhm0VsweW8usn3AM33PJe3OUMOR4QoJwsRMPI5YXMywg8SYl52sJ8mCWt92cQpuo8zxDj1CPoFnQJXinXjUuewLDmXS6CQouPD31xr8be51omcf9OgzdSadoY9f2lrJZnnWxmipMbzS8J63qW2-GLFyDU7e948h4b5oG2fcnyfya1-C1VL2GuQ38hqaO6_SYjWRaxktHPqZosq_DCB1-qG10pG-5_3aatsZ5nRY3xexr32tQP2DUrRqHE6RSaLdCcQU5rGiudyJ3ksHC/download\" -c -O 'images_001.tar.gz'\n",
        "\n",
        "!cp /content/images_001.tar.gz /content/drive/MyDrive/Colab\\ Notebooks/DataSets/NIHDataSet/images"
      ],
      "metadata": {
        "colab": {
          "base_uri": "https://localhost:8080/"
        },
        "id": "cnSIvwjZgVJK",
        "outputId": "46ca8e65-3a1f-42e4-c424-6cb842977d14"
      },
      "execution_count": null,
      "outputs": [
        {
          "output_type": "stream",
          "name": "stdout",
          "text": [
            "--2022-05-06 17:54:44--  https://dl2.boxcloud.com/d/1/b1!egT-EBzhfjVSUZIGgMy5hY2MM9JJSTxK1DdvlAcRoLhM6mUb4sH3AYhdaWLKjJ72v0dYgvEGfSU-SvymXMr3Glcj4yIbnO9cbkUYh499l-hQtRjPt8z9K_UpeGZ4IANNFAf1rWGRiN9sQ97ATXrRU28-09ZIK0FwOz7E3BNXkp7XuJ47_3Wkp8C79beIYVDvtj6bsKGSjCQg2yBA5MjpA_Wd_510_PNC6QnSwz4NpKyOCMBcMmQ5Mm2fhsF7DSQa0gkvmRR9aZ5Bfjb-8ldQMuVjHzL06hUQRSCmUux8zndjdvUcg7sIpRg-d1waPRm-YCcLK4n3fmeFh0EXC1tWVBP6K5Ubsr9r8ppFIkE8BJceCi58vy4uzjbi3AHm2wiI1uRJHLDw2cKAT5p2dl-t51uR7qwGouql2JKh9-DxKChW8lJ8tv2zrS5T_61GTgnAoGn8HvOzjLXJvHt05zQ_hyqA6kmLanpZ7arwILTW0RkorJ6obQjC8fvk6yhpG2SccTCvtP1gNhm7cdC-2yUDec4pedoVx2KOMrtVpZiUHhnkltXgm5cL4kz9GsHUny3M3n0JIy6c_fy5pJWzBdfEfTlexk5ilo8acnS8-zM1nufpMD0AgUrGm_ZpdGFnJUoUSIYAMCWgMs-ha6BVw-SaZSzaRO_Tz5yz_S_04WJ-Hqg3bsFGdlwAn_I-dSzg7ecMjQdWhDFNiW17rC0Skg0-PURwnCLybxRuCbv93D_SfHI6h_fMF79cltDeECWG4xEin9FNrjNdK8W_9fArG3WEj9QXnk0lBfOpfVIgT23ofrgANynCyho_XEJ3EQw6Ym0E1Vgdw01E-rZvPdohOEvoSRE1wr67AocgzSP1lpoJoj8YwIRh67vPXH2JRBqg_JcI8Hhf-6UE8hlyYLWap7tCLx7SzTDrB_O91M2pMoj4U7iFAOtCB4_bxtXk3xnVCZpmSVEiHUhnRp_0b8Sxuuc2PXF_8RyWTyQGXLsy1ene4CM2blkFsChaxWi3Q9XmfgiGXZez4H3fM3g8-zS68Bk9C9MxGxsIkg33zRQSLqXDje98OWI3LnimLhm0VsweW8usn3AM33PJe3OUMOR4QoJwsRMPI5YXMywg8SYl52sJ8mCWt92cQpuo8zxDj1CPoFnQJXinXjUuewLDmXS6CQouPD31xr8be51omcf9OgzdSadoY9f2lrJZnnWxmipMbzS8J63qW2-GLFyDU7e948h4b5oG2fcnyfya1-C1VL2GuQ38hqaO6_SYjWRaxktHPqZosq_DCB1-qG10pG-5_3aatsZ5nRY3xexr32tQP2DUrRqHE6RSaLdCcQU5rGiudyJ3ksHC/download\n",
            "Resolving dl2.boxcloud.com (dl2.boxcloud.com)... 74.112.186.128\n",
            "Connecting to dl2.boxcloud.com (dl2.boxcloud.com)|74.112.186.128|:443... connected.\n",
            "HTTP request sent, awaiting response... 200 OK\n",
            "Length: 2008470987 (1.9G) [application/octet-stream]\n",
            "Saving to: ‘images_001.tar.gz’\n",
            "\n",
            "images_001.tar.gz   100%[===================>]   1.87G  3.89MB/s    in 7m 29s  \n",
            "\n",
            "2022-05-06 18:02:13 (4.27 MB/s) - ‘images_001.tar.gz’ saved [2008470987/2008470987]\n",
            "\n"
          ]
        }
      ]
    },
    {
      "cell_type": "code",
      "source": [
        "# Download images_002.tar.gz\n",
        "!wget --header=\"Host: dl2.boxcloud.com\" --header=\"User-Agent: Mozilla/5.0 (Macintosh; Intel Mac OS X 10_15_7) AppleWebKit/537.36 (KHTML, like Gecko) Chrome/101.0.4951.54 Safari/537.36\" --header=\"Accept: text/html,application/xhtml+xml,application/xml;q=0.9,image/avif,image/webp,image/apng,*/*;q=0.8,application/signed-exchange;v=b3;q=0.9\" --header=\"Accept-Language: en-US,en;q=0.9\" --header=\"Referer: https://nihcc.app.box.com/\" \"https://dl2.boxcloud.com/d/1/b1!eesfPr1MQtMkmT2qegZ6J8IqYrqyHM_Pu_aroy3eHERpRmx3DkA1_G-yJop2T9ffXtMS6NuiIThDxVM3orEx4dNyIMpaOUTZfc5eBytP4zSp99JM4izLFTbYeXB10D6WiOPYivVaV3SfkCTbsbAZdBKvahkAZhZ9JKuz7nL3jOLeQ5E4F0hDCDNTNZi0I8zcOfWnRkYSrRjqS7tcBc4siME5nbwTrHlwtTHKu74Rri424QTOxYjZIFAxnFWY2cDyax6gzC7pIj_hgeew9271gbQBRzmkl9z31qc2rSuBTou83oL7zEYBJthIHkJwnpeqC1Pi1L-C24SC4njOYa5eekKDuzbAi2qZCmup8TJVKJ86uIlpiRG9xsjEGUS8_BP9KyjHVUxAWrYUm0NdxLb0A7l9nVh1ya_VuCYcZz6sv6IlhWs_5bCaon5ayEgzf-HhDBoGMN8k2AF-2rMzWIE2-UpIPzo_DkTwjImS_ChZPRt330Ie3KQ-CRh4zknd4kNEMV03UMbwjhK8qgVTFkUUxBlaF-hc-ihQTiLk3zpuRi53RuO7R5JPgCS2JOF4yJlxkkhYrHKeWKhEZFEWEIXfO-s8kAxyP1cuLVENswGk4ofPiSlMKtfuurR5Minle98YTmhVuNBuNCGxj_f2x3Hx_wsrmOybcgTgE4m7MLoxRYjksoD-sqn-UXpGQmFnt7IMjCaf0mbWqeRzPRvPpid5eV90eHOXif8krDa_qs_C3XwVHrX4G9QaaonakAxYH4j43_gjESNydcGKbFs_9jY7j_w-AlTeqryYRigGXhkq13KhEGekf73CqXmIpRrdQoj9P6Q2pSBJNExbbfRIpmLOddGa_8biMIme8vjbLLS_ZQSZKkH5Nh5R4a9XD-W7dx5qhR3BzJ8DE6-mNjy3EWo82IKbXzWdz95aKkZoz-2ZNO0U2wLl2e0C4TVPBYW-hKyqURMnrZyKeBwR7-boNU4uWaveg7yA1ExYKohZZW0FRbJJ7XUaMqWe5d8Lv399SHO3rbNLceuRTsDFJEZTVEZ7ANBMoFMAWGs4hp9lBUCL6cQr-y01eMrDF5XL037KO3FaWD7IxMkym9qlDmId9d4_X_ozYyi5Hyub1GgN2UGYKtKdCC_98vEsVsvwUtZj-BG962FYYcVUcIJeVhaQRv8kE3VDjLyppLJMnkiKkgsn0XDH6F1d0V_g3YVdlROaY2OTiM_SGyvekdHBbE0p9_j3KUuw2NxhkuhU0YrDsbCTRsgIpPOQTEqW5w587sVnJ8otRMfVTRx3XfAmOGk94ytYaM5eL6JURVjNAQ../download\" -c -O 'images_002.tar.gz'\n",
        "\n",
        "!cp /content/images_002.tar.gz /content/drive/MyDrive/Colab\\ Notebooks/DataSets/NIHDataSet/images"
      ],
      "metadata": {
        "colab": {
          "base_uri": "https://localhost:8080/"
        },
        "id": "zUP1DCp-ot5R",
        "outputId": "8dbdfa15-3006-429d-b746-654f3b6e374b"
      },
      "execution_count": null,
      "outputs": [
        {
          "output_type": "stream",
          "name": "stdout",
          "text": [
            "--2022-05-06 18:33:16--  https://dl2.boxcloud.com/d/1/b1!eesfPr1MQtMkmT2qegZ6J8IqYrqyHM_Pu_aroy3eHERpRmx3DkA1_G-yJop2T9ffXtMS6NuiIThDxVM3orEx4dNyIMpaOUTZfc5eBytP4zSp99JM4izLFTbYeXB10D6WiOPYivVaV3SfkCTbsbAZdBKvahkAZhZ9JKuz7nL3jOLeQ5E4F0hDCDNTNZi0I8zcOfWnRkYSrRjqS7tcBc4siME5nbwTrHlwtTHKu74Rri424QTOxYjZIFAxnFWY2cDyax6gzC7pIj_hgeew9271gbQBRzmkl9z31qc2rSuBTou83oL7zEYBJthIHkJwnpeqC1Pi1L-C24SC4njOYa5eekKDuzbAi2qZCmup8TJVKJ86uIlpiRG9xsjEGUS8_BP9KyjHVUxAWrYUm0NdxLb0A7l9nVh1ya_VuCYcZz6sv6IlhWs_5bCaon5ayEgzf-HhDBoGMN8k2AF-2rMzWIE2-UpIPzo_DkTwjImS_ChZPRt330Ie3KQ-CRh4zknd4kNEMV03UMbwjhK8qgVTFkUUxBlaF-hc-ihQTiLk3zpuRi53RuO7R5JPgCS2JOF4yJlxkkhYrHKeWKhEZFEWEIXfO-s8kAxyP1cuLVENswGk4ofPiSlMKtfuurR5Minle98YTmhVuNBuNCGxj_f2x3Hx_wsrmOybcgTgE4m7MLoxRYjksoD-sqn-UXpGQmFnt7IMjCaf0mbWqeRzPRvPpid5eV90eHOXif8krDa_qs_C3XwVHrX4G9QaaonakAxYH4j43_gjESNydcGKbFs_9jY7j_w-AlTeqryYRigGXhkq13KhEGekf73CqXmIpRrdQoj9P6Q2pSBJNExbbfRIpmLOddGa_8biMIme8vjbLLS_ZQSZKkH5Nh5R4a9XD-W7dx5qhR3BzJ8DE6-mNjy3EWo82IKbXzWdz95aKkZoz-2ZNO0U2wLl2e0C4TVPBYW-hKyqURMnrZyKeBwR7-boNU4uWaveg7yA1ExYKohZZW0FRbJJ7XUaMqWe5d8Lv399SHO3rbNLceuRTsDFJEZTVEZ7ANBMoFMAWGs4hp9lBUCL6cQr-y01eMrDF5XL037KO3FaWD7IxMkym9qlDmId9d4_X_ozYyi5Hyub1GgN2UGYKtKdCC_98vEsVsvwUtZj-BG962FYYcVUcIJeVhaQRv8kE3VDjLyppLJMnkiKkgsn0XDH6F1d0V_g3YVdlROaY2OTiM_SGyvekdHBbE0p9_j3KUuw2NxhkuhU0YrDsbCTRsgIpPOQTEqW5w587sVnJ8otRMfVTRx3XfAmOGk94ytYaM5eL6JURVjNAQ../download\n",
            "Resolving dl2.boxcloud.com (dl2.boxcloud.com)... 74.112.186.128\n",
            "Connecting to dl2.boxcloud.com (dl2.boxcloud.com)|74.112.186.128|:443... connected.\n",
            "HTTP request sent, awaiting response... 200 OK\n",
            "Length: 3952623504 (3.7G) [application/octet-stream]\n",
            "Saving to: ‘images_002.tar.gz’\n",
            "\n",
            "images_002.tar.gz   100%[===================>]   3.68G  3.01MB/s    in 12m 2s  \n",
            "\n",
            "2022-05-06 18:45:18 (5.22 MB/s) - ‘images_002.tar.gz’ saved [3952623504/3952623504]\n",
            "\n"
          ]
        }
      ]
    },
    {
      "cell_type": "code",
      "source": [
        "# Download images_003.tar.gz\n",
        "!wget --header=\"Host: dl2.boxcloud.com\" --header=\"User-Agent: Mozilla/5.0 (Macintosh; Intel Mac OS X 10_15_7) AppleWebKit/537.36 (KHTML, like Gecko) Chrome/101.0.4951.54 Safari/537.36\" --header=\"Accept: text/html,application/xhtml+xml,application/xml;q=0.9,image/avif,image/webp,image/apng,*/*;q=0.8,application/signed-exchange;v=b3;q=0.9\" --header=\"Accept-Language: en-US,en;q=0.9\" --header=\"Referer: https://nihcc.app.box.com/\" \"https://dl2.boxcloud.com/d/1/b1!Mwtds3fNQ4w-OfOIQLfYTM89oSspIbLNOP1DvxAfAaNoVPxekwQAvbtsvaoUVXy5J6rR_uxThhbf-GNtzLFJEkqhbzoKdtNGD8kMSUGg6cEzwT9OpT1-sI6lwKWnZ0pFSt_0Ylp6ehBJfwJX7rVAhqWRKMbZOJpRQ8rHDXoJ4yC2s2x6sbcl86CICEORGk_3NmhW6ck1Ttghu_h809tnYWqok0LVQuJGdTG_9mCZD1lSfAj9nmrjw_ywpW6z9e1qHn8805ZJ038btit5BoI0Z6fguefUIburnz6GGhJomuMwXeThqPo7-cbbp-Na6Tb_qjMPV_6kRc_jIpF8NgH5_yCM06qwgW65Dx3BWFrySpg3XDbGwli5ZplyCLtECK5_UafgttwoNnyRf5Q5UIs6iOeswX0VlC2yLRrF-0H5qUVt1mNCgoSON9kIZ-SdpINn3lAPNwZM54SWtj-AomP2dj0IN4WXJMRjpwcpAo0lhop7rxfZz7XyER6a-TRCUqCo-EW1Gtbkvry_q65g-ZOHhWYpt9TJH7Vw4fj7QI1A-FBOWeuShEnAa72lac2V5I8xr-MLvXsF7VpueCKpI_sk2E2PRsS6352LSSYwgJrO_bYhJ_rZRIJetJnrdFp4shs1cWNWFrQsIgpMY99p89GVFZOjgYrBZk7OjhU7Qi5kz2yWzRx7miBpPG2L-Q0MdIXqI8e2nh519FP1N1smTnUS655-opWwZg0rEMDkGJeJ-HWTxoJTZa2rfd9BZL4eDSTHjJSsFrcrm7_sW7XhtYBuRFROUt4O5HCjsgRBWh8AOQC4nGjSDZMIkebd9b4n9-omglkC1DxJnZujalNJ-k2A_Fb_HDrL8hSxmL0jMO1AlgNI_4PF6DFKmmNRLvzKg69maMrfPK8adEhadrd1kEatbPlpweuEt3gS6u7g_6sOrYfdWBl_HFY06wJYmqUyxiBQZ6tADifkDJv9LUwuVj4nv_Y70FIZ6oJPJbe8f3MYfs-6Gf4G78lCnDZ3cRdP0jK3_balJLLq_3o4kjdbtk11KfBAf_38bYludV1I3JtYbMmstWrp3jkvynyJBdEMefRFcJ-DO9GMh5tVBLUV0EdDiLj9WMEthKv3ea9kqhAytOFhscyopN7eW3wZN7kjtfRKwEGaOREZJr53lllkU9EPOyR2psOZA0dBolOpSZGcuf5AqkIiLM0uyFI70bvmSoMRSZyA6Y2nAJmzr0ppQru9LvmbIQuhKj9WsT7WwJ7bWR3JSXimIHlGnqfA9DU4xozcxQAgu9suUIOTlA../download\" -c -O 'images_003.tar.gz'\n",
        "\n",
        "!cp /content/images_003.tar.gz /content/drive/MyDrive/Colab\\ Notebooks/DataSets/NIHDataSet/images\n",
        "!mv /content/images_003.tar.gz /content/DataSets/NIHDataSet"
      ],
      "metadata": {
        "colab": {
          "base_uri": "https://localhost:8080/"
        },
        "id": "KaQhU9BWp31v",
        "outputId": "58405bc5-c7ce-46ad-dfbc-b45861f88836"
      },
      "execution_count": null,
      "outputs": [
        {
          "output_type": "stream",
          "name": "stdout",
          "text": [
            "--2022-05-06 19:28:59--  https://dl2.boxcloud.com/d/1/b1!Mwtds3fNQ4w-OfOIQLfYTM89oSspIbLNOP1DvxAfAaNoVPxekwQAvbtsvaoUVXy5J6rR_uxThhbf-GNtzLFJEkqhbzoKdtNGD8kMSUGg6cEzwT9OpT1-sI6lwKWnZ0pFSt_0Ylp6ehBJfwJX7rVAhqWRKMbZOJpRQ8rHDXoJ4yC2s2x6sbcl86CICEORGk_3NmhW6ck1Ttghu_h809tnYWqok0LVQuJGdTG_9mCZD1lSfAj9nmrjw_ywpW6z9e1qHn8805ZJ038btit5BoI0Z6fguefUIburnz6GGhJomuMwXeThqPo7-cbbp-Na6Tb_qjMPV_6kRc_jIpF8NgH5_yCM06qwgW65Dx3BWFrySpg3XDbGwli5ZplyCLtECK5_UafgttwoNnyRf5Q5UIs6iOeswX0VlC2yLRrF-0H5qUVt1mNCgoSON9kIZ-SdpINn3lAPNwZM54SWtj-AomP2dj0IN4WXJMRjpwcpAo0lhop7rxfZz7XyER6a-TRCUqCo-EW1Gtbkvry_q65g-ZOHhWYpt9TJH7Vw4fj7QI1A-FBOWeuShEnAa72lac2V5I8xr-MLvXsF7VpueCKpI_sk2E2PRsS6352LSSYwgJrO_bYhJ_rZRIJetJnrdFp4shs1cWNWFrQsIgpMY99p89GVFZOjgYrBZk7OjhU7Qi5kz2yWzRx7miBpPG2L-Q0MdIXqI8e2nh519FP1N1smTnUS655-opWwZg0rEMDkGJeJ-HWTxoJTZa2rfd9BZL4eDSTHjJSsFrcrm7_sW7XhtYBuRFROUt4O5HCjsgRBWh8AOQC4nGjSDZMIkebd9b4n9-omglkC1DxJnZujalNJ-k2A_Fb_HDrL8hSxmL0jMO1AlgNI_4PF6DFKmmNRLvzKg69maMrfPK8adEhadrd1kEatbPlpweuEt3gS6u7g_6sOrYfdWBl_HFY06wJYmqUyxiBQZ6tADifkDJv9LUwuVj4nv_Y70FIZ6oJPJbe8f3MYfs-6Gf4G78lCnDZ3cRdP0jK3_balJLLq_3o4kjdbtk11KfBAf_38bYludV1I3JtYbMmstWrp3jkvynyJBdEMefRFcJ-DO9GMh5tVBLUV0EdDiLj9WMEthKv3ea9kqhAytOFhscyopN7eW3wZN7kjtfRKwEGaOREZJr53lllkU9EPOyR2psOZA0dBolOpSZGcuf5AqkIiLM0uyFI70bvmSoMRSZyA6Y2nAJmzr0ppQru9LvmbIQuhKj9WsT7WwJ7bWR3JSXimIHlGnqfA9DU4xozcxQAgu9suUIOTlA../download\n",
            "Resolving dl2.boxcloud.com (dl2.boxcloud.com)... 74.112.186.128\n",
            "Connecting to dl2.boxcloud.com (dl2.boxcloud.com)|74.112.186.128|:443... connected.\n",
            "HTTP request sent, awaiting response... 200 OK\n",
            "Length: 3929234850 (3.7G) [application/octet-stream]\n",
            "Saving to: ‘images_003.tar.gz’\n",
            "\n",
            "images_003.tar.gz   100%[===================>]   3.66G  2.78MB/s    in 12m 39s \n",
            "\n",
            "2022-05-06 19:41:38 (4.94 MB/s) - ‘images_003.tar.gz’ saved [3929234850/3929234850]\n",
            "\n"
          ]
        }
      ]
    },
    {
      "cell_type": "code",
      "source": [
        "# Download images_005.tar.gz\n",
        "wget --header=\"Host: dl2.boxcloud.com\" --header=\"User-Agent: Mozilla/5.0 (Macintosh; Intel Mac OS X 10_15_7) AppleWebKit/537.36 (KHTML, like Gecko) Chrome/101.0.4951.54 Safari/537.36\" --header=\"Accept: text/html,application/xhtml+xml,application/xml;q=0.9,image/avif,image/webp,image/apng,*/*;q=0.8,application/signed-exchange;v=b3;q=0.9\" --header=\"Accept-Language: en-US,en;q=0.9\" --header=\"Referer: https://nihcc.app.box.com/\" \"https://dl2.boxcloud.com/d/1/b1!ZtAw2h34XO3z6Rdc6n98Lf7gNrThsaaQt7Eu3BM6kVcZZMij5vgrrdfgyRx-Lj_mAu_vmonZA954u1M-HbjwHZWC7-HJQ3hntP2ej8IGaz-c4AEIHqAd8dww7HdoOKf1vnDsdk1HoWGz4CmbW1S21RXgbidNRbuZ42Zr6OvMjQFcUMYVm_UcaSu0Aahz6kFXgCmUgmy9qTTDB6tYIHeG3Su2q-o5MNtfN6kv3-DpwlJfHW1lF1xSjVrQQV6kvx-F56-0uSFv190CKzobqbfoneywuEtWSvxCeMoEDuYrsCoJQV02Ij6ynPlx6WXkvXQ5lFggm1iyicLJA36L86hNapl-dRkdD9tkI-H3ztkxIF7s-yY9dMYHoNd6VlTYQcvQBVi4eIddlJ527o99MwGZbb5zW36iXRXsSPO-bb-Yo0OSsJhmXK0dZts6NEfKnlMwI0jSeLbBko7zXPht3hcOJJGGcW2Z9BJfmUCLNlp3vl1SWRXTPOwtxaJQzcz_TorjXg6__4QO20gkz2sn_RZsV3ILLyiYyoc-TG2SzovJbZ1jCD5BV6DVLbTAn2kGKMwO5uwnUFABwHRdMq_sbj9B9YPRUcGGC2xVYqObZXPLiUAO6C4nFJXa1RdVUc-pQJsUYCzE-E991UBEq1vYEMlKCrqsmG7eLF3gXAQczgyWlfCSu-mZmzRywGi3WywG6m2FJUFptI9Ml81kIJ2trEXKnIoB6BZqH8dFaapCETg4QK8i3us6GqR8-VblnU6SV50p6JQZWvCLtXs4JLfQzKZ0UuBshrwcBGorlStIByFIPCYkp4pPbuIwbbLDS7EJrkdXbamnUomgRIPqT9YzMBSpxVSqedcbaQStR4z6eEZQFl_a19YK3bjGyqG0f09ot7-bp_R8-VoKBJxhAKcqrwlnHPS3aTaDJuqwU1F7_ya3ksXIYUerz6MJqje_KYSuy0N-6IMLqioQvftR5nmt86QqN_EI-aNZBaXoj6lIM4gdTx9ojgArriaItQaiY7H7x-YIyfbfF86g3QzY4bhHpGITiAGBqut4dRXSlC5gcawwPS-F7MPmiMeE6d47-jGdBTUMhbhnSbgCivpyyPbUJao_LCR5PfY9ut2XL8KEkvEF_zvV7lXxMIjCV9r4OkAYTDOtPVYXTzJ8UHV3X-STi9fFdp212u5cckHbR8isRuH838jzvEoBq7_bM7cQeriI9ZDnvypDhiM33G1pChjhlfSg4lcYhem-5dxV92ZvcxkS7Rm9LK4ypBTp9I4kgd9UMD7yEOX-UjHCDQ5yow../download\" -c -O 'images_005.tar.gz'\n",
        "\n",
        "!cp /content/images_005.tar.gz /content/drive/MyDrive/Colab\\ Notebooks/DataSets/NIHDataSet/images\n",
        "!mv /content/images_005.tar.gz /content/DataSets/NIHDataSet"
      ],
      "metadata": {
        "id": "kPyaHGtZcbK5"
      },
      "execution_count": null,
      "outputs": []
    },
    {
      "cell_type": "code",
      "source": [
        "# Download images_006.tar.gz\n",
        "!wget --header=\"Host: dl2.boxcloud.com\" --header=\"User-Agent: Mozilla/5.0 (Macintosh; Intel Mac OS X 10_15_7) AppleWebKit/537.36 (KHTML, like Gecko) Chrome/101.0.4951.54 Safari/537.36\" --header=\"Accept: text/html,application/xhtml+xml,application/xml;q=0.9,image/avif,image/webp,image/apng,*/*;q=0.8,application/signed-exchange;v=b3;q=0.9\" --header=\"Accept-Language: en-US,en;q=0.9\" --header=\"Referer: https://nihcc.app.box.com/\" \"https://dl2.boxcloud.com/d/1/b1!9uOYP0ydiCuM4w5hTWZ0oyTY-VygX4LYiZR8P_DVec9XEL5GhoXUzyFHPcpiitqhCkzrB6kS3UDnBiIRE9H10k4A2AXyrKIq73pI0FHj40N16NJMPCROeJSPILzWnBMeMCwedwm39jkXrkz4ZQ8C_Io_L-TLBw6haf7iK7GUVzlQ-fgCBVoGeF5qz2Au_b_Co2L8RjDpeKYRmjB3xDtCYBGiTcZJu3DRn5eYsxPGakUPP4j0EoLmVSoKpMEW0Q31HErA6nDv4v2trEK6c4qi-mNAA7AjPCEJSMAqjgMHeaI7Xbswsf9bpUCxpr_a1Ngmp4eLzVmTu_JByfwSmFKGlyRMDqlI2Wj2PMQ7lw656wmIhu_53bqTaPEI9kE-W1hwh3ia9bTHYIruyfvw1V_HVhcmGJERUBoxvBcG2fTG7OH4SAdNeHolicVEfxnnQN6CfheJRqi0mDckMGnrQoC8HlxRbZ6BnOFCotOsuu2y1xEINXgB4khFW9TmQ6NBvvv7IMXP_YguhEbYY-4FFjoeUnjpgMSlT9HAlZDIc4RL3H3Sn7WcIFnY9a2B8q1PFhuO0qyTfqwXYzVMfN2N7Z07XuLJOKBVv3QWbfR6NZX5SI3NZM7yMYkJ3ULsWSPGo0n2T4DJ2uhGMSeDN1VfwZhmdDDAUY9QfXeWKWxTmUTJpBlhYqc9awdroXN42PpmN6MGa-kDbIrAUTiF0mpYYJiZdfGsfGiz3EiyY0Ply3svE0535NLkufDohBJqF105-bGLEvzayxgQh63D1QN7AKyJv5I_jHD9hS8-CrdBtT_UVN-je94SCLWvMTbT9wpObvrkQkD1coreeUEjy8HuvU4MBeP2cHnbiHPoeOja-76bSE-m6S-7wrFOwyHRRMwBVUyj8vGP8ShCS1_ZCNZ7-_eDVWDTtveJ039MgTy4VCA4-BIrNV-tu7YDfxiF3cY5-CE8c0RMIMaxnwhBlr_8Qvn-V-IgVPGHjG_dqxvnCdbcdK-R9erA2UewY--gjJE4YFO2KlgCu9KhkHYd-om6QT7GoPbbJKbp-6z8RmuXuTKW1IUyUwyMGLYsjxciQiPj9U8tGE01nPlnarroTeCqNBFuM3WogkK8F-q_UfLMQoKWuo1KD_A5NboAplqgSaJFiwu8JbtoEprDXaWzPF26_-QuRhfm0gvPkpmmqE39EBu4tzgB0bgJTccp1CAmBc9ixbnHByqDB7puH03xrP1efkffnLDsmySfvmBf5utvY1UgcPQotIRqK9wxffOa-ySQLh72xtVcbt4KzsWF7FDd1N_Ny9puBEzhuIebKQ../download\" -c -O 'images_006.tar.gz'\n",
        "\n",
        "!cp /content/images_006.tar.gz /content/drive/MyDrive/Colab\\ Notebooks/DataSets/NIHDataSet/images\n",
        "!mv /content/images_006.tar.gz /content/DataSets/NIHDataSet"
      ],
      "metadata": {
        "id": "rk15n6RNfVCO"
      },
      "execution_count": null,
      "outputs": []
    },
    {
      "cell_type": "code",
      "execution_count": null,
      "metadata": {
        "colab": {
          "base_uri": "https://localhost:8080/"
        },
        "id": "llcM-VA6YslX",
        "outputId": "3cb1256e-56ce-4fba-da34-004c3f8bc5f3"
      },
      "outputs": [
        {
          "output_type": "stream",
          "name": "stdout",
          "text": [
            "--2022-05-06 17:21:41--  https://dl2.boxcloud.com/d/1/b1!V_E42u6UlVkDGOSAagBRpmsL9DIxGEhkEuLxvmoVTkTbAnSvpNSBV1oRgOTqmL014SimnuHjdSgkplQPMPsIsjCEyvd4qoqBVzzsjWLqQ8uWZDXMf3Q-5aPE2NMnn8OQAt0lEn_0oFKRJD0mx_ozXbulLEd4jjoY3Pr9OGwWlYPFQRMQDztN1YM6kvtBFMGZQM3rlIzcg3jN6n1X4ftGHzgU9TnSGPMK5fx7VB951x6f_727Yzoeg5Db3x8Cjz7M-H_a3niwUH_zUgVlX5UULlGOhtoaW-444YCMbzbXtEURKkByxN8tIZlpo2WnJBQRe5HgwxXcGvjufsl5XWPc3w8tRfcMipfgZ-1V_GEG8TqaH68fm_Ld_pI28LdnYXp6IPLgw5y611m5eyKUMglxv0_FkuNTnAAfvGu6-o9Z8scTE58VZ8gaQw2gJfz4b_dYfMYbkgpoXbMwtVh8L4VKsihUqUzTwsc1rIZ-vBEZEuSyh4yL9TIePtI-lqyJM8CHYlGknvy17njfnQaz2BHYVEsXUynTvhEhwkDhkyKpMKycMc2Wt9ksoqJLx4ZQRd3hAy-zCIm-n0-yfkFjGWsZaItVuuNVyAeh8POcStd36RXMa3tP91I71QTvtVaIQoJ06Sj3m6lk7YiXGgE4hRiyU05uICifT7RSF74ifuDvGM8owIrQdoVzN_GggglK0ycaEduVNNhdOllfjBQ_y53_DhiCgebOGL8d6cM3R3qF0wnET-42ni3hk87yLImCeWeVWM8z3jkofpI2YHkNtWoW3r7iVqfVwC4kjOEQMV-ImrkyC1duZjBFkOtzVh_ADjeRQ3z2DlgH3Htg7WZbWtFqZZFHixGWjrHQfL3smBOgkHJi-P3nj4KbF8mj2cVYdDV55QCpLG8C_byi28JOuVVRWgEOXA1COehIdQa1aOlThHf4SiyHpsa7SdEj2D0NXITbXouqz95XyaEV2vpFDiPQCG2_fmRwudc77U9uAU1qZnJIdFUfrW7szMmkpaKCt3bdQQRFVnNwDF07hy3r2DX8XegHOdhxbCBM14rrzLg4jb8ZGOVEnzvcaxMa-bJJeY2Me66F8BjiB0NlWQBgSqBbz3kkEZhaD48K9nNiqSTaTG8W7xM4VxcmCuJS_q7POVkdiZMTuSBYgMmqzNUI6SDBOnK315NQ0WB5etNtsMF0cB2ty6vY0QVD_lcfcsr_0smgWIN13-wA9lZuUpyESV2S4bUXUzF5xIrcc-81crZ1p9Gy2phcn-ZsETDlQqtAZ59tcYxk1UEjbFqgzwZPoEhqyUxVPc4qUTBZmBDqyHXlPHo8iQZt/download\n",
            "Resolving dl2.boxcloud.com (dl2.boxcloud.com)... 74.112.186.128\n",
            "Connecting to dl2.boxcloud.com (dl2.boxcloud.com)|74.112.186.128|:443... connected.\n",
            "HTTP request sent, awaiting response... 200 OK\n",
            "Length: 4016328426 (3.7G) [application/octet-stream]\n",
            "Saving to: ‘images_007.tar.gz’\n",
            "\n",
            "images_007.tar.gz   100%[===================>]   3.74G  5.91MB/s    in 13m 34s \n",
            "\n",
            "2022-05-06 17:35:16 (4.71 MB/s) - ‘images_007.tar.gz’ saved [4016328426/4016328426]\n",
            "\n"
          ]
        }
      ],
      "source": [
        "# Download images_007.tar.gz\n",
        "!wget --header=\"Host: dl2.boxcloud.com\" --header=\"User-Agent: Mozilla/5.0 (Macintosh; Intel Mac OS X 10_15_7) AppleWebKit/537.36 (KHTML, like Gecko) Chrome/101.0.4951.54 Safari/537.36\" --header=\"Accept: text/html,application/xhtml+xml,application/xml;q=0.9,image/avif,image/webp,image/apng,*/*;q=0.8,application/signed-exchange;v=b3;q=0.9\" --header=\"Accept-Language: en-US,en;q=0.9\" --header=\"Referer: https://nihcc.app.box.com/\" \"https://dl2.boxcloud.com/d/1/b1!V_E42u6UlVkDGOSAagBRpmsL9DIxGEhkEuLxvmoVTkTbAnSvpNSBV1oRgOTqmL014SimnuHjdSgkplQPMPsIsjCEyvd4qoqBVzzsjWLqQ8uWZDXMf3Q-5aPE2NMnn8OQAt0lEn_0oFKRJD0mx_ozXbulLEd4jjoY3Pr9OGwWlYPFQRMQDztN1YM6kvtBFMGZQM3rlIzcg3jN6n1X4ftGHzgU9TnSGPMK5fx7VB951x6f_727Yzoeg5Db3x8Cjz7M-H_a3niwUH_zUgVlX5UULlGOhtoaW-444YCMbzbXtEURKkByxN8tIZlpo2WnJBQRe5HgwxXcGvjufsl5XWPc3w8tRfcMipfgZ-1V_GEG8TqaH68fm_Ld_pI28LdnYXp6IPLgw5y611m5eyKUMglxv0_FkuNTnAAfvGu6-o9Z8scTE58VZ8gaQw2gJfz4b_dYfMYbkgpoXbMwtVh8L4VKsihUqUzTwsc1rIZ-vBEZEuSyh4yL9TIePtI-lqyJM8CHYlGknvy17njfnQaz2BHYVEsXUynTvhEhwkDhkyKpMKycMc2Wt9ksoqJLx4ZQRd3hAy-zCIm-n0-yfkFjGWsZaItVuuNVyAeh8POcStd36RXMa3tP91I71QTvtVaIQoJ06Sj3m6lk7YiXGgE4hRiyU05uICifT7RSF74ifuDvGM8owIrQdoVzN_GggglK0ycaEduVNNhdOllfjBQ_y53_DhiCgebOGL8d6cM3R3qF0wnET-42ni3hk87yLImCeWeVWM8z3jkofpI2YHkNtWoW3r7iVqfVwC4kjOEQMV-ImrkyC1duZjBFkOtzVh_ADjeRQ3z2DlgH3Htg7WZbWtFqZZFHixGWjrHQfL3smBOgkHJi-P3nj4KbF8mj2cVYdDV55QCpLG8C_byi28JOuVVRWgEOXA1COehIdQa1aOlThHf4SiyHpsa7SdEj2D0NXITbXouqz95XyaEV2vpFDiPQCG2_fmRwudc77U9uAU1qZnJIdFUfrW7szMmkpaKCt3bdQQRFVnNwDF07hy3r2DX8XegHOdhxbCBM14rrzLg4jb8ZGOVEnzvcaxMa-bJJeY2Me66F8BjiB0NlWQBgSqBbz3kkEZhaD48K9nNiqSTaTG8W7xM4VxcmCuJS_q7POVkdiZMTuSBYgMmqzNUI6SDBOnK315NQ0WB5etNtsMF0cB2ty6vY0QVD_lcfcsr_0smgWIN13-wA9lZuUpyESV2S4bUXUzF5xIrcc-81crZ1p9Gy2phcn-ZsETDlQqtAZ59tcYxk1UEjbFqgzwZPoEhqyUxVPc4qUTBZmBDqyHXlPHo8iQZt/download\" -c -O 'images_007.tar.gz'\n",
        "\n",
        "!cp /content/images_007.tar.gz /content/drive/MyDrive/Colab\\ Notebooks/DataSets/NIHDataSet/images"
      ]
    },
    {
      "cell_type": "code",
      "source": [
        "# Download images_008.tar.gz\n",
        "!wget --header=\"Host: dl2.boxcloud.com\" --header=\"User-Agent: Mozilla/5.0 (Macintosh; Intel Mac OS X 10_15_7) AppleWebKit/537.36 (KHTML, like Gecko) Chrome/101.0.4951.54 Safari/537.36\" --header=\"Accept: text/html,application/xhtml+xml,application/xml;q=0.9,image/avif,image/webp,image/apng,*/*;q=0.8,application/signed-exchange;v=b3;q=0.9\" --header=\"Accept-Language: en-US,en;q=0.9\" --header=\"Referer: https://nihcc.app.box.com/\" \"https://dl2.boxcloud.com/d/1/b1!7hU8oC30zyvUf6Q4eDj49U94L093A4Urn14Lwl4VRIc17d4TcnUxMeEh_Nm7X5tVAnT-5XR3V5hyDraVEcdPs09-hRfOhPB2tcuuMIHwXeWTgV9Il8MgwdYxRKdo46XtqzAs6dLobu7urVMIprM78dWYUwAjLIEm_7yTa5BLDS34M9yp_Ouv4EmZIYqW2jwekupHvJDUZkmLBq0QVOUGitYJH8aECSwnGI3XwBC2b6tJDPGgK4niIA_arPe8SSHe_UgedsifmcZFHFyH83G2ERxyU-X98aSAvIkzlWM06F-qM3IglchKrlGylc0TEznzVZ_k67ZPUB6cdBu20yxL9fkR62th5-xdEV-GUGXk9TaL33CmmFukziNxNNyvE7WheR8N49UHqHw4mkEHFg98SK34yqxjYBpmVAPW7mBBkkipHP16h3oypszVC3utwVP9_aFR2EvXNiN3jbIyH_qpziHBYZkLD9DmrDTrGSVKV4G4tzs--z8Fop_CBhwftcU0EHuRW4vU0bEORrWB2u4NJtQVC1Tlq8XQHF6XtmBeLGBLLEJh80fgTmxqkFUhTBbD_wjOYkFz_uvTkaFvbGdhJBoUxM3qOIVtteFmmCTRv87LQYx2SVmg0QfE7vfub72RrJMepnGKvokuhWI12HU9UoVfb6ippp61IB3CctShM4HSBOtwdrvmCTkFdveuTVHYL99V_A9lWjPutlbjqIXr_5NbgaWFWu64klcYgsH0u79-08Jz_aKguYkSPuIKwVXRxXPpMORCAl2L1FUjk5-Obz01azxMWBQ6rZ2SGvp9RMP2TzfaEF2QupPDVGJ6Iu4kNGgGRiaSSVWwNDveX6CGVfY8r8IIbapySczSyEnN5WHJZXWGdihaLlXraCTeFqGqlsuzZSpCkq_0tQw-vIoWfDw31yoqlUNpyOEYHnH6E6wW-3osEtEiYl1WWduTfCJwQDBwud3oz7Wla3dvn6uIzfDmpxtnHhl7gW2h9j-Cy_awD87msk36W8LFRBnAwAlTgmMK6x1CuWJya8cJi2KLsW2eCcw73v-j1tTXmcgtDWHkxhzbOLLP_6cjpYQhAo-ztk1BPxeUiVEd6HnnFD18u3Xwti20a2SLQQ23Nazi7AhtIww32PcXTTs1Ked3GrL6GNfDAnsILYjslfzVNyIzCD_RAZPAhGtEvgobJ0LYhQhgrAzSfEMC83Khh2GsC91xPB-hi0zHAPG600mn2syQlqA9VDUFS0jfVPlr-1_RplvRj__Eg5hRyMvcfPxNTJM9NKl9OC94v9kzTA../download\" -c -O 'images_008.tar.gz'\n",
        "\n",
        "!cp /content/images_008.tar.gz /content/drive/MyDrive/Colab\\ Notebooks/DataSets/NIHDataSet/images\n",
        "!mv /content/images_008.tar.gz /content/DataSets/NIHDataSet"
      ],
      "metadata": {
        "id": "1Qbv9U0liBsc"
      },
      "execution_count": null,
      "outputs": []
    },
    {
      "cell_type": "code",
      "source": [
        "# Download images_009.tar.gz\n",
        "!wget --header=\"Host: dl2.boxcloud.com\" --header=\"User-Agent: Mozilla/5.0 (Macintosh; Intel Mac OS X 10_15_7) AppleWebKit/537.36 (KHTML, like Gecko) Chrome/101.0.4951.54 Safari/537.36\" --header=\"Accept: text/html,application/xhtml+xml,application/xml;q=0.9,image/avif,image/webp,image/apng,*/*;q=0.8,application/signed-exchange;v=b3;q=0.9\" --header=\"Accept-Language: en-US,en;q=0.9\" --header=\"Referer: https://nihcc.app.box.com/\" \"https://dl2.boxcloud.com/d/1/b1!9BfO42xeLHFKAYfdKflTG4ElDvog67aPhWIBaAwBBqap1LjqA2GViRe71tZltNSf64CNlXFYETC8GNc1cE7Z34GqBdB_IhzDkkJ6xdvJhX2lSTe6WOpETHYMcAqIiLg7GTOUfKJQSeILZTd7cF4j3-WgRec5R5EpXRO89g4pBAyQTruEPUoUpgPVz5GpXr3bojfOgkdhmWxiOcUsnrhoxErdzoN6Z5vbVEtdd2cfleGIr9QJF6e5BWPrG_hq-lAzr_S4j3PTI6_Fpc8x1HQevklOZMPCwa2hDXNQQpvhkIEtt194R5dCX4rP9ejmzWhosvMW8tC7cTmrl5g7wEshXIAR6LPYMwO2uCVBEE2FkKZGP3oPulWBJ_M9vNyN2vMH_IhQA5o0K8YW1KVOKs3Tfn5cDgVk07_TERataKh0ROr6CRBaIBImp-uzYnC4091nwuG8IAcP_0NcZYJdSSmq_xrBXxrNlyjMsy2tTtkabZxZg5MzUF2U4cx66buOfMauQjgXWUFm8vI7Km2nzRFjZmNCc-pyPSJNGIDo8rwmgIY-nO4pQte0QbZMV1c4VHx4mbCkT5zR0Lvdtk4l6Ryod7AhHE4THR_ayuQxztg7Kdjb8HTABaBF3ocja2zxPOdSHbVu9hu3ncAKNQI2fsFTGQfRmGPv08f4-qR9ih7WIPJoN9I-06PHo1LtpfqRZpOI18jGWNP_cdzKJg9xhfSNpRYHqY5oPVesc3eb93uSf--owX3zX-BDLg90P9DAiyNoG2ff3Z3qGCa1IgKkQybZxbEevLGsZZWmqbUy1J4relH8-eVXc678iqNMlTzF0FNLrsuE1rKrxbvUS9eX1KtjcC8ocxGR7oEwxcL08vqgPCag2SZS5eIG5Z8nurkuH9wYFS8toNtCIkpwgVqZVjtIvQCmPFkAsNAjC7kust0yqG_Ym8DtOP670XbKZJWe_5dVBkGR_OfVREp6IZ88NQG11h8fyJdgHkLD3C1w2YvfvSpfo6jHcWYOzP8DjeA6UhJx94LV_x1kWWJZnlLLgqvk_ZfQxj9eoQ5KSxMxbKEvtjgtzXOLiyyhojmL4WzAIYhNA9YeeRhRFcys68DShRYrcqEUhdrbKu6eCZETGjnXGTDY85CWY1zE0D45aB7UEJ8oeaKP4LcbwjLyX5le6njfgqHbcXRgCFITKkGsccsrQdo59AiymkQL7xs_KoSrfb2-q8daZXliPlnD_MFke8Fv8fL2LBg39BwfWM_jhyK_37vcKLk58kzxJLH-jibHDaKi4VPBp199lFuYlFov3z8D5Al5aum66aFKKdamjmPNZXMrgrAe/download\" -c -O 'images_009.tar.gz'\n",
        "\n",
        "!cp /content/images_009.tar.gz /content/drive/MyDrive/Colab\\ Notebooks/DataSets/NIHDataSet/images\n",
        "!mv /content/images_009.tar.gz /content/DataSets/NIHDataSet"
      ],
      "metadata": {
        "id": "m9GeLwdXkZAa"
      },
      "execution_count": null,
      "outputs": []
    },
    {
      "cell_type": "code",
      "source": [
        "# Download images_010.tar.gz\n",
        "!wget --header=\"Host: dl2.boxcloud.com\" --header=\"User-Agent: Mozilla/5.0 (Macintosh; Intel Mac OS X 10_15_7) AppleWebKit/537.36 (KHTML, like Gecko) Chrome/101.0.4951.54 Safari/537.36\" --header=\"Accept: text/html,application/xhtml+xml,application/xml;q=0.9,image/avif,image/webp,image/apng,*/*;q=0.8,application/signed-exchange;v=b3;q=0.9\" --header=\"Accept-Language: en-US,en;q=0.9\" --header=\"Referer: https://nihcc.app.box.com/\" \"https://dl2.boxcloud.com/d/1/b1!fxNtIDJ1mVRoHFkZTRE_j52Dn3wQArvDz2cXpEGP6-LwEqDZ34rDnwG5lKKWIlLsh_dTzVX4BbxFm07o_slueqq9Nqjt2HyteTePe3_z-3NE3tJJcEAh54WK3m3JfYLYB39v0lQzeJcvivKhlqLd0Um-O5PqksdoQOzEG2oYTaIFx8gCeW27YGbNr7XB6fF_6L7JrssIKT9uaMrGhQ2--lVH5uZOxMQuvuQ5R1Ov8lg7-JCbsV4gJAwu_2Ka6SUs3kkP190L9V3BzXAgb53DmVg8O94UqjlIBcJEjCUIemaRHiWkSHV0oKd77UU5agfX6y8dGMl2RpA_ibFhfnOwCFGBJHWx5bCkHW3pScJ6uSDRj6KvvolgAfMcenrrzSsD-rBh_8RIGvJeeXiU4hxLyAdYBNpwPnh_s021WIF2Ev1jFbLdAUZusxLuf6QlLWaPKnBb30daEw5RSsIxLB1TTGAPczmmPL8WTWgUJROwToLh1AmbbhsuZLmbPAHbzNNl7EgwfNMlnkzIlZWLlGebR3I1FH9VTzp9Y0eukZyMKngKLN2_u0_x8XQ0jis3shBhYltXcaHBhy3fL6COYP8e8iOZBwOV156zvmOizFPekFxJ2Gn7p6rLy73DFEWEKEvdVoarNJkWPdhzp4K389q9yHd8DfjvQxPCKClMqAvh-3HCZ_oNIW81-jgjDoNi9VqG796Z3Kb7aYm5iW-8cm1DzaDH27ohEvy-g7eHSWcXK6KJYz97q8Z9JxPsEIL_Iicgt9WGD788rZccuMVAPdFykLEEG_FLrHzSMs8vbLJonnkkYHeX6h2FZB8ZL6vjZt-d_qqSYpamoCn8kvD8sLNTzVATI-e9v97LMzkNLoY4IYegGQvmOsjWoYTuJ5k_AWHuFb8nZSVulCL1_0o9wjRApze3Zp9gHLyhOsJhzGenllzoEv0g5fgk9Qut1byTMkhso98vzMKR_3ZAraqK1aMVgIPpjuvkdaUECkZPLxjJl73CYWhiSpZcfZK352nVZhiG7dVoPlRq6KbZA_-nj9nIT4g_SPF4b27CSy0xFmT__r9QarL_eqBvtjixsLmcLlZZeZzhWhC3gNQA2g4m_7JB0bzokpXqUp9kv-lXvnVIASbmSwQ0y9vdv0fp1GhWXR95AkBynfZDyAYW6qlMZRoN6qDtZE5RRWqqCtD3R9Q6ArdjA8kKKTguQw321Fv61q-lZXXWTdjpZN8qOAK_o-8xXEZ7tv0FjpqyitezUSKqc1IO2RfswgGPNTB5nIogw9535pR8ye6WfWdXsA../download\" -c -O 'images_010.tar.gz'\n",
        "\n",
        "!cp /content/images_010.tar.gz /content/drive/MyDrive/Colab\\ Notebooks/DataSets/NIHDataSet/images\n",
        "!mv /content/images_010.tar.gz /content/DataSets/NIHDataSet"
      ],
      "metadata": {
        "id": "pmc7-YIHp1LO"
      },
      "execution_count": null,
      "outputs": []
    },
    {
      "cell_type": "code",
      "source": [
        "# Download images_011.tar.gz\n",
        "!wget --header=\"Host: dl2.boxcloud.com\" --header=\"User-Agent: Mozilla/5.0 (Macintosh; Intel Mac OS X 10_15_7) AppleWebKit/537.36 (KHTML, like Gecko) Chrome/101.0.4951.54 Safari/537.36\" --header=\"Accept: text/html,application/xhtml+xml,application/xml;q=0.9,image/avif,image/webp,image/apng,*/*;q=0.8,application/signed-exchange;v=b3;q=0.9\" --header=\"Accept-Language: en-US,en;q=0.9\" --header=\"Referer: https://nihcc.app.box.com/\" \"https://dl2.boxcloud.com/d/1/b1!8xsw0Fbz9fLMpIlRogR44HQVL53uVTV97AJqeWFcmZfBHGD5bQdPM4HQqEbWh7ayXqGMXYiat6z-Ms_4lDjugq33DYeEWeYFyQrbbf1SJWlAHPe0Zp1JP9XgjjpLolKXavtwo_HKlKiDsMoBGEMWy1x8Lcf7FbJwt3XZKSXX-Hx8eE7AlCuDHBsiKvfm-FQiwHzmSwuOtsjVEKTZII0LXprdnXACT-pf-e3by803sUyQIN4HUtTtnv2WZnVzSXi1kdEm7SKb1PY6StJMeSZepvylokHBYqrMOsPJk4-JmiR1EhO_oHgQMSLE015vb3ATCbIMKZr5tfejWiW_8dB7gtXEy42L8OrLxXd9rfxXNM9g5HeDhMiyGuOMmcbHQRikVmH2X0FUHTBd6PbJQQTN6ZzYfsc6weC6nHqSvj1vDEh4y1UvOR66v_ryOTDq2eIzxFt7MsYM5556zBQ0_R3mg0p6FGVXRnpAEyxL0o8hk-4FoPHyNZELJJDUG5s6dAAGcECa16nZzXZmszfXZRyAzWWk5ZFb39VH7t4ItewdUqfJKEEiGrSyt8_w_hkEWYKWS3XxqB5yq4pyMLyt3ZACnklNvVVdZLigpoYjLefO6KGwLWtNN5U2zKIrDMOi5u9hiwUbGsg3OThjOAEc7QcyDoMgfCATZlR7iUhwJFmWwZJtaROe6R2FuUhkKACZktc_2liGi8mNOP4MDux8WkvMv1NrJnmubE22EZa1W0_OxVslggAKdbUt_vm2urRaTyswAQB9_FENENurgSPDTtSw_oVrYHQO2FuRerbtjF4xgNrnU7jXvExWW3RJm7t8d8tJP8Z3BuC1x0CKY3YgLZtmOmetuXXz-F62-nAsdmwB02nez-i8hFjvfyqGXEg9WOelGoAMXDpStswvjUHiT_8HL6YCAsmxCGGM-5DFAQRqaRLcJm7ppkZSVArzhWcBqYjqmXkIPHGlvDBivmZYc_rnv_tWb4YUlEW-PvnuWfMShWrklU-zG-O4bCyZEWfK_8bJIJ-1UGVPV1wnJJ0wQ2tiOMrYV2Qqidhdn8ABKSrMX9iwBjqeZ7EOOjKdN9SSfcw_pz2WvlLuWBDuTootZFHgOMPu167n7uUjz--GBxa1aGuw5ncOIwfGmN4_Ckdxyoaa_t-pwRHeKLDykrdXHsTysNYHjzYL48y_vpa_13F0uPlKv1Rm8U3w0BMyZyW1lWegkgUVJFwzInnYXUyqWg3-IeaE2IxL6BZKz7UaN4w7Wk4r_Slo_IiX2J81Vko8XE1JWWwFGUbn8CA3c_yy_kpPoOM9A7yceZJhWg../download\" -c -O 'images_011.tar.gz'\n",
        "\n",
        "!cp /content/images_011.tar.gz /content/drive/MyDrive/Colab\\ Notebooks/DataSets/NIHDataSet/images\n",
        "!mv /content/images_011.tar.gz /content/DataSets/NIHDataSet"
      ],
      "metadata": {
        "id": "hsEG8LVpqi1y"
      },
      "execution_count": null,
      "outputs": []
    },
    {
      "cell_type": "code",
      "source": [
        "# Download images_012.tar.gz\n",
        "!wget --header=\"Host: dl2.boxcloud.com\" --header=\"User-Agent: Mozilla/5.0 (Macintosh; Intel Mac OS X 10_15_7) AppleWebKit/537.36 (KHTML, like Gecko) Chrome/101.0.4951.54 Safari/537.36\" --header=\"Accept: text/html,application/xhtml+xml,application/xml;q=0.9,image/avif,image/webp,image/apng,*/*;q=0.8,application/signed-exchange;v=b3;q=0.9\" --header=\"Accept-Language: en-US,en;q=0.9\" --header=\"Referer: https://nihcc.app.box.com/\" \"https://dl2.boxcloud.com/d/1/b1!1xVz1I7r6ELch4518Q3ZlOlN4SUnqJDQQjNxELFSFFTERXc2I_PnBZg4AzUzTo4bJ1PDzC3Mk6zwBPmoJzFyg4WX91wQHg9uXLr3fQ78sGMf3oUZsdInspE9BzKDgDE_RzKReyBpHtVYu7PJrCgxNc-TGbO5wGlu7pau2AF51PXz-7qRmx3gdLY4ocZNYn5t0Ado6WgNXvsP0gekg9sl8udwAxnHNo9qzB4XCwEMFuxwRkkG-Tyfv_TAOCELQfmzKHWHqI2kje4z7ijoVhzRq4lnfZRyVbOJS7TlPGWOEVrqxOCt00-a4a-11L72nC_f5K26lFE8BrYC4SOcnlAE5RjKFHWEVLZCdsSEvyYpMPA_arR4RKBDbSbe2XS_3kG30s3HvZGZp-APVeZusFij6KRsvvShCb4HyNyr25u4QzoIWoIRHh5vjcoUcpQtlEuQErof-_C0RLLnJTyKDiZcse1TuLTjlldXHr7s54kQ2VVCv84q8auS6IBanL2rwvlRq2a_Q9Ogy-C-OAO0AJD_W_B2XcUx3CroNyL7x2FbL8wGSzSEWy0sL0oM86E16hw7g-AWfIkkzStLGdaa2KXFh1mDeKR24Liwq3dm04GAJczUGh1ghpJZCLFIIfxJIpBrpZZT3bINJKSQKNkfXNEQRnDpsRuDhziNjxJZ7WLDRB3fXzgeMQ9-tWomybU3JfBLaHmdFeKd9LJzNLfzsi9I4gAifMSlgv4_DawYK-ICscF3X9-jbYNeb5ABwbvP-myewMY6pY9y4X8Xvx_vAnBlzXJUut24w8qfvzpTdQHjnbTdSeNKiyvmmi1KSyf3vusRLudNJv3T88X5lUQg4mE76ooI1lOFoovSHWU352cB_dJKUX5aLNIodiADAvn80WPrvoTWPp7_8s0vRW1jiu7pKw7NmOKajwh-NTleOAcYVPzvDJoY6LpkmpE_E5mINm1CRI9S8bJV3sEgJiP0GzwrczAkEqvlaJB7BLPFFdjLpJTziVe7ejRMHKcWCKNPHKKAkqtnFY3ee5F4HwavwLQiod2gkyoI35bvdVGtdSoJcW7ZKjJoOeyXtJAgUWI1-5kV_SdJtkXwha3cioUVriffGqIskIHf3eQVY1BuNUK3cvHf-PASRxcT-1ZkmEvD2fjAJVVNJLT2qbWdNtyxvOfRjiAWw-LVKEoJeAfqT4XcVxtwE3qWCFoS5r6Zjz770HvtZMQ8IbgvJGvjqIykVhXV630Q0yxHSOq0JPD9C5_1MS9vyv-EggRfo84R82lC-sia9xco4alUX-IaoosL0KsOpRppnH6r1xQyTM0I42ZrKMoPte4y/download\" -c -O 'images_012.tar.gz'\n",
        "\n",
        "!cp /content/images_012.tar.gz /content/drive/MyDrive/Colab\\ Notebooks/DataSets/NIHDataSet/images\n",
        "!mv /content/images_012.tar.gz /content/DataSets/NIHDataSet"
      ],
      "metadata": {
        "id": "xyyvg5lZuNkC"
      },
      "execution_count": null,
      "outputs": []
    },
    {
      "cell_type": "code",
      "source": [
        "!ls /content/drive/MyDrive/Colab\\ Notebooks/DataSets/NIHDataSet/images"
      ],
      "metadata": {
        "colab": {
          "base_uri": "https://localhost:8080/"
        },
        "id": "EJaUiSaxcF31",
        "outputId": "baccec19-68cc-468c-caed-72aa466604b2"
      },
      "execution_count": null,
      "outputs": [
        {
          "output_type": "stream",
          "name": "stdout",
          "text": [
            "images_001.tar.gz  images_004.tar.gz  images_007.tar.gz\n"
          ]
        }
      ]
    },
    {
      "cell_type": "code",
      "source": [
        "!mv /content/images_001.tar.gz /content/DataSets/NIHDataSet"
      ],
      "metadata": {
        "id": "m5US2ImTcoRS"
      },
      "execution_count": null,
      "outputs": []
    },
    {
      "cell_type": "code",
      "source": [
        "!mkdir -p /content/DataSets/NIHDataSet/\n",
        "!cp  /content/drive/MyDrive/Colab\\ Notebooks/DataSets/NIHDataSet/images/*.tar.gz /content/DataSets/NIHDataSet\n"
      ],
      "metadata": {
        "id": "OpUEtlZ1eAMn"
      },
      "execution_count": null,
      "outputs": []
    },
    {
      "cell_type": "code",
      "source": [
        "!tar -xf '/content/DataSets/NIHDataSet/images_001.tar.gz' -C '/content/DataSets/NIHDataSet/'\n",
        "!tar -xf '/content/DataSets/NIHDataSet/images_002.tar.gz' -C '/content/DataSets/NIHDataSet/'\n",
        "!tar -xf '/content/DataSets/NIHDataSet/images_003.tar.gz' -C '/content/DataSets/NIHDataSet/'\n",
        "!tar -xf '/content/DataSets/NIHDataSet/images_004.tar.gz' -C '/content/DataSets/NIHDataSet/'"
      ],
      "metadata": {
        "id": "T9hWxLHwfMFQ"
      },
      "execution_count": null,
      "outputs": []
    },
    {
      "cell_type": "code",
      "source": [
        "!ls -lrt '/content/DataSets/NIHDataSet/images' | wc -l"
      ],
      "metadata": {
        "colab": {
          "base_uri": "https://localhost:8080/"
        },
        "id": "Rr8OBcctpNRq",
        "outputId": "8387ce11-83dd-4b7f-d0ea-2722deb365d0"
      },
      "execution_count": null,
      "outputs": [
        {
          "output_type": "stream",
          "name": "stdout",
          "text": [
            "15000\n"
          ]
        }
      ]
    }
  ]
}
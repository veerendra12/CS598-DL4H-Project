{
  "nbformat": 4,
  "nbformat_minor": 0,
  "metadata": {
    "colab": {
      "name": "ModelFactory.ipynb",
      "provenance": [],
      "collapsed_sections": [],
      "authorship_tag": "ABX9TyPL41Lbip4MM2m4e5NKv7iM",
      "include_colab_link": true
    },
    "kernelspec": {
      "name": "python3",
      "display_name": "Python 3"
    },
    "language_info": {
      "name": "python"
    }
  },
  "cells": [
    {
      "cell_type": "markdown",
      "metadata": {
        "id": "view-in-github",
        "colab_type": "text"
      },
      "source": [
        "<a href=\"https://colab.research.google.com/github/veerendra12/CS598-DL4H-Project/blob/main/notebooks/ModelFactory.ipynb\" target=\"_parent\"><img src=\"https://colab.research.google.com/assets/colab-badge.svg\" alt=\"Open In Colab\"/></a>"
      ]
    },
    {
      "cell_type": "code",
      "execution_count": null,
      "metadata": {
        "id": "LY93X_u7j00B"
      },
      "outputs": [],
      "source": [
        "import import_ipynb\n",
        "\n",
        "from Utils import get_device, load_checkpoint\n",
        "from Configuration import CONFIG\n",
        "\n",
        "import torch.nn as nn\n",
        "from torchvision import models\n",
        "\n",
        "import torch\n",
        "import torch.nn as nn\n",
        "\n",
        "import torchvision\n",
        "from torchvision import models\n",
        "import torchvision.transforms.functional as TF\n",
        "import torch.nn.functional as F"
      ]
    },
    {
      "cell_type": "code",
      "source": [
        "def get_densenet121_model():\n",
        "    DEVICE = get_device()\n",
        "    num_of_classes = CONFIG['NUM_CLASSES']\n",
        "    model = models.densenet121(pretrained=True)\n",
        "    model.classifier = nn.Sequential(nn.Linear(1024, num_of_classes), nn.Sigmoid())\n",
        "    model.to(DEVICE)\n",
        "    return model"
      ],
      "metadata": {
        "id": "j-wFjXTfj3bi"
      },
      "execution_count": null,
      "outputs": []
    },
    {
      "cell_type": "code",
      "source": [
        "def get_fem1_model():\n",
        "    fem1_model = get_densenet121_model()\n",
        "    load_checkpoint(fem1_model, CONFIG['FEM1_BEST_MODEL'])\n",
        "    fem1_model.eval()\n",
        "\n",
        "    fem1_model.classifier = nn.Identity(1024)\n",
        "\n",
        "    for param in fem1_model.parameters():\n",
        "      param.requires_grad = False     \n",
        "\n",
        "    return fem1_model"
      ],
      "metadata": {
        "id": "ZA8EzA2SjNkM"
      },
      "execution_count": null,
      "outputs": []
    },
    {
      "cell_type": "code",
      "source": [
        "def get_fem2_model():\n",
        "    fem2_model = get_densenet121_model()\n",
        "    load_checkpoint(fem2_model, CONFIG['FEM2_BEST_MODEL'])\n",
        "    fem2_model.eval()\n",
        "\n",
        "    fem2_model.classifier = nn.Identity(1024)\n",
        "\n",
        "    for param in fem2_model.parameters():\n",
        "      param.requires_grad = False     \n",
        "\n",
        "    return fem2_model    "
      ],
      "metadata": {
        "id": "x39UlEEJjPU9"
      },
      "execution_count": null,
      "outputs": []
    },
    {
      "cell_type": "code",
      "source": [
        "class DoubleConv(nn.Module):\n",
        "    def __init__(self, in_channels, out_channels):\n",
        "        super(DoubleConv, self).__init__()\n",
        "        self.conv = nn.Sequential(\n",
        "            nn.Conv2d(in_channels, out_channels, 3, 1, 1, bias=False),\n",
        "            nn.BatchNorm2d(out_channels),\n",
        "            nn.ReLU(inplace=True),\n",
        "            nn.Conv2d(out_channels, out_channels, 3, 1, 1, bias=False),\n",
        "            nn.BatchNorm2d(out_channels),\n",
        "            nn.ReLU(inplace=True),\n",
        "        )\n",
        "\n",
        "    def forward(self, x):\n",
        "        return self.conv(x)\n",
        "\n",
        "class UNET(nn.Module):\n",
        "    def __init__(\n",
        "            self, in_channels=3, out_channels=1, features=[64, 128, 256, 512],\n",
        "    ):\n",
        "        super(UNET, self).__init__()\n",
        "        self.ups = nn.ModuleList()\n",
        "        self.downs = nn.ModuleList()\n",
        "        self.pool = nn.MaxPool2d(kernel_size=2, stride=2)\n",
        "\n",
        "        # Down part of UNET\n",
        "        for feature in features:\n",
        "            self.downs.append(DoubleConv(in_channels, feature))\n",
        "            in_channels = feature\n",
        "\n",
        "        # Up part of UNET\n",
        "        for feature in reversed(features):\n",
        "            self.ups.append(\n",
        "                nn.ConvTranspose2d(\n",
        "                    feature*2, feature, kernel_size=2, stride=2,\n",
        "                )\n",
        "            )\n",
        "            self.ups.append(DoubleConv(feature*2, feature))\n",
        "\n",
        "        self.bottleneck = DoubleConv(features[-1], features[-1]*2)\n",
        "        self.final_conv = nn.Conv2d(features[0], out_channels, kernel_size=1)\n",
        "\n",
        "    def forward(self, x):\n",
        "        skip_connections = []\n",
        "\n",
        "        for down in self.downs:\n",
        "            x = down(x)\n",
        "            skip_connections.append(x)\n",
        "            x = self.pool(x)\n",
        "\n",
        "        x = self.bottleneck(x)\n",
        "        skip_connections = skip_connections[::-1]\n",
        "\n",
        "        for idx in range(0, len(self.ups), 2):\n",
        "            x = self.ups[idx](x)\n",
        "            skip_connection = skip_connections[idx//2]\n",
        "\n",
        "            if x.shape != skip_connection.shape:\n",
        "                x = TF.resize(x, size=skip_connection.shape[2:])\n",
        "\n",
        "            concat_skip = torch.cat((skip_connection, x), dim=1)\n",
        "            x = self.ups[idx+1](concat_skip)\n",
        "\n",
        "        return self.final_conv(x)"
      ],
      "metadata": {
        "id": "wNZ8FSRawSOP"
      },
      "execution_count": null,
      "outputs": []
    },
    {
      "cell_type": "code",
      "source": [
        "class SDFN(nn.Module):\n",
        "  def __init__(self):\n",
        "    super(SDFN, self).__init__()\n",
        "    self.fem1_model = get_fem1_model()\n",
        "    self.fem2_model = get_fem2_model()\n",
        "\n",
        "    self.fc = nn.Linear(2 * 1024, 14)\n",
        "\n",
        "  def forward(self, x):\n",
        "    x1 = self.fem1_model(x)\n",
        "    x2 = self.fem2_model(x)\n",
        "    xnew = torch.cat((x1, x2), dim=1)\n",
        "    return F.softmax(self.fc(xnew))"
      ],
      "metadata": {
        "id": "CQLrGpVlj1RT"
      },
      "execution_count": null,
      "outputs": []
    },
    {
      "cell_type": "code",
      "source": [
        "def get_sdfn_model():\n",
        "  DEVICE = get_device()\n",
        "  sdfn_model = SDFN()\n",
        "  sdfn_model.to(DEVICE)\n",
        "  return sdfn_model"
      ],
      "metadata": {
        "id": "qhMTVr5oop3f"
      },
      "execution_count": null,
      "outputs": []
    },
    {
      "cell_type": "code",
      "source": [
        "def load_segmentation_model():\n",
        "  DEVICE = get_device()\n",
        "  model = UNET(in_channels=3, out_channels=1).to(DEVICE)\n",
        "  load_checkpoint(model, CONFIG['SEGMENTATION_BEST_MODEL'])\n",
        "  model.eval()\n",
        "  return model"
      ],
      "metadata": {
        "id": "MwuJQN_QwkAD"
      },
      "execution_count": null,
      "outputs": []
    }
  ]
}
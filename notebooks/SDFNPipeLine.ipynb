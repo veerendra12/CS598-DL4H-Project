{
  "cells": [
    {
      "cell_type": "markdown",
      "metadata": {
        "id": "view-in-github",
        "colab_type": "text"
      },
      "source": [
        "<a href=\"https://colab.research.google.com/github/veerendra12/CS598-DL4H-Project/blob/main/notebooks/SDFNPipeLine.ipynb\" target=\"_parent\"><img src=\"https://colab.research.google.com/assets/colab-badge.svg\" alt=\"Open In Colab\"/></a>"
      ]
    },
    {
      "cell_type": "code",
      "execution_count": null,
      "metadata": {
        "colab": {
          "base_uri": "https://localhost:8080/"
        },
        "id": "eeqXf3mYXmU_",
        "outputId": "c07c797a-df43-4ef9-b471-7f08637b7292"
      },
      "outputs": [
        {
          "name": "stdout",
          "output_type": "stream",
          "text": [
            "Drive already mounted at /content/drive; to attempt to forcibly remount, call drive.mount(\"/content/drive\", force_remount=True).\n"
          ]
        }
      ],
      "source": [
        "def mount_drive():\n",
        "  from google.colab import drive\n",
        "  drive.mount('/content/drive')\n",
        "\n",
        "mount_drive()"
      ]
    },
    {
      "cell_type": "code",
      "execution_count": null,
      "metadata": {
        "id": "hX0EpjC1XS5Q"
      },
      "outputs": [],
      "source": [
        "def copy_code_from_drive():\n",
        "  DRIVE_NOTBOOKS_DIR = '/content/drive/MyDrive/Colab Notebooks/'.replace(' ', '\\\\ ')\n",
        "\n",
        "  # Copy the notebooks from drive to colab cwd\n",
        "  Configuration_ipynb = DRIVE_NOTBOOKS_DIR + 'Configuration.ipynb'\n",
        "  !cp $Configuration_ipynb '/content' \n",
        "\n",
        "  # Copy the notebooks from drive to colab cwd\n",
        "  Utils_ipynb = DRIVE_NOTBOOKS_DIR + 'Utils.ipynb'\n",
        "  !cp $Utils_ipynb '/content' \n",
        "\n",
        "  TrainEvalUtil_ipynb = DRIVE_NOTBOOKS_DIR + 'TrainEvalUtil.ipynb'\n",
        "  !cp $TrainEvalUtil_ipynb '/content' \n",
        "\n",
        "  NIHPreprocessor_ipynb = DRIVE_NOTBOOKS_DIR + 'NIHPreprocessor.ipynb'\n",
        "  !cp $NIHPreprocessor_ipynb '/content' \n",
        "\n",
        "  NIHDataSet_ipynb = DRIVE_NOTBOOKS_DIR + 'NIHDataSet.ipynb'\n",
        "  !cp $NIHDataSet_ipynb '/content' \n",
        "\n",
        "  ModelFactory_ipynb = DRIVE_NOTBOOKS_DIR + 'ModelFactory.ipynb'\n",
        "  !cp $ModelFactory_ipynb '/content' \n",
        "\n",
        "  LungRegionGenerator_ipynb = DRIVE_NOTBOOKS_DIR + 'LungRegionGenerator.ipynb'\n",
        "  !cp $LungRegionGenerator_ipynb '/content' \n",
        "\n",
        "copy_code_from_drive()"
      ]
    },
    {
      "cell_type": "code",
      "execution_count": null,
      "metadata": {
        "id": "3r14CuLJY4dn"
      },
      "outputs": [],
      "source": [
        "def install_libraries():\n",
        "  !pip install -U albumentations\n",
        "  !pip uninstall opencv-python-headless --yes\n",
        "  !pip install opencv-python-headless==4.5.2.52\n",
        "  !pip list | grep opencv\n",
        "  !pip install gputil\n",
        "  !pip install psutil\n",
        "  !pip install humanize\n",
        "  !pip install import-ipynb\n",
        "install_libraries()"
      ]
    },
    {
      "cell_type": "code",
      "execution_count": null,
      "metadata": {
        "colab": {
          "base_uri": "https://localhost:8080/"
        },
        "id": "FmUDda1HYU78",
        "outputId": "7929db58-c9df-4eb0-d646-71bed5caa2cc"
      },
      "outputs": [
        {
          "name": "stdout",
          "output_type": "stream",
          "text": [
            "importing Jupyter notebook from Configuration.ipynb\n",
            "importing Jupyter notebook from Utils.ipynb\n",
            "importing Jupyter notebook from TrainEvalUtil.ipynb\n",
            "importing Jupyter notebook from NIHPreprocessor.ipynb\n",
            "importing Jupyter notebook from NIHDataSet.ipynb\n",
            "importing Jupyter notebook from LungRegionGenerator.ipynb\n",
            "importing Jupyter notebook from ModelFactory.ipynb\n"
          ]
        }
      ],
      "source": [
        "import import_ipynb\n",
        "\n",
        "import numpy as np\n",
        "import pandas as pd\n",
        "\n",
        "import torch\n",
        "import torch.nn as nn\n",
        "\n",
        "from Configuration import CONFIG\n",
        "from Utils import get_device, memory_report, copy_data_from_drive, load_checkpoint\n",
        "from TrainEvalUtil import train_model, eval_model, compute_auc, plot_epoch_loss\n",
        "from NIHPreprocessor import prepare_NIH_dataset, generate_train_test_split\n",
        "from NIHDataSet import get_NIH_FullCXR_loaders, get_NIH_LungRegion_loaders\n",
        "from ModelFactory import get_densenet121_model, get_sdfn_model"
      ]
    },
    {
      "cell_type": "code",
      "execution_count": null,
      "metadata": {
        "colab": {
          "base_uri": "https://localhost:8080/",
          "height": 35
        },
        "id": "cdKbbw4s14XU",
        "outputId": "efe5c4ed-1e2b-4bcb-a60a-30b2b27074b0"
      },
      "outputs": [
        {
          "data": {
            "application/vnd.google.colaboratory.intrinsic+json": {
              "type": "string"
            },
            "text/plain": [
              "'cuda'"
            ]
          },
          "execution_count": 5,
          "metadata": {},
          "output_type": "execute_result"
        }
      ],
      "source": [
        "get_device()"
      ]
    },
    {
      "cell_type": "code",
      "execution_count": null,
      "metadata": {
        "id": "ztr20wc9m3-k"
      },
      "outputs": [],
      "source": [
        "def get_model():\n",
        "  if (CONFIG['MODEL_TYPE'] == 'SDFN'):\n",
        "    return get_sdfn_model()\n",
        "  if (CONFIG['MODEL_TYPE'] == 'FEM'):\n",
        "    return get_densenet121_model()"
      ]
    },
    {
      "cell_type": "code",
      "source": [
        "def train_main():\n",
        "  copy_data_from_drive()\n",
        "  \n",
        "  BASE_DIR = CONFIG['BASE_DIR']\n",
        "  checkpoint_prefix = CONFIG['RUN_PREFIX']\n",
        "\n",
        "  if CONFIG['USE_LUNG_REGION_GENERATOR']:\n",
        "    train_dataset, train_loader, validation_dataset, validation_loader = get_NIH_LungRegion_loaders()\n",
        "  else:\n",
        "    train_dataset, train_loader, validation_dataset, validation_loader = get_NIH_FullCXR_loaders()\n",
        "    \n",
        "\n",
        "  dataloaders_dict = {\n",
        "      'train': train_loader,\n",
        "      'validation': validation_loader\n",
        "      }\n",
        "\n",
        "  model = get_model()\n",
        "\n",
        "  if (CONFIG['RESUME_TRAINING']):\n",
        "    resume_idx = CONFIG['EPOCH_START']-1\n",
        "    print(\"*****Resuming training from \" + str(CONFIG['EPOCH_START']) + \", loading \" + \"results/\" + checkpoint_prefix + str(resume_idx) + \".pth\")\n",
        "    load_checkpoint(model, BASE_DIR + \"results/\" + checkpoint_prefix + str(resume_idx) + \".pth\")\n",
        "\n",
        "  criterion = nn.BCELoss()\n",
        "  optimizer = torch.optim.Adam(model.parameters(), lr=CONFIG['LEARNING_RATE'])\n",
        "\n",
        "  model, results = train_model(model, \n",
        "                               train_loader, \n",
        "                               validation_loader, \n",
        "                               optimizer, \n",
        "                               criterion, \n",
        "                               checkpoint_prefix=checkpoint_prefix) \n",
        "\n",
        "  plot_epoch_loss(results)\n",
        "\n",
        "  print(\"******AUC for last fit model...\")\n",
        "  pred_df, true_df = eval_model(model, validation_dataset, validation_loader)\n",
        "  compute_auc(pred_df, true_df)\n",
        "\n",
        "  print(\"******AUC for best fit model...\")\n",
        "  model = get_model()\n",
        "  best_model_idx = results['Validation Loss'].idxmin()\n",
        "  load_checkpoint(model, BASE_DIR + \"results/\" + checkpoint_prefix + str(best_model_idx) + \".pth\")\n",
        "  pred_df, true_df = eval_model(model, validation_dataset, validation_loader)\n",
        "  compute_auc(pred_df, true_df)"
      ],
      "metadata": {
        "id": "zrVpRsXgj1UQ"
      },
      "execution_count": null,
      "outputs": []
    },
    {
      "cell_type": "code",
      "source": [
        "def evaluate_main():\n",
        "  copy_data_from_drive()\n",
        "  \n",
        "  BASE_DIR = CONFIG['BASE_DIR']\n",
        "  checkpoint_prefix = CONFIG['RUN_PREFIX']\n",
        "\n",
        "  model = get_model()\n",
        "\n",
        "  if CONFIG['USE_LUNG_REGION_GENERATOR']:\n",
        "    train_dataset, train_loader, validation_dataset, validation_loader = get_NIH_LungRegion_loaders()\n",
        "  else:\n",
        "    train_dataset, train_loader, validation_dataset, validation_loader = get_NIH_FullCXR_loaders()\n",
        "\n",
        "  if(CONFIG['MODEL_TYPE'] == 'FEM'):\n",
        "    if CONFIG['USE_LUNG_REGION_GENERATOR']:\n",
        "      load_checkpoint(model, CONFIG['FEM2_BEST_MODEL'])\n",
        "    else:\n",
        "      load_checkpoint(model, CONFIG['FEM1_BEST_MODEL'])\n",
        "  elif(CONFIG['MODEL_TYPE'] == 'SDFN'):\n",
        "    load_checkpoint(model, CONFIG['SDFN_BEST_MODEL'])\n",
        "\n",
        "  pred_df, true_df = eval_model(model, validation_dataset, validation_loader)\n",
        "  compute_auc(pred_df, true_df)"
      ],
      "metadata": {
        "id": "AT-rAAsKj8II"
      },
      "execution_count": null,
      "outputs": []
    },
    {
      "cell_type": "code",
      "execution_count": 7,
      "metadata": {
        "colab": {
          "base_uri": "https://localhost:8080/",
          "height": 1000
        },
        "id": "S6FkJgpQZJqL",
        "outputId": "5885a0f5-3e17-49af-fec5-cf597f9d1a7e"
      },
      "outputs": [
        {
          "output_type": "stream",
          "name": "stdout",
          "text": [
            "Using get_NIH_LungRegion_loaders\n",
            "=> Loading checkpoint /content/DataSets/LungSegmentationDataset/results/unet_chesxray_mcu_8.pth\n",
            "=> Loading checkpoint /content/DataSets/LungSegmentationDataset/results/unet_chesxray_mcu_8.pth\n",
            "Epoch 0: Train curr_epoch_loss=0.16654860995154358\n",
            "Training complete in 34m 46s\n",
            "Epoch 0: Validate curr_epoch_loss=0.1801604597049416\n",
            "Validation complete in 6m 59s\n",
            "10645.0\n",
            "Epoch 1: Train curr_epoch_loss=0.15314252886693902\n",
            "Training complete in 34m 34s\n",
            "Epoch 1: Validate curr_epoch_loss=0.1744318385043855\n",
            "Validation complete in 6m 58s\n",
            "9871.0\n",
            "Epoch 2: Train curr_epoch_loss=0.14869634601109122\n",
            "Training complete in 34m 32s\n",
            "Epoch 2: Validate curr_epoch_loss=0.18032357584520345\n",
            "Validation complete in 6m 58s\n",
            "9871.0\n",
            "Epoch 3: Train curr_epoch_loss=0.14435203145768147\n",
            "Training complete in 34m 35s\n",
            "Epoch 3: Validate curr_epoch_loss=0.17120438262543902\n",
            "Validation complete in 6m 57s\n",
            "9871.0\n",
            "Epoch 4: Train curr_epoch_loss=0.13986848486514972\n",
            "Training complete in 34m 26s\n",
            "Epoch 4: Validate curr_epoch_loss=0.1731639477595708\n",
            "Validation complete in 6m 56s\n",
            "9871.0\n",
            "Epoch 5: Train curr_epoch_loss=0.13453499677641198\n",
            "Training complete in 34m 30s\n",
            "Epoch 5: Validate curr_epoch_loss=0.17371707403243183\n",
            "Validation complete in 6m 59s\n",
            "9871.0\n",
            "Epoch 6: Train curr_epoch_loss=0.12808733095643862\n",
            "Training complete in 34m 27s\n",
            "Epoch 6: Validate curr_epoch_loss=0.18586316865771882\n",
            "Validation complete in 6m 57s\n",
            "9871.0\n",
            "Epoch 7: Train curr_epoch_loss=0.11969926874769657\n",
            "Training complete in 34m 28s\n",
            "Epoch 7: Validate curr_epoch_loss=0.19793054286108888\n",
            "Validation complete in 6m 57s\n",
            "9871.0\n",
            "Epoch 8: Train curr_epoch_loss=0.11012117437223558\n",
            "Training complete in 34m 27s\n",
            "Epoch 8: Validate curr_epoch_loss=0.21147714321436453\n",
            "Validation complete in 6m 57s\n",
            "9871.0\n",
            "Epoch 9: Train curr_epoch_loss=0.09918744664850551\n",
            "Training complete in 34m 30s\n",
            "Epoch 9: Validate curr_epoch_loss=0.24500471275942812\n",
            "Validation complete in 6m 58s\n",
            "9871.0\n"
          ]
        },
        {
          "output_type": "display_data",
          "data": {
            "text/plain": [
              "<Figure size 432x288 with 1 Axes>"
            ],
            "image/png": "[encoded data removed]"
          },
          "metadata": {
            "needs_background": "light"
          }
        },
        {
          "output_type": "stream",
          "name": "stdout",
          "text": [
            "******AUC for last fit model...\n",
            "                 label       auc\n",
            "0          Atelectasis  0.755353\n",
            "1         Cardiomegaly  0.762303\n",
            "2        Consolidation  0.770484\n",
            "3                Edema  0.822631\n",
            "4             Effusion  0.834683\n",
            "5            Emphysema  0.816998\n",
            "6             Fibrosis  0.705298\n",
            "7               Hernia  0.898057\n",
            "8         Infiltration  0.640982\n",
            "9                 Mass  0.785285\n",
            "10              Nodule  0.705572\n",
            "11  Pleural_Thickening  0.719660\n",
            "12           Pneumonia  0.681671\n",
            "13        Pneumothorax  0.808906\n",
            "******AUC for best fit model...\n",
            "=> Loading checkpoint /content/DataSets/NIHDataSet/results/fem-2_nih_50pc_3.pth\n",
            "                 label       auc\n",
            "0          Atelectasis  0.766582\n",
            "1         Cardiomegaly  0.850284\n",
            "2        Consolidation  0.789793\n",
            "3                Edema  0.838941\n",
            "4             Effusion  0.839695\n",
            "5            Emphysema  0.840440\n",
            "6             Fibrosis  0.724081\n",
            "7               Hernia  0.871743\n",
            "8         Infiltration  0.660613\n",
            "9                 Mass  0.799549\n",
            "10              Nodule  0.715053\n",
            "11  Pleural_Thickening  0.739142\n",
            "12           Pneumonia  0.727590\n",
            "13        Pneumothorax  0.828920\n"
          ]
        }
      ],
      "source": [
        "if CONFIG['EVAL_MODE']:\n",
        "  print('Running in Evaluation Mode')\n",
        "else:\n",
        "  print('Running in Training Mode')\n",
        "  train_main()\n"
      ]
    },
    {
      "cell_type": "code",
      "execution_count": 8,
      "metadata": {
        "id": "oyQ-isVS4C7K",
        "colab": {
          "base_uri": "https://localhost:8080/",
          "height": 650
        },
        "outputId": "4a8525e2-db59-4e3e-d63e-609b0b6d8fdb"
      },
      "outputs": [
        {
          "output_type": "stream",
          "name": "stdout",
          "text": [
            "112120\n"
          ]
        },
        {
          "output_type": "execute_result",
          "data": {
            "text/plain": [
              "   Unnamed: 0  Iteration  Training Loss  Validation Loss  Training Time (mns)  \\\n",
              "0           0          0       0.166549         0.180160              34.7705   \n",
              "1           1          1       0.153143         0.174432              34.5656   \n",
              "2           2          2       0.148696         0.180324              34.5410   \n",
              "3           3          3       0.144352         0.171204              34.5798   \n",
              "4           4          4       0.139868         0.173164              34.4335   \n",
              "5           5          5       0.134535         0.173717              34.5031   \n",
              "6           6          6       0.128087         0.185863              34.4497   \n",
              "7           7          7       0.119699         0.197931              34.4736   \n",
              "8           8          8       0.110121         0.211477              34.4576   \n",
              "9           9          9       0.099187         0.245005              34.4969   \n",
              "\n",
              "   Validation Time (mns) cpu-ram-free cuda-memory-allocated  \\\n",
              "0                 6.9863      51.5 GB                2.0 GB   \n",
              "1                 6.9699      51.5 GB                2.0 GB   \n",
              "2                 6.9739      51.5 GB                2.0 GB   \n",
              "3                 6.9546      51.8 GB                2.0 GB   \n",
              "4                 6.9393      51.8 GB                2.0 GB   \n",
              "5                 6.9757      51.8 GB                2.0 GB   \n",
              "6                 6.9583      51.8 GB                2.0 GB   \n",
              "7                 6.9524      51.8 GB                2.0 GB   \n",
              "8                 6.9467      51.8 GB                2.0 GB   \n",
              "9                 6.9739      51.8 GB                2.0 GB   \n",
              "\n",
              "  cuda-memory-cached gpu-0-mem-free gpu-0-mem-total gpu-0-mem-util  \n",
              "0             4.9 GB        11.2 GB         17.1 GB         0.346%  \n",
              "1             5.7 GB        10.4 GB         17.1 GB         0.394%  \n",
              "2             5.7 GB        10.4 GB         17.1 GB         0.394%  \n",
              "3             5.7 GB        10.4 GB         17.1 GB         0.394%  \n",
              "4             5.7 GB        10.4 GB         17.1 GB         0.394%  \n",
              "5             5.7 GB        10.4 GB         17.1 GB         0.394%  \n",
              "6             5.7 GB        10.4 GB         17.1 GB         0.394%  \n",
              "7             5.7 GB        10.4 GB         17.1 GB         0.394%  \n",
              "8             5.7 GB        10.4 GB         17.1 GB         0.394%  \n",
              "9             5.7 GB        10.4 GB         17.1 GB         0.394%  "
            ],
            "text/html": [
              "\n",
              "  <div id=\"df-7ad17ee6-6bab-4d03-8b86-95902a32d4f0\">\n",
              "    <div class=\"colab-df-container\">\n",
              "      <div>\n",
              "<style scoped>\n",
              "    .dataframe tbody tr th:only-of-type {\n",
              "        vertical-align: middle;\n",
              "    }\n",
              "\n",
              "    .dataframe tbody tr th {\n",
              "        vertical-align: top;\n",
              "    }\n",
              "\n",
              "    .dataframe thead th {\n",
              "        text-align: right;\n",
              "    }\n",
              "</style>\n",
              "<table border=\"1\" class=\"dataframe\">\n",
              "  <thead>\n",
              "    <tr style=\"text-align: right;\">\n",
              "      <th></th>\n",
              "      <th>Unnamed: 0</th>\n",
              "      <th>Iteration</th>\n",
              "      <th>Training Loss</th>\n",
              "      <th>Validation Loss</th>\n",
              "      <th>Training Time (mns)</th>\n",
              "      <th>Validation Time (mns)</th>\n",
              "      <th>cpu-ram-free</th>\n",
              "      <th>cuda-memory-allocated</th>\n",
              "      <th>cuda-memory-cached</th>\n",
              "      <th>gpu-0-mem-free</th>\n",
              "      <th>gpu-0-mem-total</th>\n",
              "      <th>gpu-0-mem-util</th>\n",
              "    </tr>\n",
              "  </thead>\n",
              "  <tbody>\n",
              "    <tr>\n",
              "      <th>0</th>\n",
              "      <td>0</td>\n",
              "      <td>0</td>\n",
              "      <td>0.166549</td>\n",
              "      <td>0.180160</td>\n",
              "      <td>34.7705</td>\n",
              "      <td>6.9863</td>\n",
              "      <td>51.5 GB</td>\n",
              "      <td>2.0 GB</td>\n",
              "      <td>4.9 GB</td>\n",
              "      <td>11.2 GB</td>\n",
              "      <td>17.1 GB</td>\n",
              "      <td>0.346%</td>\n",
              "    </tr>\n",
              "    <tr>\n",
              "      <th>1</th>\n",
              "      <td>1</td>\n",
              "      <td>1</td>\n",
              "      <td>0.153143</td>\n",
              "      <td>0.174432</td>\n",
              "      <td>34.5656</td>\n",
              "      <td>6.9699</td>\n",
              "      <td>51.5 GB</td>\n",
              "      <td>2.0 GB</td>\n",
              "      <td>5.7 GB</td>\n",
              "      <td>10.4 GB</td>\n",
              "      <td>17.1 GB</td>\n",
              "      <td>0.394%</td>\n",
              "    </tr>\n",
              "    <tr>\n",
              "      <th>2</th>\n",
              "      <td>2</td>\n",
              "      <td>2</td>\n",
              "      <td>0.148696</td>\n",
              "      <td>0.180324</td>\n",
              "      <td>34.5410</td>\n",
              "      <td>6.9739</td>\n",
              "      <td>51.5 GB</td>\n",
              "      <td>2.0 GB</td>\n",
              "      <td>5.7 GB</td>\n",
              "      <td>10.4 GB</td>\n",
              "      <td>17.1 GB</td>\n",
              "      <td>0.394%</td>\n",
              "    </tr>\n",
              "    <tr>\n",
              "      <th>3</th>\n",
              "      <td>3</td>\n",
              "      <td>3</td>\n",
              "      <td>0.144352</td>\n",
              "      <td>0.171204</td>\n",
              "      <td>34.5798</td>\n",
              "      <td>6.9546</td>\n",
              "      <td>51.8 GB</td>\n",
              "      <td>2.0 GB</td>\n",
              "      <td>5.7 GB</td>\n",
              "      <td>10.4 GB</td>\n",
              "      <td>17.1 GB</td>\n",
              "      <td>0.394%</td>\n",
              "    </tr>\n",
              "    <tr>\n",
              "      <th>4</th>\n",
              "      <td>4</td>\n",
              "      <td>4</td>\n",
              "      <td>0.139868</td>\n",
              "      <td>0.173164</td>\n",
              "      <td>34.4335</td>\n",
              "      <td>6.9393</td>\n",
              "      <td>51.8 GB</td>\n",
              "      <td>2.0 GB</td>\n",
              "      <td>5.7 GB</td>\n",
              "      <td>10.4 GB</td>\n",
              "      <td>17.1 GB</td>\n",
              "      <td>0.394%</td>\n",
              "    </tr>\n",
              "    <tr>\n",
              "      <th>5</th>\n",
              "      <td>5</td>\n",
              "      <td>5</td>\n",
              "      <td>0.134535</td>\n",
              "      <td>0.173717</td>\n",
              "      <td>34.5031</td>\n",
              "      <td>6.9757</td>\n",
              "      <td>51.8 GB</td>\n",
              "      <td>2.0 GB</td>\n",
              "      <td>5.7 GB</td>\n",
              "      <td>10.4 GB</td>\n",
              "      <td>17.1 GB</td>\n",
              "      <td>0.394%</td>\n",
              "    </tr>\n",
              "    <tr>\n",
              "      <th>6</th>\n",
              "      <td>6</td>\n",
              "      <td>6</td>\n",
              "      <td>0.128087</td>\n",
              "      <td>0.185863</td>\n",
              "      <td>34.4497</td>\n",
              "      <td>6.9583</td>\n",
              "      <td>51.8 GB</td>\n",
              "      <td>2.0 GB</td>\n",
              "      <td>5.7 GB</td>\n",
              "      <td>10.4 GB</td>\n",
              "      <td>17.1 GB</td>\n",
              "      <td>0.394%</td>\n",
              "    </tr>\n",
              "    <tr>\n",
              "      <th>7</th>\n",
              "      <td>7</td>\n",
              "      <td>7</td>\n",
              "      <td>0.119699</td>\n",
              "      <td>0.197931</td>\n",
              "      <td>34.4736</td>\n",
              "      <td>6.9524</td>\n",
              "      <td>51.8 GB</td>\n",
              "      <td>2.0 GB</td>\n",
              "      <td>5.7 GB</td>\n",
              "      <td>10.4 GB</td>\n",
              "      <td>17.1 GB</td>\n",
              "      <td>0.394%</td>\n",
              "    </tr>\n",
              "    <tr>\n",
              "      <th>8</th>\n",
              "      <td>8</td>\n",
              "      <td>8</td>\n",
              "      <td>0.110121</td>\n",
              "      <td>0.211477</td>\n",
              "      <td>34.4576</td>\n",
              "      <td>6.9467</td>\n",
              "      <td>51.8 GB</td>\n",
              "      <td>2.0 GB</td>\n",
              "      <td>5.7 GB</td>\n",
              "      <td>10.4 GB</td>\n",
              "      <td>17.1 GB</td>\n",
              "      <td>0.394%</td>\n",
              "    </tr>\n",
              "    <tr>\n",
              "      <th>9</th>\n",
              "      <td>9</td>\n",
              "      <td>9</td>\n",
              "      <td>0.099187</td>\n",
              "      <td>0.245005</td>\n",
              "      <td>34.4969</td>\n",
              "      <td>6.9739</td>\n",
              "      <td>51.8 GB</td>\n",
              "      <td>2.0 GB</td>\n",
              "      <td>5.7 GB</td>\n",
              "      <td>10.4 GB</td>\n",
              "      <td>17.1 GB</td>\n",
              "      <td>0.394%</td>\n",
              "    </tr>\n",
              "  </tbody>\n",
              "</table>\n",
              "</div>\n",
              "      <button class=\"colab-df-convert\" onclick=\"convertToInteractive('df-7ad17ee6-6bab-4d03-8b86-95902a32d4f0')\"\n",
              "              title=\"Convert this dataframe to an interactive table.\"\n",
              "              style=\"display:none;\">\n",
              "        \n",
              "  <svg xmlns=\"http://www.w3.org/2000/svg\" height=\"24px\"viewBox=\"0 0 24 24\"\n",
              "       width=\"24px\">\n",
              "    <path d=\"M0 0h24v24H0V0z\" fill=\"none\"/>\n",
              "    <path d=\"M18.56 5.44l.94 2.06.94-2.06 2.06-.94-2.06-.94-.94-2.06-.94 2.06-2.06.94zm-11 1L8.5 8.5l.94-2.06 2.06-.94-2.06-.94L8.5 2.5l-.94 2.06-2.06.94zm10 10l.94 2.06.94-2.06 2.06-.94-2.06-.94-.94-2.06-.94 2.06-2.06.94z\"/><path d=\"M17.41 7.96l-1.37-1.37c-.4-.4-.92-.59-1.43-.59-.52 0-1.04.2-1.43.59L10.3 9.45l-7.72 7.72c-.78.78-.78 2.05 0 2.83L4 21.41c.39.39.9.59 1.41.59.51 0 1.02-.2 1.41-.59l7.78-7.78 2.81-2.81c.8-.78.8-2.07 0-2.86zM5.41 20L4 18.59l7.72-7.72 1.47 1.35L5.41 20z\"/>\n",
              "  </svg>\n",
              "      </button>\n",
              "      \n",
              "  <style>\n",
              "    .colab-df-container {\n",
              "      display:flex;\n",
              "      flex-wrap:wrap;\n",
              "      gap: 12px;\n",
              "    }\n",
              "\n",
              "    .colab-df-convert {\n",
              "      background-color: #E8F0FE;\n",
              "      border: none;\n",
              "      border-radius: 50%;\n",
              "      cursor: pointer;\n",
              "      display: none;\n",
              "      fill: #1967D2;\n",
              "      height: 32px;\n",
              "      padding: 0 0 0 0;\n",
              "      width: 32px;\n",
              "    }\n",
              "\n",
              "    .colab-df-convert:hover {\n",
              "      background-color: #E2EBFA;\n",
              "      box-shadow: 0px 1px 2px rgba(60, 64, 67, 0.3), 0px 1px 3px 1px rgba(60, 64, 67, 0.15);\n",
              "      fill: #174EA6;\n",
              "    }\n",
              "\n",
              "    [theme=dark] .colab-df-convert {\n",
              "      background-color: #3B4455;\n",
              "      fill: #D2E3FC;\n",
              "    }\n",
              "\n",
              "    [theme=dark] .colab-df-convert:hover {\n",
              "      background-color: #434B5C;\n",
              "      box-shadow: 0px 1px 3px 1px rgba(0, 0, 0, 0.15);\n",
              "      filter: drop-shadow(0px 1px 2px rgba(0, 0, 0, 0.3));\n",
              "      fill: #FFFFFF;\n",
              "    }\n",
              "  </style>\n",
              "\n",
              "      <script>\n",
              "        const buttonEl =\n",
              "          document.querySelector('#df-7ad17ee6-6bab-4d03-8b86-95902a32d4f0 button.colab-df-convert');\n",
              "        buttonEl.style.display =\n",
              "          google.colab.kernel.accessAllowed ? 'block' : 'none';\n",
              "\n",
              "        async function convertToInteractive(key) {\n",
              "          const element = document.querySelector('#df-7ad17ee6-6bab-4d03-8b86-95902a32d4f0');\n",
              "          const dataTable =\n",
              "            await google.colab.kernel.invokeFunction('convertToInteractive',\n",
              "                                                     [key], {});\n",
              "          if (!dataTable) return;\n",
              "\n",
              "          const docLinkHtml = 'Like what you see? Visit the ' +\n",
              "            '<a target=\"_blank\" href=https://colab.research.google.com/notebooks/data_table.ipynb>data table notebook</a>'\n",
              "            + ' to learn more about interactive tables.';\n",
              "          element.innerHTML = '';\n",
              "          dataTable['output_type'] = 'display_data';\n",
              "          await google.colab.output.renderOutput(dataTable, element);\n",
              "          const docLink = document.createElement('div');\n",
              "          docLink.innerHTML = docLinkHtml;\n",
              "          element.appendChild(docLink);\n",
              "        }\n",
              "      </script>\n",
              "    </div>\n",
              "  </div>\n",
              "  "
            ]
          },
          "metadata": {},
          "execution_count": 8
        }
      ],
      "source": [
        "!ls /content/DataSets/NIHDataSet/images | wc -l\n",
        "\n",
        "import numpy as np\n",
        "import pandas as pd\n",
        "\n",
        "pd.read_csv('/content/DataSets/NIHDataSet/results/summary.csv')"
      ]
    },
    {
      "cell_type": "code",
      "execution_count": 14,
      "metadata": {
        "id": "T2Ulz_tBjuEr",
        "colab": {
          "base_uri": "https://localhost:8080/"
        },
        "outputId": "55491906-6fe7-4b82-a18d-ed98966c8adc"
      },
      "outputs": [
        {
          "output_type": "stream",
          "name": "stdout",
          "text": [
            "'/content/DataSets/NIHDataSet/results/fem-2_nih_50pc_0.pth' -> '/content/drive/MyDrive/Colab Notebooks/ModelResults/NIHDataSet/FEM2/result_nih_50pc_2/fem-2_nih_50pc_0.pth'\n",
            "'/content/DataSets/NIHDataSet/results/fem-2_nih_50pc_1.pth' -> '/content/drive/MyDrive/Colab Notebooks/ModelResults/NIHDataSet/FEM2/result_nih_50pc_2/fem-2_nih_50pc_1.pth'\n",
            "'/content/DataSets/NIHDataSet/results/fem-2_nih_50pc_2.pth' -> '/content/drive/MyDrive/Colab Notebooks/ModelResults/NIHDataSet/FEM2/result_nih_50pc_2/fem-2_nih_50pc_2.pth'\n",
            "'/content/DataSets/NIHDataSet/results/fem-2_nih_50pc_3.pth' -> '/content/drive/MyDrive/Colab Notebooks/ModelResults/NIHDataSet/FEM2/result_nih_50pc_2/fem-2_nih_50pc_3.pth'\n",
            "'/content/DataSets/NIHDataSet/results/fem-2_nih_50pc_4.pth' -> '/content/drive/MyDrive/Colab Notebooks/ModelResults/NIHDataSet/FEM2/result_nih_50pc_2/fem-2_nih_50pc_4.pth'\n",
            "'/content/DataSets/NIHDataSet/results/fem-2_nih_50pc_5.pth' -> '/content/drive/MyDrive/Colab Notebooks/ModelResults/NIHDataSet/FEM2/result_nih_50pc_2/fem-2_nih_50pc_5.pth'\n",
            "'/content/DataSets/NIHDataSet/results/fem-2_nih_50pc_6.pth' -> '/content/drive/MyDrive/Colab Notebooks/ModelResults/NIHDataSet/FEM2/result_nih_50pc_2/fem-2_nih_50pc_6.pth'\n",
            "'/content/DataSets/NIHDataSet/results/fem-2_nih_50pc_7.pth' -> '/content/drive/MyDrive/Colab Notebooks/ModelResults/NIHDataSet/FEM2/result_nih_50pc_2/fem-2_nih_50pc_7.pth'\n",
            "'/content/DataSets/NIHDataSet/results/fem-2_nih_50pc_8.pth' -> '/content/drive/MyDrive/Colab Notebooks/ModelResults/NIHDataSet/FEM2/result_nih_50pc_2/fem-2_nih_50pc_8.pth'\n",
            "'/content/DataSets/NIHDataSet/results/fem-2_nih_50pc_9.pth' -> '/content/drive/MyDrive/Colab Notebooks/ModelResults/NIHDataSet/FEM2/result_nih_50pc_2/fem-2_nih_50pc_9.pth'\n",
            "'/content/DataSets/NIHDataSet/results/summary.csv' -> '/content/drive/MyDrive/Colab Notebooks/ModelResults/NIHDataSet/FEM2/result_nih_50pc_2/summary.csv'\n",
            "'/content/DataSets/NIHDataSet/fem-2_nih_50pc__aucs.csv' -> '/content/drive/MyDrive/Colab Notebooks/ModelResults/NIHDataSet/FEM2/result_nih_50pc_2/fem-2_nih_50pc__aucs.csv'\n",
            "'/content/DataSets/NIHDataSet/fem-2_nih_50pc__preds.csv' -> '/content/drive/MyDrive/Colab Notebooks/ModelResults/NIHDataSet/FEM2/result_nih_50pc_2/fem-2_nih_50pc__preds.csv'\n"
          ]
        }
      ],
      "source": [
        "def copy_result_to_drive():\n",
        "  !mkdir /content/drive/MyDrive/Colab\\ Notebooks/ModelResults/NIHDataSet/FEM2/result_nih_50pc_2\n",
        "  !cp -v /content/DataSets/NIHDataSet/results/fem-2*.pth /content/drive/MyDrive/Colab\\ Notebooks/ModelResults/NIHDataSet/FEM2/result_nih_50pc_2\n",
        "  !cp -v /content/DataSets/NIHDataSet/results/*.csv /content/drive/MyDrive/Colab\\ Notebooks/ModelResults/NIHDataSet/FEM2/result_nih_50pc_2\n",
        "  !cp -v /content/DataSets/NIHDataSet/fem-2*50*.csv /content/drive/MyDrive/Colab\\ Notebooks/ModelResults/NIHDataSet/FEM2/result_nih_50pc_2\n",
        "\n",
        "# copy_result_to_drive()"
      ]
    },
    {
      "cell_type": "code",
      "execution_count": 10,
      "metadata": {
        "id": "moiU8bRLlOlC",
        "colab": {
          "base_uri": "https://localhost:8080/",
          "height": 295
        },
        "outputId": "85189769-243f-41cf-e930-43d65bbbe38d"
      },
      "outputs": [
        {
          "output_type": "display_data",
          "data": {
            "text/plain": [
              "<Figure size 432x288 with 1 Axes>"
            ],
            "image/png": "[encoded data removed]"
          },
          "metadata": {
            "needs_background": "light"
          }
        }
      ],
      "source": [
        "plot_epoch_loss(pd.read_csv(CONFIG['BASE_DIR'] + 'results/summary.csv'))"
      ]
    },
    {
      "cell_type": "code",
      "execution_count": 12,
      "metadata": {
        "id": "84pOrzQmhsuy"
      },
      "outputs": [],
      "source": [
        "#plot_epoch_loss(pd.read_csv(CONFIG['BASE_DIR'] + 'results/fem-1_nih_50pc_summary.csv'))"
      ]
    },
    {
      "cell_type": "code",
      "execution_count": 13,
      "metadata": {
        "id": "ezhzxgXSh12Q"
      },
      "outputs": [],
      "source": [
        "#plot_epoch_loss(pd.read_csv(CONFIG['BASE_DIR'] + 'results/fem-2_nih_50pc_summary.csv'))"
      ]
    }
  ],
  "metadata": {
    "accelerator": "GPU",
    "colab": {
      "background_execution": "on",
      "collapsed_sections": [],
      "machine_shape": "hm",
      "name": "SDFNPipeLine.ipynb",
      "provenance": [],
      "authorship_tag": "ABX9TyOKaDqCZkr+ZPo8lwFQQJto",
      "include_colab_link": true
    },
    "kernelspec": {
      "display_name": "Python 3",
      "name": "python3"
    },
    "language_info": {
      "name": "python"
    }
  },
  "nbformat": 4,
  "nbformat_minor": 0
}
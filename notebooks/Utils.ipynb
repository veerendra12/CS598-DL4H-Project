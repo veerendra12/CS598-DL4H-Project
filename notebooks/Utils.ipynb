{
  "nbformat": 4,
  "nbformat_minor": 0,
  "metadata": {
    "colab": {
      "name": "Utils.ipynb",
      "provenance": [],
      "collapsed_sections": [],
      "authorship_tag": "ABX9TyOkOeY2FdUMqZxfqQe/BSqB",
      "include_colab_link": true
    },
    "kernelspec": {
      "name": "python3",
      "display_name": "Python 3"
    },
    "language_info": {
      "name": "python"
    }
  },
  "cells": [
    {
      "cell_type": "markdown",
      "metadata": {
        "id": "view-in-github",
        "colab_type": "text"
      },
      "source": [
        "<a href=\"https://colab.research.google.com/github/veerendra12/CS598-DL4H-Project/blob/main/notebooks/Utils.ipynb\" target=\"_parent\"><img src=\"https://colab.research.google.com/assets/colab-badge.svg\" alt=\"Open In Colab\"/></a>"
      ]
    },
    {
      "cell_type": "code",
      "source": [
        "import warnings"
      ],
      "metadata": {
        "id": "9YmmXs8TWfrx"
      },
      "execution_count": null,
      "outputs": []
    },
    {
      "cell_type": "code",
      "source": [
        "import humanize, psutil, GPUtil\n",
        "import torch\n",
        "\n",
        "import import_ipynb\n",
        "from Configuration import CONFIG"
      ],
      "metadata": {
        "id": "yUQ_Eca3WlOT"
      },
      "execution_count": null,
      "outputs": []
    },
    {
      "cell_type": "code",
      "source": [
        "def install_libraries():\n",
        "  !pip install -U albumentations  \n",
        "  !pip uninstall opencv-python-headless --yes\n",
        "  !pip install opencv-python-headless==4.5.2.52\n",
        "  !pip list | grep opencv\n",
        "  !pip install gputil\n",
        "  !pip install psutil\n",
        "  !pip install humanize"
      ],
      "metadata": {
        "id": "nb1FR-SvXdCp"
      },
      "execution_count": null,
      "outputs": []
    },
    {
      "cell_type": "code",
      "source": [
        "def get_device():\n",
        "  return \"cuda\" if torch.cuda.is_available() else \"cpu\""
      ],
      "metadata": {
        "id": "P43MA_3ga2dv"
      },
      "execution_count": null,
      "outputs": []
    },
    {
      "cell_type": "code",
      "source": [
        "def copy_results_from_drive():\n",
        "  print('Copying data from drive to current working directory')\n",
        "\n",
        "  base_dir = CONFIG['BASE_DIR']\n",
        "  seg_base_dir = CONFIG['SEGMENTATION_BASE_DIR']\n",
        "  seg_best_model_remote = CONFIG['SEGMENTATION_BEST_MODEL_DRIVE']\n",
        "\n",
        "  !mkdir -p {seg_base_dir + 'results/'}\n",
        "  !cp -v $seg_best_model_remote  {seg_base_dir + 'results/'} \n",
        "\n",
        "  !mkdir -p {base_dir + 'results/'}\n",
        "\n",
        "  fem1_best_model_remote = CONFIG['FEM1_BEST_MODEL_DRIVE']\n",
        "  fem1_best_model = CONFIG['FEM1_BEST_MODEL']\n",
        "  !cp -v $fem1_best_model_remote $fem1_best_model\n",
        "\n",
        "  fem2_best_model_remote = CONFIG['FEM2_BEST_MODEL_DRIVE']\n",
        "  fem2_best_model = CONFIG['FEM2_BEST_MODEL']\n",
        "  !cp -v $fem2_best_model_remote $fem2_best_model\n",
        "\n",
        "  sdfn_best_model_remote = CONFIG['SDFN_BEST_MODEL_DRIVE']\n",
        "  sdfn_best_model = CONFIG['SDFN_BEST_MODEL']\n",
        "  !cp -v $sdfn_best_model_remote $sdfn_best_model\n",
        "\n",
        "  best_results_remote = CONFIG['NIH_RESULTS_DRIVE_DIR']\n",
        "\n",
        "  !cp -v {best_results_remote + '*true.csv'} {base_dir + 'results/'}\n",
        "  !cp -v {best_results_remote + '*preds.csv'} {base_dir + 'results/'}\n",
        "  !cp -v {best_results_remote + '*aucs.csv'} {base_dir + 'results/'}\n",
        "\n",
        "\n"
      ],
      "metadata": {
        "id": "ErB_CLF58qbc"
      },
      "execution_count": null,
      "outputs": []
    },
    {
      "cell_type": "code",
      "source": [
        "def copy_data_from_drive():\n",
        "  print('Copying data from drive to current working directory')\n",
        "\n",
        "  base_dir = CONFIG['BASE_DIR']\n",
        "  seg_base_dir = CONFIG['SEGMENTATION_BASE_DIR']\n",
        "  \n",
        "  !mkdir -p {seg_base_dir + 'CXR_png/'}\n",
        "  !mkdir -p {seg_base_dir + 'masks/'}\n",
        "  !mkdir -p {seg_base_dir + 'results/saved_images/'}\n",
        "\n",
        "  !mkdir -p $base_dir\n",
        "  !mkdir -p {base_dir + 'results/saved_images'}\n",
        "\n",
        "  image_zips = ['images_001.tar.gz', \n",
        "              'images_002.tar.gz', \n",
        "              'images_003.tar.gz',\n",
        "              'images_004.tar.gz',\n",
        "              'images_005.tar.gz',\n",
        "              'images_006.tar.gz',\n",
        "              'images_007.tar.gz',\n",
        "              'images_008.tar.gz',\n",
        "              'images_009.tar.gz',\n",
        "              'images_010.tar.gz',\n",
        "              'images_011.tar.gz',\n",
        "              'images_012.tar.gz']\n",
        "  \n",
        "  base_dir = CONFIG['BASE_DIR']\n",
        "  \n",
        "  for image_zip in image_zips:\n",
        "    remote_image_zip_path = CONFIG['NIH_DATASET_DRIVE_DIR'] + '/images/' + image_zip\n",
        "    !cp $remote_image_zip_path $base_dir\n",
        "\n",
        "    local_image_zip_path = CONFIG['NIH_DATASET_DRIVE_DIR']\n",
        "    !cp /content/drive/MyDrive/Colab\\ Notebooks/DataSets/NIHDataSet/*.csv $base_dir\n",
        "\n",
        "    !tar -xf  {base_dir + image_zip} -C $base_dir\n",
        "\n",
        "  copy_results_from_drive()"
      ],
      "metadata": {
        "id": "f_VNreqVrR5O"
      },
      "execution_count": null,
      "outputs": []
    },
    {
      "cell_type": "code",
      "execution_count": null,
      "metadata": {
        "id": "zswvSyRgWNZB"
      },
      "outputs": [],
      "source": [
        "warnings.simplefilter(action='ignore', category=FutureWarning)\n",
        "\n",
        "def memory_report():\n",
        "  device = get_device()\n",
        "  memory = {}\n",
        "\n",
        "  memory['cpu-ram-free'] = humanize.naturalsize( psutil.virtual_memory().available)\n",
        "\n",
        "  if device == 'cuda':\n",
        "    memory['cuda-memory-allocated'] = humanize.naturalsize( torch.cuda.memory_allocated(0))\n",
        "    memory['cuda-memory-cached'] = humanize.naturalsize( torch.cuda.memory_cached(0))\n",
        "\n",
        "    GPUs = GPUtil.getGPUs()\n",
        "    for i, gpu in enumerate(GPUs):\n",
        "      memory['gpu-' + str(i) + '-mem-free'] = humanize.naturalsize(gpu.memoryFree * 1024 * 1024)\n",
        "      memory['gpu-' + str(i) + '-mem-total'] = humanize.naturalsize(gpu.memoryTotal * 1024 * 1024)\n",
        "      memory['gpu-' + str(i) + '-mem-util'] = str(round(gpu.memoryUtil, 3)) + '%'\n",
        "      print(gpu.memoryFree)\n",
        "  else:\n",
        "    memory['cuda-memory-allocated'] = 0\n",
        "    memory['cuda-memory-cached'] = 0\n",
        "    memory['gpu-0-mem-free'] = 0\n",
        "    memory['gpu-0-mem-total'] = 0\n",
        "    memory['gpu-0-mem-util'] = 0\n",
        "\n",
        "  return memory"
      ]
    },
    {
      "cell_type": "code",
      "source": [
        "def load_checkpoint(model, filename):\n",
        "    print(\"=> Loading checkpoint \" + filename)\n",
        "    if get_device() == 'cpu':\n",
        "      model.load_state_dict(torch.load(filename, map_location='cpu')[\"state_dict\"])\n",
        "    else:\n",
        "      model.load_state_dict(torch.load(filename)[\"state_dict\"])\n",
        "\n",
        "def save_checkpoint(state, filename):\n",
        "    #print(\"=> Saving checkpoint \" + filename)\n",
        "    torch.save(state, filename)"
      ],
      "metadata": {
        "id": "0IeWxxLUaofe"
      },
      "execution_count": null,
      "outputs": []
    }
  ]
}
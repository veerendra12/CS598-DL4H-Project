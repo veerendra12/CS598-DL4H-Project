{
  "nbformat": 4,
  "nbformat_minor": 0,
  "metadata": {
    "colab": {
      "name": "DenseNet-NIH_v1.ipynb",
      "provenance": [],
      "collapsed_sections": [],
      "machine_shape": "hm",
      "background_execution": "on"
    },
    "kernelspec": {
      "name": "python3",
      "display_name": "Python 3"
    },
    "language_info": {
      "name": "python"
    },
    "accelerator": "GPU",
    "widgets": {
      "application/vnd.jupyter.widget-state+json": {
        "3c77322c8c7f4e50a0bcf47bd2ea905c": {
          "model_module": "@jupyter-widgets/controls",
          "model_name": "HBoxModel",
          "model_module_version": "1.5.0",
          "state": {
            "_dom_classes": [],
            "_model_module": "@jupyter-widgets/controls",
            "_model_module_version": "1.5.0",
            "_model_name": "HBoxModel",
            "_view_count": null,
            "_view_module": "@jupyter-widgets/controls",
            "_view_module_version": "1.5.0",
            "_view_name": "HBoxView",
            "box_style": "",
            "children": [
              "IPY_MODEL_9de8d01ca66643189f6939af4d7e6234",
              "IPY_MODEL_b29eaeca8266496d92cf577a576bf9cb",
              "IPY_MODEL_457111d677534b268061e2047aad4591"
            ],
            "layout": "IPY_MODEL_c16a6750bdd24a9fb2c153c2d52722e1"
          }
        },
        "9de8d01ca66643189f6939af4d7e6234": {
          "model_module": "@jupyter-widgets/controls",
          "model_name": "HTMLModel",
          "model_module_version": "1.5.0",
          "state": {
            "_dom_classes": [],
            "_model_module": "@jupyter-widgets/controls",
            "_model_module_version": "1.5.0",
            "_model_name": "HTMLModel",
            "_view_count": null,
            "_view_module": "@jupyter-widgets/controls",
            "_view_module_version": "1.5.0",
            "_view_name": "HTMLView",
            "description": "",
            "description_tooltip": null,
            "layout": "IPY_MODEL_2cf2b1c3e5574ac0b2fc2e073e328802",
            "placeholder": "​",
            "style": "IPY_MODEL_b6a685bff9884167946ac639857bb036",
            "value": "100%"
          }
        },
        "b29eaeca8266496d92cf577a576bf9cb": {
          "model_module": "@jupyter-widgets/controls",
          "model_name": "FloatProgressModel",
          "model_module_version": "1.5.0",
          "state": {
            "_dom_classes": [],
            "_model_module": "@jupyter-widgets/controls",
            "_model_module_version": "1.5.0",
            "_model_name": "FloatProgressModel",
            "_view_count": null,
            "_view_module": "@jupyter-widgets/controls",
            "_view_module_version": "1.5.0",
            "_view_name": "ProgressView",
            "bar_style": "success",
            "description": "",
            "description_tooltip": null,
            "layout": "IPY_MODEL_d5e9822b254944dc95db476caacf18d2",
            "max": 32342954,
            "min": 0,
            "orientation": "horizontal",
            "style": "IPY_MODEL_2d4beb404de84185891f6b4db5c1cbdc",
            "value": 32342954
          }
        },
        "457111d677534b268061e2047aad4591": {
          "model_module": "@jupyter-widgets/controls",
          "model_name": "HTMLModel",
          "model_module_version": "1.5.0",
          "state": {
            "_dom_classes": [],
            "_model_module": "@jupyter-widgets/controls",
            "_model_module_version": "1.5.0",
            "_model_name": "HTMLModel",
            "_view_count": null,
            "_view_module": "@jupyter-widgets/controls",
            "_view_module_version": "1.5.0",
            "_view_name": "HTMLView",
            "description": "",
            "description_tooltip": null,
            "layout": "IPY_MODEL_c5970995538f4aacafc67051871f8e61",
            "placeholder": "​",
            "style": "IPY_MODEL_c02142ec3db34707b29c2d55824fa8c1",
            "value": " 30.8M/30.8M [00:00&lt;00:00, 100MB/s]"
          }
        },
        "c16a6750bdd24a9fb2c153c2d52722e1": {
          "model_module": "@jupyter-widgets/base",
          "model_name": "LayoutModel",
          "model_module_version": "1.2.0",
          "state": {
            "_model_module": "@jupyter-widgets/base",
            "_model_module_version": "1.2.0",
            "_model_name": "LayoutModel",
            "_view_count": null,
            "_view_module": "@jupyter-widgets/base",
            "_view_module_version": "1.2.0",
            "_view_name": "LayoutView",
            "align_content": null,
            "align_items": null,
            "align_self": null,
            "border": null,
            "bottom": null,
            "display": null,
            "flex": null,
            "flex_flow": null,
            "grid_area": null,
            "grid_auto_columns": null,
            "grid_auto_flow": null,
            "grid_auto_rows": null,
            "grid_column": null,
            "grid_gap": null,
            "grid_row": null,
            "grid_template_areas": null,
            "grid_template_columns": null,
            "grid_template_rows": null,
            "height": null,
            "justify_content": null,
            "justify_items": null,
            "left": null,
            "margin": null,
            "max_height": null,
            "max_width": null,
            "min_height": null,
            "min_width": null,
            "object_fit": null,
            "object_position": null,
            "order": null,
            "overflow": null,
            "overflow_x": null,
            "overflow_y": null,
            "padding": null,
            "right": null,
            "top": null,
            "visibility": null,
            "width": null
          }
        },
        "2cf2b1c3e5574ac0b2fc2e073e328802": {
          "model_module": "@jupyter-widgets/base",
          "model_name": "LayoutModel",
          "model_module_version": "1.2.0",
          "state": {
            "_model_module": "@jupyter-widgets/base",
            "_model_module_version": "1.2.0",
            "_model_name": "LayoutModel",
            "_view_count": null,
            "_view_module": "@jupyter-widgets/base",
            "_view_module_version": "1.2.0",
            "_view_name": "LayoutView",
            "align_content": null,
            "align_items": null,
            "align_self": null,
            "border": null,
            "bottom": null,
            "display": null,
            "flex": null,
            "flex_flow": null,
            "grid_area": null,
            "grid_auto_columns": null,
            "grid_auto_flow": null,
            "grid_auto_rows": null,
            "grid_column": null,
            "grid_gap": null,
            "grid_row": null,
            "grid_template_areas": null,
            "grid_template_columns": null,
            "grid_template_rows": null,
            "height": null,
            "justify_content": null,
            "justify_items": null,
            "left": null,
            "margin": null,
            "max_height": null,
            "max_width": null,
            "min_height": null,
            "min_width": null,
            "object_fit": null,
            "object_position": null,
            "order": null,
            "overflow": null,
            "overflow_x": null,
            "overflow_y": null,
            "padding": null,
            "right": null,
            "top": null,
            "visibility": null,
            "width": null
          }
        },
        "b6a685bff9884167946ac639857bb036": {
          "model_module": "@jupyter-widgets/controls",
          "model_name": "DescriptionStyleModel",
          "model_module_version": "1.5.0",
          "state": {
            "_model_module": "@jupyter-widgets/controls",
            "_model_module_version": "1.5.0",
            "_model_name": "DescriptionStyleModel",
            "_view_count": null,
            "_view_module": "@jupyter-widgets/base",
            "_view_module_version": "1.2.0",
            "_view_name": "StyleView",
            "description_width": ""
          }
        },
        "d5e9822b254944dc95db476caacf18d2": {
          "model_module": "@jupyter-widgets/base",
          "model_name": "LayoutModel",
          "model_module_version": "1.2.0",
          "state": {
            "_model_module": "@jupyter-widgets/base",
            "_model_module_version": "1.2.0",
            "_model_name": "LayoutModel",
            "_view_count": null,
            "_view_module": "@jupyter-widgets/base",
            "_view_module_version": "1.2.0",
            "_view_name": "LayoutView",
            "align_content": null,
            "align_items": null,
            "align_self": null,
            "border": null,
            "bottom": null,
            "display": null,
            "flex": null,
            "flex_flow": null,
            "grid_area": null,
            "grid_auto_columns": null,
            "grid_auto_flow": null,
            "grid_auto_rows": null,
            "grid_column": null,
            "grid_gap": null,
            "grid_row": null,
            "grid_template_areas": null,
            "grid_template_columns": null,
            "grid_template_rows": null,
            "height": null,
            "justify_content": null,
            "justify_items": null,
            "left": null,
            "margin": null,
            "max_height": null,
            "max_width": null,
            "min_height": null,
            "min_width": null,
            "object_fit": null,
            "object_position": null,
            "order": null,
            "overflow": null,
            "overflow_x": null,
            "overflow_y": null,
            "padding": null,
            "right": null,
            "top": null,
            "visibility": null,
            "width": null
          }
        },
        "2d4beb404de84185891f6b4db5c1cbdc": {
          "model_module": "@jupyter-widgets/controls",
          "model_name": "ProgressStyleModel",
          "model_module_version": "1.5.0",
          "state": {
            "_model_module": "@jupyter-widgets/controls",
            "_model_module_version": "1.5.0",
            "_model_name": "ProgressStyleModel",
            "_view_count": null,
            "_view_module": "@jupyter-widgets/base",
            "_view_module_version": "1.2.0",
            "_view_name": "StyleView",
            "bar_color": null,
            "description_width": ""
          }
        },
        "c5970995538f4aacafc67051871f8e61": {
          "model_module": "@jupyter-widgets/base",
          "model_name": "LayoutModel",
          "model_module_version": "1.2.0",
          "state": {
            "_model_module": "@jupyter-widgets/base",
            "_model_module_version": "1.2.0",
            "_model_name": "LayoutModel",
            "_view_count": null,
            "_view_module": "@jupyter-widgets/base",
            "_view_module_version": "1.2.0",
            "_view_name": "LayoutView",
            "align_content": null,
            "align_items": null,
            "align_self": null,
            "border": null,
            "bottom": null,
            "display": null,
            "flex": null,
            "flex_flow": null,
            "grid_area": null,
            "grid_auto_columns": null,
            "grid_auto_flow": null,
            "grid_auto_rows": null,
            "grid_column": null,
            "grid_gap": null,
            "grid_row": null,
            "grid_template_areas": null,
            "grid_template_columns": null,
            "grid_template_rows": null,
            "height": null,
            "justify_content": null,
            "justify_items": null,
            "left": null,
            "margin": null,
            "max_height": null,
            "max_width": null,
            "min_height": null,
            "min_width": null,
            "object_fit": null,
            "object_position": null,
            "order": null,
            "overflow": null,
            "overflow_x": null,
            "overflow_y": null,
            "padding": null,
            "right": null,
            "top": null,
            "visibility": null,
            "width": null
          }
        },
        "c02142ec3db34707b29c2d55824fa8c1": {
          "model_module": "@jupyter-widgets/controls",
          "model_name": "DescriptionStyleModel",
          "model_module_version": "1.5.0",
          "state": {
            "_model_module": "@jupyter-widgets/controls",
            "_model_module_version": "1.5.0",
            "_model_name": "DescriptionStyleModel",
            "_view_count": null,
            "_view_module": "@jupyter-widgets/base",
            "_view_module_version": "1.2.0",
            "_view_name": "StyleView",
            "description_width": ""
          }
        }
      }
    }
  },
  "cells": [
    {
      "cell_type": "code",
      "source": [
        "from google.colab import drive\n",
        "drive.mount('/content/drive')"
      ],
      "metadata": {
        "colab": {
          "base_uri": "https://localhost:8080/"
        },
        "id": "zYqeAyYYqYZG",
        "outputId": "655c327d-b3db-4a97-8454-724eff1c3c08"
      },
      "execution_count": 1,
      "outputs": [
        {
          "output_type": "stream",
          "name": "stdout",
          "text": [
            "Mounted at /content/drive\n"
          ]
        }
      ]
    },
    {
      "cell_type": "code",
      "source": [
        "!nvidia-smi"
      ],
      "metadata": {
        "colab": {
          "base_uri": "https://localhost:8080/"
        },
        "id": "ZrR9tXScqkuj",
        "outputId": "8ba8665f-1ebf-4e76-9045-635b6d71204d"
      },
      "execution_count": null,
      "outputs": [
        {
          "output_type": "stream",
          "name": "stdout",
          "text": [
            "Fri Apr 15 07:26:24 2022       \n",
            "+-----------------------------------------------------------------------------+\n",
            "| NVIDIA-SMI 460.32.03    Driver Version: 460.32.03    CUDA Version: 11.2     |\n",
            "|-------------------------------+----------------------+----------------------+\n",
            "| GPU  Name        Persistence-M| Bus-Id        Disp.A | Volatile Uncorr. ECC |\n",
            "| Fan  Temp  Perf  Pwr:Usage/Cap|         Memory-Usage | GPU-Util  Compute M. |\n",
            "|                               |                      |               MIG M. |\n",
            "|===============================+======================+======================|\n",
            "|   0  Tesla P100-PCIE...  Off  | 00000000:00:04.0 Off |                    0 |\n",
            "| N/A   53C    P0    37W / 250W |   3251MiB / 16280MiB |      0%      Default |\n",
            "|                               |                      |                  N/A |\n",
            "+-------------------------------+----------------------+----------------------+\n",
            "                                                                               \n",
            "+-----------------------------------------------------------------------------+\n",
            "| Processes:                                                                  |\n",
            "|  GPU   GI   CI        PID   Type   Process name                  GPU Memory |\n",
            "|        ID   ID                                                   Usage      |\n",
            "|=============================================================================|\n",
            "+-----------------------------------------------------------------------------+\n"
          ]
        }
      ]
    },
    {
      "cell_type": "code",
      "source": [
        "def bootstrap():\n",
        "  !pip install -U albumentations\n",
        "  !pip uninstall opencv-python-headless\n",
        "  !pip install opencv-python-headless==4.5.2.52\n",
        "  !pip list | grep opencv\n",
        "\n",
        "  !mkdir -p /content/DataSets/NIHDataSet/\n",
        "  !mkdir -p /content/DataSets/NIHDataSet/results/saved_images\n",
        "\n",
        "  !cp /content/drive/MyDrive/Colab\\ Notebooks/DataSets/NIHDataSet/images/*.* /content/DataSets/NIHDataSet/\n",
        "  !cp /content/drive/MyDrive/Colab\\ Notebooks/DataSets/NIHDataSet/*.csv /content/DataSets/NIHDataSet/\n",
        "\n",
        "  !tar -xf '/content/DataSets/NIHDataSet/images_004.tar.gz' -C '/content/DataSets/NIHDataSet/'\n",
        "\n",
        "bootstrap()\n",
        "\n"
      ],
      "metadata": {
        "id": "NQBWtXSYqn5l",
        "colab": {
          "base_uri": "https://localhost:8080/"
        },
        "outputId": "6a94e5e1-61b7-4de0-82fc-2799e2ae41a2"
      },
      "execution_count": null,
      "outputs": [
        {
          "output_type": "stream",
          "name": "stdout",
          "text": [
            "Requirement already satisfied: albumentations in /usr/local/lib/python3.7/dist-packages (0.1.12)\n",
            "Collecting albumentations\n",
            "  Downloading albumentations-1.1.0-py3-none-any.whl (102 kB)\n",
            "\u001b[K     |████████████████████████████████| 102 kB 12.8 MB/s \n",
            "\u001b[?25hRequirement already satisfied: numpy>=1.11.1 in /usr/local/lib/python3.7/dist-packages (from albumentations) (1.21.5)\n",
            "Collecting qudida>=0.0.4\n",
            "  Downloading qudida-0.0.4-py3-none-any.whl (3.5 kB)\n",
            "Requirement already satisfied: scipy in /usr/local/lib/python3.7/dist-packages (from albumentations) (1.4.1)\n",
            "Requirement already satisfied: scikit-image>=0.16.1 in /usr/local/lib/python3.7/dist-packages (from albumentations) (0.18.3)\n",
            "Requirement already satisfied: PyYAML in /usr/local/lib/python3.7/dist-packages (from albumentations) (3.13)\n",
            "Collecting opencv-python-headless>=4.1.1\n",
            "  Downloading opencv_python_headless-4.5.5.64-cp36-abi3-manylinux_2_17_x86_64.manylinux2014_x86_64.whl (47.8 MB)\n",
            "\u001b[K     |████████████████████████████████| 47.8 MB 82.1 MB/s \n",
            "\u001b[?25hRequirement already satisfied: typing-extensions in /usr/local/lib/python3.7/dist-packages (from qudida>=0.0.4->albumentations) (4.1.1)\n",
            "Requirement already satisfied: scikit-learn>=0.19.1 in /usr/local/lib/python3.7/dist-packages (from qudida>=0.0.4->albumentations) (1.0.2)\n",
            "Requirement already satisfied: matplotlib!=3.0.0,>=2.0.0 in /usr/local/lib/python3.7/dist-packages (from scikit-image>=0.16.1->albumentations) (3.2.2)\n",
            "Requirement already satisfied: imageio>=2.3.0 in /usr/local/lib/python3.7/dist-packages (from scikit-image>=0.16.1->albumentations) (2.4.1)\n",
            "Requirement already satisfied: pillow!=7.1.0,!=7.1.1,>=4.3.0 in /usr/local/lib/python3.7/dist-packages (from scikit-image>=0.16.1->albumentations) (7.1.2)\n",
            "Requirement already satisfied: PyWavelets>=1.1.1 in /usr/local/lib/python3.7/dist-packages (from scikit-image>=0.16.1->albumentations) (1.3.0)\n",
            "Requirement already satisfied: tifffile>=2019.7.26 in /usr/local/lib/python3.7/dist-packages (from scikit-image>=0.16.1->albumentations) (2021.11.2)\n",
            "Requirement already satisfied: networkx>=2.0 in /usr/local/lib/python3.7/dist-packages (from scikit-image>=0.16.1->albumentations) (2.6.3)\n",
            "Requirement already satisfied: cycler>=0.10 in /usr/local/lib/python3.7/dist-packages (from matplotlib!=3.0.0,>=2.0.0->scikit-image>=0.16.1->albumentations) (0.11.0)\n",
            "Requirement already satisfied: pyparsing!=2.0.4,!=2.1.2,!=2.1.6,>=2.0.1 in /usr/local/lib/python3.7/dist-packages (from matplotlib!=3.0.0,>=2.0.0->scikit-image>=0.16.1->albumentations) (3.0.8)\n",
            "Requirement already satisfied: kiwisolver>=1.0.1 in /usr/local/lib/python3.7/dist-packages (from matplotlib!=3.0.0,>=2.0.0->scikit-image>=0.16.1->albumentations) (1.4.2)\n",
            "Requirement already satisfied: python-dateutil>=2.1 in /usr/local/lib/python3.7/dist-packages (from matplotlib!=3.0.0,>=2.0.0->scikit-image>=0.16.1->albumentations) (2.8.2)\n",
            "Requirement already satisfied: six>=1.5 in /usr/local/lib/python3.7/dist-packages (from python-dateutil>=2.1->matplotlib!=3.0.0,>=2.0.0->scikit-image>=0.16.1->albumentations) (1.15.0)\n",
            "Requirement already satisfied: threadpoolctl>=2.0.0 in /usr/local/lib/python3.7/dist-packages (from scikit-learn>=0.19.1->qudida>=0.0.4->albumentations) (3.1.0)\n",
            "Requirement already satisfied: joblib>=0.11 in /usr/local/lib/python3.7/dist-packages (from scikit-learn>=0.19.1->qudida>=0.0.4->albumentations) (1.1.0)\n",
            "Installing collected packages: opencv-python-headless, qudida, albumentations\n",
            "  Attempting uninstall: albumentations\n",
            "    Found existing installation: albumentations 0.1.12\n",
            "    Uninstalling albumentations-0.1.12:\n",
            "      Successfully uninstalled albumentations-0.1.12\n",
            "Successfully installed albumentations-1.1.0 opencv-python-headless-4.5.5.64 qudida-0.0.4\n",
            "Found existing installation: opencv-python-headless 4.5.5.64\n",
            "Uninstalling opencv-python-headless-4.5.5.64:\n",
            "  Would remove:\n",
            "    /usr/local/lib/python3.7/dist-packages/cv2/*\n",
            "    /usr/local/lib/python3.7/dist-packages/opencv_python_headless-4.5.5.64.dist-info/*\n",
            "    /usr/local/lib/python3.7/dist-packages/opencv_python_headless.libs/libavcodec-65fa80df.so.58.134.100\n",
            "    /usr/local/lib/python3.7/dist-packages/opencv_python_headless.libs/libavformat-8ef5c7db.so.58.76.100\n",
            "    /usr/local/lib/python3.7/dist-packages/opencv_python_headless.libs/libavutil-9c768859.so.56.70.100\n",
            "    /usr/local/lib/python3.7/dist-packages/opencv_python_headless.libs/libbz2-a273e504.so.1.0.6\n",
            "    /usr/local/lib/python3.7/dist-packages/opencv_python_headless.libs/libcrypto-09fe7800.so.1.1\n",
            "    /usr/local/lib/python3.7/dist-packages/opencv_python_headless.libs/libgfortran-91cc3cb1.so.3.0.0\n",
            "    /usr/local/lib/python3.7/dist-packages/opencv_python_headless.libs/libopenblas-r0-f650aae0.3.3.so\n",
            "    /usr/local/lib/python3.7/dist-packages/opencv_python_headless.libs/libquadmath-96973f99.so.0.0.0\n",
            "    /usr/local/lib/python3.7/dist-packages/opencv_python_headless.libs/libssl-b92f8066.so.1.1\n",
            "    /usr/local/lib/python3.7/dist-packages/opencv_python_headless.libs/libswresample-99364a1c.so.3.9.100\n",
            "    /usr/local/lib/python3.7/dist-packages/opencv_python_headless.libs/libswscale-e6451464.so.5.9.100\n",
            "    /usr/local/lib/python3.7/dist-packages/opencv_python_headless.libs/libvpx-1016051d.so.7.0.0\n",
            "  Would not remove (might be manually added):\n",
            "    /usr/local/lib/python3.7/dist-packages/cv2/.libs/libQtCore-bbdab771.so.4.8.7\n",
            "    /usr/local/lib/python3.7/dist-packages/cv2/.libs/libQtGui-903938cd.so.4.8.7\n",
            "    /usr/local/lib/python3.7/dist-packages/cv2/.libs/libQtTest-1183da5d.so.4.8.7\n",
            "    /usr/local/lib/python3.7/dist-packages/cv2/.libs/libavcodec-3cdd3bd4.so.58.62.100\n",
            "    /usr/local/lib/python3.7/dist-packages/cv2/.libs/libavformat-69a63b50.so.58.35.100\n",
            "    /usr/local/lib/python3.7/dist-packages/cv2/.libs/libavutil-8e8979a8.so.56.36.100\n",
            "    /usr/local/lib/python3.7/dist-packages/cv2/.libs/libbz2-7225278b.so.1.0.3\n",
            "    /usr/local/lib/python3.7/dist-packages/cv2/.libs/libcrypto-a25ff511.so.1.1\n",
            "    /usr/local/lib/python3.7/dist-packages/cv2/.libs/libssl-fdf0b66c.so.1.1\n",
            "    /usr/local/lib/python3.7/dist-packages/cv2/.libs/libswresample-c6b3bbb9.so.3.6.100\n",
            "    /usr/local/lib/python3.7/dist-packages/cv2/.libs/libswscale-2d19f7d1.so.5.6.100\n",
            "    /usr/local/lib/python3.7/dist-packages/cv2/.libs/libvpx-c887ea55.so.6.1.0\n",
            "    /usr/local/lib/python3.7/dist-packages/cv2/.libs/libz-a147dcb0.so.1.2.3\n",
            "    /usr/local/lib/python3.7/dist-packages/cv2/cv2.cpython-37m-x86_64-linux-gnu.so\n",
            "Proceed (y/n)? y\n",
            "  Successfully uninstalled opencv-python-headless-4.5.5.64\n",
            "Collecting opencv-python-headless==4.5.2.52\n",
            "  Downloading opencv_python_headless-4.5.2.52-cp37-cp37m-manylinux2014_x86_64.whl (38.2 MB)\n",
            "\u001b[K     |████████████████████████████████| 38.2 MB 84.6 MB/s \n",
            "\u001b[?25hRequirement already satisfied: numpy>=1.14.5 in /usr/local/lib/python3.7/dist-packages (from opencv-python-headless==4.5.2.52) (1.21.5)\n",
            "Installing collected packages: opencv-python-headless\n",
            "Successfully installed opencv-python-headless-4.5.2.52\n",
            "opencv-contrib-python         4.1.2.30\n",
            "opencv-python                 4.1.2.30\n",
            "opencv-python-headless        4.5.2.52\n"
          ]
        }
      ]
    },
    {
      "cell_type": "code",
      "source": [
        "#!mv /content/DataSets/NIHDataSet/images/images/*.* /content/DataSets/NIHDataSet/images/\n",
        "!ls /content/DataSets/NIHDataSet/images | wc -l"
      ],
      "metadata": {
        "colab": {
          "base_uri": "https://localhost:8080/"
        },
        "id": "LJ10RNars25J",
        "outputId": "c247e198-12f7-4f56-aed7-f285c6ef58a0"
      },
      "execution_count": null,
      "outputs": [
        {
          "output_type": "stream",
          "name": "stdout",
          "text": [
            "10000\n"
          ]
        }
      ]
    },
    {
      "cell_type": "code",
      "execution_count": 3,
      "metadata": {
        "id": "crkQkFz4qCPT"
      },
      "outputs": [],
      "source": [
        "import torch\n",
        "import torch.nn as nn\n",
        "import torchvision\n",
        "import numpy as np\n",
        "import pandas as pd\n",
        "\n",
        "import torch.nn.functional as F\n",
        "import torchvision.transforms as transforms\n",
        "from torchvision import models\n",
        "from torch.utils.data import Dataset\n",
        "import torch.optim as optim\n",
        "\n",
        "from tqdm import tqdm\n",
        "\n",
        "import os\n",
        "import time\n",
        "from PIL import Image\n",
        "import sklearn\n",
        "import sklearn.metrics as sklm\n",
        "import matplotlib.pyplot as plt\n",
        "%matplotlib inline\n",
        "from sklearn.model_selection import train_test_split\n"
      ]
    },
    {
      "cell_type": "code",
      "source": [
        "SAMPLE_RATIO = 0.1 # 10%\n",
        "LEARNING_RATE = 1e-4\n",
        "DEVICE = \"cuda\" if torch.cuda.is_available() else \"cpu\"\n",
        "BATCH_SIZE = 16\n",
        "NUM_EPOCHS = 10\n",
        "NUM_WORKERS = 2\n",
        "IMAGE_HEIGHT = 224\n",
        "IMAGE_WIDTH = 224\n",
        "PIN_MEMORY = True\n",
        "LOAD_MODEL = False\n",
        "IMAGE_DATA_SET_TYPE = ''\n",
        "MASK_SUFFIX_NO_EXTN = ''\n",
        "\n",
        "BASE_DIR = '/content/DataSets/NIHDataSet/' #'/content/drive/MyDrive/Colab Notebooks/DataSets/NIHDataSet/'\n",
        "IMAGE_DIR = BASE_DIR + \"images/\"\n",
        "TRAIN_CSV = \"train_\" + str(SAMPLE_RATIO) + \".csv\"\n",
        "VALIDATION_CSV = \"validation_\" + str(SAMPLE_RATIO) + \".csv\"\n",
        "\n",
        "\n",
        "CLASS_LABELS = ['Atelectasis',\n",
        "                'Cardiomegaly',\n",
        "                'Effusion',\n",
        "                'Infiltration',\n",
        "                'Mass',\n",
        "                'Nodule',\n",
        "                'Pneumonia',\n",
        "                'Pneumothorax',\n",
        "                'Consolidation',\n",
        "                'Edema',\n",
        "                'Emphysema',\n",
        "                'Fibrosis',\n",
        "                'Pleural_Thickening',\n",
        "                'Hernia']\n",
        "NUM_CLASSES = len(CLASS_LABELS)\n",
        "\n",
        "# Mean and Standard deviation of Imagenet set\n",
        "MEAN = [0.485, 0.456, 0.406]\n",
        "STD = [0.229, 0.224, 0.225]\n",
        "\n",
        "\"\"\"\n",
        "define data transforms for images for train and validation dataset\n",
        "\"\"\"\n",
        "TRANSFORMS = {\n",
        "        'train': transforms.Compose([\n",
        "            transforms.RandomHorizontalFlip(),\n",
        "            transforms.Resize(IMAGE_HEIGHT),\n",
        "            transforms.CenterCrop(IMAGE_WIDTH),\n",
        "            transforms.ToTensor(),\n",
        "            transforms.Normalize(MEAN, STD)\n",
        "        ]),\n",
        "        'validation': transforms.Compose([\n",
        "            transforms.Resize(224),\n",
        "            transforms.CenterCrop(224),\n",
        "            transforms.ToTensor(),\n",
        "            transforms.Normalize(MEAN, STD)\n",
        "        ]),\n",
        "    }"
      ],
      "metadata": {
        "id": "ogW7R6slvJWc"
      },
      "execution_count": 4,
      "outputs": []
    },
    {
      "cell_type": "code",
      "source": [
        "DEVICE"
      ],
      "metadata": {
        "colab": {
          "base_uri": "https://localhost:8080/",
          "height": 35
        },
        "id": "QN2Qwce0x-Jh",
        "outputId": "4f4d773d-2a11-4b70-f561-8d53132499ff"
      },
      "execution_count": null,
      "outputs": [
        {
          "output_type": "execute_result",
          "data": {
            "text/plain": [
              "'cuda'"
            ],
            "application/vnd.google.colaboratory.intrinsic+json": {
              "type": "string"
            }
          },
          "metadata": {},
          "execution_count": 6
        }
      ]
    },
    {
      "cell_type": "code",
      "source": [
        "def save_df(df, filename):\n",
        "    df.to_csv(filename, index=False)\n",
        "\n",
        "def load_dataset(name = 'Chest_XRay_Data_OneHot_Mini10k.csv'):\n",
        "    return pd.read_csv(BASE_DIR + name)\n",
        "\n",
        "def generate_train_test_split(image_onehot_df, sample_size = SAMPLE_RATIO):\n",
        "    print(\"Length of Original Dataset: \" , len(image_onehot_df))\n",
        "    \n",
        "    image_onehot_sampled_df = image_onehot_df.sample(frac=sample_size, replace=False, random_state=2022)\n",
        "    print(\"Length of Sample Dataset: \" , len(image_onehot_sampled_df))\n",
        "    \n",
        "    return train_test_split(image_onehot_sampled_df, test_size=0.2, random_state=2022, shuffle=True)\n",
        "\n",
        "def get_train_test_data(name = 'Chest_XRay_Data_OneHot_Mini10k.csv', sample_ratio = SAMPLE_RATIO):\n",
        "  image_onehot_df = load_dataset(name)\n",
        "  train, validation = generate_train_test_split(image_onehot_df)\n",
        "\n",
        "  save_df(train, BASE_DIR + \"train_\" + str(sample_ratio) + \".csv\")\n",
        "  save_df(validation, BASE_DIR + \"validation_\" + str(sample_ratio) + \".csv\")\n",
        "  print(f'Length of Training Dataset: {len(train)}, Length of Validation Dataset: {len(validation)}')\n",
        "\n",
        "  return train, validation"
      ],
      "metadata": {
        "id": "TH2DdVuwyRUY"
      },
      "execution_count": null,
      "outputs": []
    },
    {
      "cell_type": "code",
      "source": [
        "def save_checkpoint(state, filename):\n",
        "    print(\"=> Saving checkpoint \" + filename)\n",
        "    torch.save(state, filename)\n",
        "\n",
        "def load_checkpoint(model, filename):\n",
        "    print(\"=> Loading checkpoint \" + filename)\n",
        "    model.load_state_dict(torch.load(filename)[\"state_dict\"])"
      ],
      "metadata": {
        "id": "BLVArfmdCURv"
      },
      "execution_count": null,
      "outputs": []
    },
    {
      "cell_type": "code",
      "source": [
        "def get_model():\n",
        "    model = models.densenet121(pretrained=True)\n",
        "    model.classifier = nn.Sequential(nn.Linear(1024, NUM_CLASSES), nn.Sigmoid())\n",
        "    model.to(DEVICE)\n",
        "    return model\n",
        "\n",
        "def get_n_params(model):\n",
        "    pp=0\n",
        "    for p in list(model.parameters()):\n",
        "        nn=1\n",
        "        for s in list(p.size()):\n",
        "            nn = nn*s\n",
        "        pp += nn\n",
        "    return pp\n",
        "get_n_params(get_model())"
      ],
      "metadata": {
        "id": "EUIy9b9fBmIS",
        "colab": {
          "base_uri": "https://localhost:8080/",
          "height": 84,
          "referenced_widgets": [
            "3c77322c8c7f4e50a0bcf47bd2ea905c",
            "9de8d01ca66643189f6939af4d7e6234",
            "b29eaeca8266496d92cf577a576bf9cb",
            "457111d677534b268061e2047aad4591",
            "c16a6750bdd24a9fb2c153c2d52722e1",
            "2cf2b1c3e5574ac0b2fc2e073e328802",
            "b6a685bff9884167946ac639857bb036",
            "d5e9822b254944dc95db476caacf18d2",
            "2d4beb404de84185891f6b4db5c1cbdc",
            "c5970995538f4aacafc67051871f8e61",
            "c02142ec3db34707b29c2d55824fa8c1"
          ]
        },
        "outputId": "720e58ac-0442-49de-b9a9-580c92346513"
      },
      "execution_count": 6,
      "outputs": [
        {
          "output_type": "stream",
          "name": "stderr",
          "text": [
            "Downloading: \"https://download.pytorch.org/models/densenet121-a639ec97.pth\" to /root/.cache/torch/hub/checkpoints/densenet121-a639ec97.pth\n"
          ]
        },
        {
          "output_type": "display_data",
          "data": {
            "text/plain": [
              "  0%|          | 0.00/30.8M [00:00<?, ?B/s]"
            ],
            "application/vnd.jupyter.widget-view+json": {
              "version_major": 2,
              "version_minor": 0,
              "model_id": "3c77322c8c7f4e50a0bcf47bd2ea905c"
            }
          },
          "metadata": {}
        },
        {
          "output_type": "execute_result",
          "data": {
            "text/plain": [
              "6968206"
            ]
          },
          "metadata": {},
          "execution_count": 6
        }
      ]
    },
    {
      "cell_type": "code",
      "source": [
        "def train2(model, train_dataloader, val_dataloader, optimizer, criterion):\n",
        "    train_epochs_loss = pd.DataFrame(columns=[\"Epoch No\",\"Loss\"])\n",
        "    val_epochs_loss = pd.DataFrame(columns=[\"Epoch No\",\"Loss\"])   \n",
        "    \n",
        "    for epoch in range(NUM_EPOCHS):\n",
        "        model.train()\n",
        "        train_row={}\n",
        "        train_curr_epoch_loss = []\n",
        "\n",
        "        running_loss = 0.0\n",
        "        running_corrects = 0\n",
        "\n",
        "        for inputs, labels in train_dataloader:\n",
        "            inputs = inputs.to(DEVICE)\n",
        "            labels = labels.to(DEVICE)\n",
        "\n",
        "            optimizer.zero_grad()\n",
        "\n",
        "            with torch.set_grad_enabled(True):\n",
        "              outputs = model(inputs)\n",
        "              loss = criterion(outputs, labels.type(torch.float))\n",
        "\n",
        "              preds = torch.clone(outputs).detach().cpu().numpy()\n",
        "              truths = torch.clone(labels).detach().cpu().numpy()\n",
        "\n",
        "              for idx in range(preds.shape[0]):\n",
        "                preds[idx, ] = preds[idx, ] > 0.5\n",
        "              preds = preds.astype(int)\n",
        "\n",
        "              loss.backward()\n",
        "              optimizer.step()\n",
        "\n",
        "            # statistics\n",
        "            running_loss += loss.item() * inputs.size(0)\n",
        "            print(labels.shape)\n",
        "            print(preds.shape)\n",
        "            running_corrects += np.sum(preds == truths)\n",
        "            break\n",
        "\n",
        "        epoch_loss = running_loss / len(train_dataloader.dataset)\n",
        "        epoch_acc = running_corrects / len(train_dataloader.dataset)\n",
        "        print('{} Loss: {:.4f} Acc: {:.4f}'.format('Train', epoch_loss, epoch_acc))\n",
        "        \n",
        "    return model"
      ],
      "metadata": {
        "id": "_6GTa472EBFC"
      },
      "execution_count": null,
      "outputs": []
    },
    {
      "cell_type": "code",
      "source": [
        "class NIHImageDataset(Dataset): \n",
        "\n",
        "    def __init__(self, dataset_csv, transform = None):\n",
        "        self.transform = transform\n",
        "        \n",
        "        self.df = pd.read_csv(BASE_DIR + dataset_csv)\n",
        "        self.df = self.df.set_index(\"Image Index\")\n",
        "\n",
        "    def __len__(self):\n",
        "        \"\"\"\n",
        "        Args: None\n",
        "        Returns : Length of dataset\n",
        "        \"\"\"\n",
        "        return len(self.df)\n",
        "\n",
        "    def __getitem__(self, idx):\n",
        "        image = Image.open(os.path.join(IMAGE_DIR, self.df.index[idx]))\n",
        "        image = image.convert('RGB')\n",
        "\n",
        "        label_one_hot = np.zeros(len(CLASS_LABELS), dtype=int)\n",
        "        for i in range(0, len(CLASS_LABELS)):\n",
        "            if(self.df[CLASS_LABELS[i].strip()].iloc[idx].astype('int') > 0):\n",
        "                label_one_hot[i] = self.df[CLASS_LABELS[i].strip()].iloc[idx].astype('int')\n",
        "\n",
        "        if self.transform is not None:\n",
        "            image = self.transform(image)\n",
        "\n",
        "        return (image, label_one_hot) #, self.df.index[idx])\n",
        "\n",
        "def get_loaders():\n",
        "    train_dataset = NIHImageDataset(dataset_csv = TRAIN_CSV, transform = TRANSFORMS['train'])\n",
        "    validation_dataset = NIHImageDataset(dataset_csv = VALIDATION_CSV, transform = TRANSFORMS['validation'])\n",
        "\n",
        "    train_loader = torch.utils.data.DataLoader(train_dataset, batch_size=BATCH_SIZE, shuffle=True)\n",
        "    validation_loader = torch.utils.data.DataLoader(validation_dataset, batch_size=BATCH_SIZE, shuffle=False)\n",
        "\n",
        "    return train_loader, validation_loader\n",
        "\n",
        "def get_loaders2():\n",
        "    train_dataset = NIHImageDataset(dataset_csv = TRAIN_CSV, transform = TRANSFORMS['train'])\n",
        "    validation_dataset = NIHImageDataset(dataset_csv = VALIDATION_CSV, transform = TRANSFORMS['validation'])\n",
        "\n",
        "    train_loader = torch.utils.data.DataLoader(train_dataset, batch_size=BATCH_SIZE, shuffle=True)\n",
        "    validation_loader = torch.utils.data.DataLoader(validation_dataset, batch_size=BATCH_SIZE, shuffle=False)\n",
        "\n",
        "    return train_dataset, train_loader, validation_dataset, validation_loader"
      ],
      "metadata": {
        "id": "JLftjVmb7m-t"
      },
      "execution_count": null,
      "outputs": []
    },
    {
      "cell_type": "code",
      "source": [
        "def train0(model, dataloaders, optimizer, criterion):\n",
        "  since = time.time()\n",
        "  train_epochs_loss = pd.DataFrame(columns=[\"Epoch No\",\"Loss\"])\n",
        "  val_epochs_loss = pd.DataFrame(columns=[\"Epoch No\",\"Loss\"])   \n",
        "    \n",
        "  for epoch in range(NUM_EPOCHS):\n",
        "    for phase in ['train', 'validation']:\n",
        "      if phase == 'train':\n",
        "        model.train()\n",
        "      else:\n",
        "        model.eval()\n",
        "\n",
        "      running_loss = 0.0\n",
        "      running_corrects = 0\n",
        "\n",
        "      for inputs, labels in dataloaders[phase]:\n",
        "        inputs = inputs.to(DEVICE)\n",
        "        labels = labels.to(DEVICE)\n",
        "\n",
        "        optimizer.zero_grad()\n",
        "\n",
        "        with torch.set_grad_enabled(phase == 'train'):\n",
        "          outputs = model(inputs)\n",
        "          loss = criterion(outputs, labels.type(torch.float))\n",
        "\n",
        "          if phase == 'train':\n",
        "            loss.backward()\n",
        "            optimizer.step()\n",
        "\n",
        "          preds = torch.clone(outputs).detach().cpu().numpy()\n",
        "          truths = torch.clone(labels).detach().cpu().numpy()\n",
        "\n",
        "          for idx in range(preds.shape[0]):\n",
        "            preds[idx, ] = preds[idx, ] > 0.5\n",
        "          preds = preds.astype(int)\n",
        "\n",
        "          # statistics\n",
        "          running_loss += loss.item() * inputs.size(0)\n",
        "          running_corrects += np.sum(preds == truths)\n",
        "\n",
        "        epoch_loss = running_loss / len(dataloaders[phase].dataset)\n",
        "        epoch_acc = running_corrects / len(dataloaders[phase].dataset)\n",
        "        print('{} Loss: {:.4f} Acc: {:.4f}'.format(phase, epoch_loss, epoch_acc))\n",
        "  time_elapsed = time.time() - since\n",
        "  print('Training complete in {:.0f}m {:.0f}s'.format(time_elapsed // 60, time_elapsed % 60))"
      ],
      "metadata": {
        "id": "nuiW3Q-Quq3K"
      },
      "execution_count": null,
      "outputs": []
    },
    {
      "cell_type": "code",
      "source": [
        "def train3(model, dataloaders, optimizer, criterion):\n",
        "  since = time.time()\n",
        "\n",
        "  stats = pd.DataFrame(np.zeros((NUM_EPOCHS, 6)), columns=[\"Epoch No\", \n",
        "                                                           \"Train Loss\", \n",
        "                                                           \"Train Accuracy\",\n",
        "                                                           \"Validation Loss\",\n",
        "                                                           \"Validation Accuracy\",\n",
        "                                                           \"Time Elapsed\"])\n",
        "\n",
        "  best_acc = 0.0\n",
        "  for epoch in range(NUM_EPOCHS):\n",
        "    epoch_start = time.time()\n",
        "    for phase in ['train', 'validation']:\n",
        "      if phase == 'train':\n",
        "        model.train()\n",
        "      else:\n",
        "        model.eval()\n",
        "\n",
        "      running_loss = 0.0\n",
        "      running_corrects = 0\n",
        "\n",
        "      loop = tqdm(dataloaders[phase])\n",
        "      for batch_idx, (inputs, labels) in enumerate(loop):\n",
        "        inputs = inputs.to(DEVICE)\n",
        "        labels = labels.to(DEVICE)\n",
        "\n",
        "        optimizer.zero_grad()\n",
        "\n",
        "        with torch.set_grad_enabled(phase == 'train'):\n",
        "          outputs = model(inputs)\n",
        "          loss = criterion(outputs, labels.type(torch.float))\n",
        "\n",
        "          if phase == 'train':\n",
        "            loss.backward()\n",
        "            optimizer.step()\n",
        "\n",
        "          preds = torch.clone(outputs).detach().cpu().numpy()\n",
        "          truths = torch.clone(labels).detach().cpu().numpy()\n",
        "\n",
        "          for idx in range(preds.shape[0]):\n",
        "            preds[idx, ] = preds[idx, ] > 0.5\n",
        "          preds = preds.astype(int)\n",
        "\n",
        "        # statistics\n",
        "        running_loss += loss.item() * inputs.size(0)\n",
        "        running_corrects += np.sum(preds == truths)\n",
        "\n",
        "        loop.set_postfix({'Epoch': epoch,\n",
        "                          'Phase': phase,\n",
        "                          'Loss': loss.item(),\n",
        "                          'Running Loss': running_loss})      \n",
        "      # End batching \n",
        "      \n",
        "      epoch_loss = running_loss / len(dataloaders[phase].dataset)\n",
        "      epoch_acc = running_corrects / len(dataloaders[phase].dataset)\n",
        "      #print('{} Loss: {:.4f} Acc: {:.4f}'.format(phase, epoch_loss, epoch_acc))\n",
        "\n",
        "      stats[\"Epoch No\"][epoch] = epoch+1\n",
        "      if phase == 'train':\n",
        "        stats[\"Train Loss\"][epoch] = epoch_loss\n",
        "        stats[\"Train Accuracy\"][epoch] = epoch_acc\n",
        "      else:\n",
        "        stats[\"Validation Loss\"][epoch] = epoch_loss\n",
        "        stats[\"Validation Accuracy\"][epoch] = epoch_acc\n",
        "        epoch_time_elapsed = time.time() - epoch_start\n",
        "        stats[\"Time Elapsed\"][epoch] = epoch_time_elapsed\n",
        "        if epoch_acc > best_acc:\n",
        "          best_acc = epoch_acc\n",
        "          # save mode\n",
        "          checkpoint = {\n",
        "              \"state_dict\": model.state_dict(),\n",
        "              \"optimizer\":optimizer.state_dict(),\n",
        "              }\n",
        "          save_checkpoint(checkpoint, BASE_DIR + \"results/densenet_NIH_best.pth\")\n",
        "\n",
        "\n",
        "      stats.to_csv(BASE_DIR + 'results/summary.csv', index=False)\n",
        "\n",
        "    # End phase loop\n",
        "  # End epochs\n",
        "  time_elapsed = time.time() - since\n",
        "  print('\\nTraining complete in {:.0f}m {:.0f}s'.format(time_elapsed // 60, time_elapsed % 60))"
      ],
      "metadata": {
        "id": "Lbg_3nB0yQy8"
      },
      "execution_count": null,
      "outputs": []
    },
    {
      "cell_type": "code",
      "source": [
        "def train_model(model, train_dataloader, val_dataloader, optimizer, criterion):\n",
        "    import torch.optim as optim\n",
        "    \"\"\"\n",
        "    \n",
        "    Args:\n",
        "    model: A CNN model\n",
        "    train_dataloader: the DataLoader of the training data\n",
        "    n_epoch: number of epochs to train\n",
        "    optimizer: optimizer for training\n",
        "    criterion: Loss function\n",
        "    Return:\n",
        "        model: trained model \n",
        "    \n",
        "    \"\"\"\n",
        "    \n",
        "    train_epochs_loss = pd.DataFrame(columns=[\"Epoch No\",\"Loss\"])\n",
        "    val_epochs_loss = pd.DataFrame(columns=[\"Epoch No\",\"Loss\"])   \n",
        "    \n",
        "    for epoch in range(NUM_EPOCHS):\n",
        "        \n",
        "        model.train()\n",
        "        train_row={}\n",
        "        train_curr_epoch_loss = []\n",
        "        for data in train_dataloader:\n",
        "            inputs = data[0].to(DEVICE)\n",
        "            labels = data[1].to(DEVICE)            \n",
        "            optimizer.zero_grad()\n",
        "            y_hat = model(inputs)\n",
        "            y_hat = y_hat.to(DEVICE)\n",
        "            labels = labels.type(torch.FloatTensor)\n",
        "            labels = labels.to(DEVICE)\n",
        "            loss = criterion(y_hat, labels)\n",
        "            loss.backward()\n",
        "            optimizer.step()\n",
        "\n",
        "            train_curr_epoch_loss.append(loss.cpu().data.numpy())\n",
        "            \n",
        "        train_row[\"Epoch No\"] = epoch\n",
        "        train_row[\"Loss\"] = np.mean(train_curr_epoch_loss)\n",
        "        train_epochs_loss = train_epochs_loss.append(train_row,ignore_index=True)\n",
        "        print(f\"Epoch {epoch}: Train curr_epoch_loss={np.mean(train_curr_epoch_loss)}\")\n",
        "        \n",
        "        model.eval()\n",
        "\n",
        "        val_row={}\n",
        "        \n",
        "        val_curr_epoch_loss = []\n",
        "        for i, data in enumerate(val_dataloader):    \n",
        "            \n",
        "            inputs = data[0].to(DEVICE)\n",
        "            labels = data[1].to(DEVICE)            \n",
        "            labels = labels.type(torch.FloatTensor)\n",
        "            labels = labels.to(DEVICE)\n",
        "            true_labels = labels.cpu().data.numpy()            \n",
        "            y_hat = model(inputs)\n",
        "            y_hat = y_hat.to(DEVICE)\n",
        "            probs = y_hat.cpu().data.numpy()                            \n",
        "            loss = criterion(y_hat, labels)\n",
        "            val_curr_epoch_loss.append(loss.cpu().data.numpy())\n",
        "\n",
        "        val_row[\"Epoch No\"] = epoch\n",
        "        val_row[\"Loss\"] = np.mean(val_curr_epoch_loss)\n",
        "        val_epochs_loss = val_epochs_loss.append(val_row,ignore_index=True)\n",
        "        print(f\"Epoch {epoch}: Val curr_epoch_loss={np.mean(val_curr_epoch_loss)}\")\n",
        "        \n",
        "    return model,train_epochs_loss,val_epochs_loss"
      ],
      "metadata": {
        "id": "S0ERpnu7U0Hv"
      },
      "execution_count": null,
      "outputs": []
    },
    {
      "cell_type": "code",
      "source": [
        "def main():\n",
        "  #get_train_test_data()\n",
        "  train_dataset, train_loader, validation_dataset, validation_loader = get_loaders2()\n",
        "\n",
        "  dataloaders_dict = {\n",
        "      'train': train_loader,\n",
        "      'validation': validation_loader\n",
        "  }\n",
        "\n",
        "  model = get_model()\n",
        "  criterion = nn.BCELoss()\n",
        "  optimizer = torch.optim.Adam(model.parameters(), lr=LEARNING_RATE)\n",
        "\n",
        "  model, train_losses, validation_losses = train_model(model, train_loader, validation_loader, optimizer, criterion)\n",
        "  plot_epoch_loss(train_losses, validation_losses)\n",
        "  pred_df, true_df = eval_model(model, validation_dataset, validation_loader)\n",
        "  compute_auc(pred_df, true_df)\n",
        "\n",
        "\n",
        "  \"\"\"\n",
        "  train(model, dataloaders_dict, optimizer, criterion)\n",
        "  print(pd.read_csv(BASE_DIR + 'results/summary.csv'))\n",
        "  \"\"\"\n",
        "\n",
        "main()\n",
        "\n"
      ],
      "metadata": {
        "colab": {
          "base_uri": "https://localhost:8080/",
          "height": 1000
        },
        "id": "71dNdz8S6Z0-",
        "outputId": "96d74469-764b-4f33-d078-517ec2c88e28"
      },
      "execution_count": null,
      "outputs": [
        {
          "output_type": "stream",
          "name": "stdout",
          "text": [
            "Length of Original Dataset:  10000\n",
            "Length of Sample Dataset:  1000\n",
            "Length of Training Dataset: 800, Length of Validation Dataset: 200\n",
            "Epoch 0: Train curr_epoch_loss=0.38482430577278137\n",
            "Epoch 0: Val curr_epoch_loss=0.2237423062324524\n",
            "Epoch 1: Train curr_epoch_loss=0.1849249303340912\n",
            "Epoch 1: Val curr_epoch_loss=0.16684435307979584\n",
            "Epoch 2: Train curr_epoch_loss=0.1480860561132431\n",
            "Epoch 2: Val curr_epoch_loss=0.16274404525756836\n",
            "Epoch 3: Train curr_epoch_loss=0.12417241185903549\n",
            "Epoch 3: Val curr_epoch_loss=0.15968872606754303\n",
            "Epoch 4: Train curr_epoch_loss=0.10514749586582184\n",
            "Epoch 4: Val curr_epoch_loss=0.160086527466774\n",
            "Epoch 5: Train curr_epoch_loss=0.08815489709377289\n",
            "Epoch 5: Val curr_epoch_loss=0.1626667082309723\n",
            "Epoch 6: Train curr_epoch_loss=0.07127277553081512\n",
            "Epoch 6: Val curr_epoch_loss=0.16611622273921967\n",
            "Epoch 7: Train curr_epoch_loss=0.06006031855940819\n",
            "Epoch 7: Val curr_epoch_loss=0.17094987630844116\n",
            "Epoch 8: Train curr_epoch_loss=0.04904881492257118\n",
            "Epoch 8: Val curr_epoch_loss=0.16975434124469757\n",
            "Epoch 9: Train curr_epoch_loss=0.04167597368359566\n",
            "Epoch 9: Val curr_epoch_loss=0.17501123249530792\n"
          ]
        },
        {
          "output_type": "display_data",
          "data": {
            "text/plain": [
              "<Figure size 432x288 with 1 Axes>"
            ],
            "image/png": "[encoded data removed]"
          },
          "metadata": {
            "needs_background": "light"
          }
        },
        {
          "output_type": "stream",
          "name": "stdout",
          "text": [
            "0\n",
            "160\n",
            "can't calculate auc for Hernia\n",
            "Only one class present in y_true. ROC AUC score is not defined in that case.\n",
            "                 label       auc\n",
            "0          Atelectasis  0.756793\n",
            "1         Cardiomegaly  0.407035\n",
            "2        Consolidation  0.738932\n",
            "3                Edema  0.952806\n",
            "4             Effusion  0.661017\n",
            "5            Emphysema  0.922051\n",
            "6             Fibrosis  0.587140\n",
            "7               Hernia       NaN\n",
            "8         Infiltration  0.681589\n",
            "9                 Mass  0.632926\n",
            "10              Nodule  0.620321\n",
            "11  Pleural_Thickening  0.563077\n",
            "12           Pneumonia  0.542092\n",
            "13        Pneumothorax  0.706884\n"
          ]
        }
      ]
    },
    {
      "cell_type": "code",
      "source": [
        "def main():\n",
        "  #get_train_test_data()\n",
        "  train_dataset, train_loader, validation_dataset, validation_loader = get_loaders2()\n",
        "\n",
        "  dataloaders_dict = {\n",
        "      'train': train_loader,\n",
        "      'validation': validation_loader\n",
        "  }\n",
        "\n",
        "  model = get_model()\n",
        "  criterion = nn.BCELoss()\n",
        "  optimizer = torch.optim.Adam(model.parameters(), lr=LEARNING_RATE)\n",
        "\n",
        "  model, train_losses, validation_losses = train_model(model, train_loader, validation_loader, optimizer, criterion)\n",
        "  plot_epoch_loss(train_losses, validation_losses)\n",
        "  pred_df, true_df = eval_model(model, validation_dataset, validation_loader)\n",
        "  compute_auc(pred_df, true_df)\n",
        "\n",
        "\n",
        "  \"\"\"\n",
        "  train(model, dataloaders_dict, optimizer, criterion)\n",
        "  print(pd.read_csv(BASE_DIR + 'results/summary.csv'))\n",
        "  \"\"\"\n",
        "\n",
        "main()\n",
        "\n"
      ],
      "metadata": {
        "colab": {
          "base_uri": "https://localhost:8080/",
          "height": 991
        },
        "id": "58kX-uezhZVv",
        "outputId": "9866f9fd-4f64-41b1-beb0-8130e65b44a2"
      },
      "execution_count": null,
      "outputs": [
        {
          "output_type": "stream",
          "name": "stdout",
          "text": [
            "Epoch 0: Train curr_epoch_loss=0.4018988013267517\n",
            "Epoch 0: Val curr_epoch_loss=0.231360524892807\n",
            "Epoch 1: Train curr_epoch_loss=0.18967419862747192\n",
            "Epoch 1: Val curr_epoch_loss=0.17493878304958344\n",
            "Epoch 2: Train curr_epoch_loss=0.1502361297607422\n",
            "Epoch 2: Val curr_epoch_loss=0.16285531222820282\n",
            "Epoch 3: Train curr_epoch_loss=0.1279575675725937\n",
            "Epoch 3: Val curr_epoch_loss=0.1591566652059555\n",
            "Epoch 4: Train curr_epoch_loss=0.10704503953456879\n",
            "Epoch 4: Val curr_epoch_loss=0.1610245704650879\n",
            "Epoch 5: Train curr_epoch_loss=0.08837063610553741\n",
            "Epoch 5: Val curr_epoch_loss=0.1629190742969513\n",
            "Epoch 6: Train curr_epoch_loss=0.07145598530769348\n",
            "Epoch 6: Val curr_epoch_loss=0.1632796972990036\n",
            "Epoch 7: Train curr_epoch_loss=0.05987679585814476\n",
            "Epoch 7: Val curr_epoch_loss=0.1690889149904251\n",
            "Epoch 8: Train curr_epoch_loss=0.04825887084007263\n",
            "Epoch 8: Val curr_epoch_loss=0.17061886191368103\n",
            "Epoch 9: Train curr_epoch_loss=0.04028185456991196\n",
            "Epoch 9: Val curr_epoch_loss=0.16895045340061188\n"
          ]
        },
        {
          "output_type": "display_data",
          "data": {
            "text/plain": [
              "<Figure size 432x288 with 1 Axes>"
            ],
            "image/png": "[encoded data removed]"
          },
          "metadata": {
            "needs_background": "light"
          }
        },
        {
          "output_type": "stream",
          "name": "stdout",
          "text": [
            "0\n",
            "160\n",
            "can't calculate auc for Hernia\n",
            "Only one class present in y_true. ROC AUC score is not defined in that case.\n",
            "                 label       auc\n",
            "0          Atelectasis  0.779212\n",
            "1         Cardiomegaly  0.542714\n",
            "2        Consolidation  0.747396\n",
            "3                Edema  0.946429\n",
            "4             Effusion  0.751904\n",
            "5            Emphysema  0.979487\n",
            "6             Fibrosis  0.541455\n",
            "7               Hernia       NaN\n",
            "8         Infiltration  0.710022\n",
            "9                 Mass  0.645724\n",
            "10              Nodule  0.638420\n",
            "11  Pleural_Thickening  0.567179\n",
            "12           Pneumonia  0.234694\n",
            "13        Pneumothorax  0.738712\n"
          ]
        }
      ]
    },
    {
      "cell_type": "code",
      "source": [
        "# models.resnet50(pretrained=True)\n",
        "model = models.densenet121(pretrained=True)\n",
        "#model.classifier = nn.Linear(1024, NUM_CLASSES)\n",
        "model.classifier = nn.Identity()\n",
        "\n",
        "data = torch.randn((5, 3, 124, 124))\n",
        "print(data.shape)\n",
        "model(data).shape"
      ],
      "metadata": {
        "colab": {
          "base_uri": "https://localhost:8080/"
        },
        "id": "Wnei_YovEqHo",
        "outputId": "22a720db-14de-4257-e9f8-9fbd3b02d63f"
      },
      "execution_count": null,
      "outputs": [
        {
          "output_type": "stream",
          "name": "stdout",
          "text": [
            "torch.Size([5, 3, 124, 124])\n"
          ]
        },
        {
          "output_type": "execute_result",
          "data": {
            "text/plain": [
              "torch.Size([5, 1024])"
            ]
          },
          "metadata": {},
          "execution_count": 66
        }
      ]
    },
    {
      "cell_type": "code",
      "source": [
        "def plot_epoch_loss(train_losses, validation_losses):\n",
        "  loss_train = train_losses['Loss']\n",
        "  loss_val = validation_losses['Loss']\n",
        "  epochs = validation_losses['Epoch No']\n",
        "  plt.plot(epochs, loss_train, 'g', label='Training loss')\n",
        "  plt.plot(epochs, loss_val, 'b', label='validation loss')\n",
        "  plt.title('Training and Validation loss')\n",
        "  plt.xlabel('Epochs')\n",
        "  plt.ylabel('Loss')\n",
        "  plt.legend()\n",
        "  plt.show()"
      ],
      "metadata": {
        "id": "Y2byd0WNW0-y"
      },
      "execution_count": null,
      "outputs": []
    },
    {
      "cell_type": "code",
      "source": [
        "def eval_model(model, dataset, dataloader):\n",
        "    \"\"\"\n",
        "    Use the trained/best model and valuate on validation dataset\n",
        "    Args:\n",
        "    model: trained model\n",
        "    dataloader: validation dataloader\n",
        "    :return:\n",
        "        Y_pred: prediction of model on the dataloder.\n",
        "        Y_test: truth labels. \n",
        "    \"\"\"\n",
        "    model.eval()\n",
        "\n",
        "    pred_df = pd.DataFrame(columns=[\"Image Index\"])\n",
        "    true_df = pd.DataFrame(columns=[\"Image Index\"])\n",
        "    for i, data in enumerate(dataloader):\n",
        "        inputs = data[0].to(DEVICE)\n",
        "        labels = data[1].to(DEVICE)\n",
        "        true_labels = labels.cpu().data.numpy()\n",
        "        batch_size = true_labels.shape\n",
        "        y_hat = model(inputs)\n",
        "        probs = y_hat.cpu().data.numpy()\n",
        "\n",
        "        for j in range(0, batch_size[0]):\n",
        "            thisrow = {}\n",
        "            truerow = {}\n",
        "            thisrow[\"Image Index\"] = dataset.df.index[BATCH_SIZE * i + j]\n",
        "            truerow[\"Image Index\"] = dataset.df.index[BATCH_SIZE * i + j]\n",
        "\n",
        "\n",
        "            for k in range(len(CLASS_LABELS)):\n",
        "                thisrow[\"prob_\" + CLASS_LABELS[k]] = probs[j, k]\n",
        "                truerow[CLASS_LABELS[k]] = true_labels[j, k]\n",
        "\n",
        "            pred_df = pred_df.append(thisrow, ignore_index=True)\n",
        "            true_df = true_df.append(truerow, ignore_index=True)\n",
        "\n",
        "        if(i % 10 == 0):\n",
        "            print(str(i * BATCH_SIZE))\n",
        "\n",
        "\n",
        "    return pred_df, true_df"
      ],
      "metadata": {
        "id": "03tbSJRRY52k"
      },
      "execution_count": null,
      "outputs": []
    },
    {
      "cell_type": "code",
      "source": [
        "def compute_auc(pred_df, true_df):\n",
        "  \"\"\"\n",
        "  Get Prediction and True values for Validation dataset and generate AUC Vaules for Validation dataset\n",
        "  \"\"\"\n",
        "  auc_df = pd.DataFrame(columns=[\"label\", \"auc\"])\n",
        "\n",
        "  for column in true_df:\n",
        "\n",
        "      if column not in [\n",
        "              'Atelectasis',\n",
        "              'Cardiomegaly',\n",
        "              'Effusion',\n",
        "              'Infiltration',\n",
        "              'Mass',\n",
        "              'Nodule',\n",
        "              'Pneumonia',\n",
        "              'Pneumothorax',\n",
        "              'Consolidation',\n",
        "              'Edema',\n",
        "              'Emphysema',\n",
        "              'Fibrosis',\n",
        "              'Pleural_Thickening',\n",
        "                  'Hernia']:\n",
        "          continue\n",
        "      actual = true_df[column]\n",
        "      pred = pred_df[\"prob_\" + column]\n",
        "      thisrow = {}\n",
        "      thisrow['label'] = column\n",
        "      thisrow['auc'] = np.nan\n",
        "      try:\n",
        "          thisrow['auc'] = sklm.roc_auc_score(\n",
        "          actual.values.astype(int), pred.values)\n",
        "\n",
        "          \n",
        "      except BaseException as e:\n",
        "          print(\"can't calculate auc for \" + str(column))\n",
        "          print(e)\n",
        "      auc_df = auc_df.append(thisrow, ignore_index=True)\n",
        "\n",
        "  pred_df.to_csv(BASE_DIR + \"ResNetSGD-ResNetpreds.csv\", index=False)\n",
        "  auc_df.to_csv(BASE_DIR + \"ResNetSGD-ResNetaucs.csv\", index=False)\n",
        "  print(auc_df)\n",
        "  return auc_df  "
      ],
      "metadata": {
        "id": "UjCcQyN_Zser"
      },
      "execution_count": null,
      "outputs": []
    },
    {
      "cell_type": "code",
      "source": [
        "!mkdir -p /content/drive/MyDrive/Colab\\ Notebooks/ModelResults/NIHDataSet/result1/\n",
        "!cp -v /content/DataSets/NIHDataSet/results/*.* /content/drive/MyDrive/Colab\\ Notebooks/ModelResults/NIHDataSet/result1/"
      ],
      "metadata": {
        "colab": {
          "base_uri": "https://localhost:8080/"
        },
        "id": "CwOJyH0LFSMU",
        "outputId": "f1013226-fb2a-4558-e987-2a017b95c483"
      },
      "execution_count": null,
      "outputs": [
        {
          "output_type": "stream",
          "name": "stdout",
          "text": [
            "'/content/DataSets/NIHDataSet/results/densenet_NIH_best.pth' -> '/content/drive/MyDrive/Colab Notebooks/ModelResults/NIHDataSet/result1/densenet_NIH_best.pth'\n",
            "'/content/DataSets/NIHDataSet/results/summary.csv' -> '/content/drive/MyDrive/Colab Notebooks/ModelResults/NIHDataSet/result1/summary.csv'\n"
          ]
        }
      ]
    },
    {
      "cell_type": "code",
      "source": [
        "!cp /content/drive/MyDrive/Colab\\ Notebooks/DataSets/NIHDataSet/*.csv /content/DataSets/NIHDataSet/"
      ],
      "metadata": {
        "id": "dLTTFzRNeJip"
      },
      "execution_count": null,
      "outputs": []
    }
  ]
}
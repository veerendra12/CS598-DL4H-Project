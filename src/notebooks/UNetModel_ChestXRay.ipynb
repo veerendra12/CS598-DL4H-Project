{
  "nbformat": 4,
  "nbformat_minor": 0,
  "metadata": {
    "colab": {
      "name": "UNetModel_ChestXRay.ipynb",
      "provenance": [],
      "collapsed_sections": []
    },
    "kernelspec": {
      "name": "python3",
      "display_name": "Python 3"
    },
    "language_info": {
      "name": "python"
    }
  },
  "cells": [
    {
      "cell_type": "code",
      "execution_count": null,
      "metadata": {
        "colab": {
          "base_uri": "https://localhost:8080/"
        },
        "id": "ruIH-lKLP67k",
        "outputId": "c4e59111-97a0-40e4-9a67-5f7cdab171f2"
      },
      "outputs": [
        {
          "output_type": "stream",
          "name": "stdout",
          "text": [
            "Mounted at /content/drive\n"
          ]
        }
      ],
      "source": [
        "from google.colab import drive\n",
        "drive.mount('/content/drive')"
      ]
    },
    {
      "cell_type": "code",
      "source": [
        "!nvidia-smi"
      ],
      "metadata": {
        "colab": {
          "base_uri": "https://localhost:8080/"
        },
        "id": "DkFhSQwrQeaL",
        "outputId": "0bdb9828-79bf-4656-9303-faeb09051b3c"
      },
      "execution_count": null,
      "outputs": [
        {
          "output_type": "stream",
          "name": "stdout",
          "text": [
            "NVIDIA-SMI has failed because it couldn't communicate with the NVIDIA driver. Make sure that the latest NVIDIA driver is installed and running.\n",
            "\n"
          ]
        }
      ]
    },
    {
      "cell_type": "code",
      "source": [
        "def bootstrap():\n",
        "  !pip install -U albumentations\n",
        "  !pip uninstall opencv-python-headless\n",
        "  !pip install opencv-python-headless==4.5.2.52\n",
        "  !pip list | grep opencv\n",
        "\n",
        "  !mkdir -p /content/DataSets/LungSegmentationDataset/CXR_png\n",
        "  !mkdir -p /content/DataSets/LungSegmentationDataset/masks\n",
        "  !mkdir -p /content/DataSets/LungSegmentationDataset/results/saved_images\n",
        "\n",
        "  !cp /content/drive/MyDrive/Colab\\ Notebooks/DataSets/LungSegmentationDataset/CXR_png/*.* /content/DataSets/LungSegmentationDataset/CXR_png\n",
        "  !cp /content/drive/MyDrive/Colab\\ Notebooks/DataSets/LungSegmentationDataset/masks/*.* /content/DataSets/LungSegmentationDataset/masks\n",
        "\n",
        "#bootstrap()"
      ],
      "metadata": {
        "id": "WGj__jOFQiJT",
        "colab": {
          "base_uri": "https://localhost:8080/"
        },
        "outputId": "64bc4cad-3d02-4b21-e71e-f897881dcb3a"
      },
      "execution_count": null,
      "outputs": [
        {
          "output_type": "stream",
          "name": "stdout",
          "text": [
            "Requirement already satisfied: albumentations in /usr/local/lib/python3.7/dist-packages (0.1.12)\n",
            "Collecting albumentations\n",
            "  Downloading albumentations-1.1.0-py3-none-any.whl (102 kB)\n",
            "\u001b[K     |████████████████████████████████| 102 kB 5.3 MB/s \n",
            "\u001b[?25hRequirement already satisfied: numpy>=1.11.1 in /usr/local/lib/python3.7/dist-packages (from albumentations) (1.21.5)\n",
            "Collecting qudida>=0.0.4\n",
            "  Downloading qudida-0.0.4-py3-none-any.whl (3.5 kB)\n",
            "Requirement already satisfied: scipy in /usr/local/lib/python3.7/dist-packages (from albumentations) (1.4.1)\n",
            "Requirement already satisfied: PyYAML in /usr/local/lib/python3.7/dist-packages (from albumentations) (3.13)\n",
            "Collecting opencv-python-headless>=4.1.1\n",
            "  Downloading opencv_python_headless-4.5.5.64-cp36-abi3-manylinux_2_17_x86_64.manylinux2014_x86_64.whl (47.8 MB)\n",
            "\u001b[K     |████████████████████████████████| 47.8 MB 2.0 MB/s \n",
            "\u001b[?25hRequirement already satisfied: scikit-image>=0.16.1 in /usr/local/lib/python3.7/dist-packages (from albumentations) (0.18.3)\n",
            "Requirement already satisfied: scikit-learn>=0.19.1 in /usr/local/lib/python3.7/dist-packages (from qudida>=0.0.4->albumentations) (1.0.2)\n",
            "Requirement already satisfied: typing-extensions in /usr/local/lib/python3.7/dist-packages (from qudida>=0.0.4->albumentations) (4.1.1)\n",
            "Requirement already satisfied: matplotlib!=3.0.0,>=2.0.0 in /usr/local/lib/python3.7/dist-packages (from scikit-image>=0.16.1->albumentations) (3.2.2)\n",
            "Requirement already satisfied: PyWavelets>=1.1.1 in /usr/local/lib/python3.7/dist-packages (from scikit-image>=0.16.1->albumentations) (1.3.0)\n",
            "Requirement already satisfied: pillow!=7.1.0,!=7.1.1,>=4.3.0 in /usr/local/lib/python3.7/dist-packages (from scikit-image>=0.16.1->albumentations) (7.1.2)\n",
            "Requirement already satisfied: networkx>=2.0 in /usr/local/lib/python3.7/dist-packages (from scikit-image>=0.16.1->albumentations) (2.6.3)\n",
            "Requirement already satisfied: imageio>=2.3.0 in /usr/local/lib/python3.7/dist-packages (from scikit-image>=0.16.1->albumentations) (2.4.1)\n",
            "Requirement already satisfied: tifffile>=2019.7.26 in /usr/local/lib/python3.7/dist-packages (from scikit-image>=0.16.1->albumentations) (2021.11.2)\n",
            "Requirement already satisfied: cycler>=0.10 in /usr/local/lib/python3.7/dist-packages (from matplotlib!=3.0.0,>=2.0.0->scikit-image>=0.16.1->albumentations) (0.11.0)\n",
            "Requirement already satisfied: kiwisolver>=1.0.1 in /usr/local/lib/python3.7/dist-packages (from matplotlib!=3.0.0,>=2.0.0->scikit-image>=0.16.1->albumentations) (1.4.2)\n",
            "Requirement already satisfied: pyparsing!=2.0.4,!=2.1.2,!=2.1.6,>=2.0.1 in /usr/local/lib/python3.7/dist-packages (from matplotlib!=3.0.0,>=2.0.0->scikit-image>=0.16.1->albumentations) (3.0.8)\n",
            "Requirement already satisfied: python-dateutil>=2.1 in /usr/local/lib/python3.7/dist-packages (from matplotlib!=3.0.0,>=2.0.0->scikit-image>=0.16.1->albumentations) (2.8.2)\n",
            "Requirement already satisfied: six>=1.5 in /usr/local/lib/python3.7/dist-packages (from python-dateutil>=2.1->matplotlib!=3.0.0,>=2.0.0->scikit-image>=0.16.1->albumentations) (1.15.0)\n",
            "Requirement already satisfied: threadpoolctl>=2.0.0 in /usr/local/lib/python3.7/dist-packages (from scikit-learn>=0.19.1->qudida>=0.0.4->albumentations) (3.1.0)\n",
            "Requirement already satisfied: joblib>=0.11 in /usr/local/lib/python3.7/dist-packages (from scikit-learn>=0.19.1->qudida>=0.0.4->albumentations) (1.1.0)\n",
            "Installing collected packages: opencv-python-headless, qudida, albumentations\n",
            "  Attempting uninstall: albumentations\n",
            "    Found existing installation: albumentations 0.1.12\n",
            "    Uninstalling albumentations-0.1.12:\n",
            "      Successfully uninstalled albumentations-0.1.12\n",
            "Successfully installed albumentations-1.1.0 opencv-python-headless-4.5.5.64 qudida-0.0.4\n",
            "Found existing installation: opencv-python-headless 4.5.5.64\n",
            "Uninstalling opencv-python-headless-4.5.5.64:\n",
            "  Would remove:\n",
            "    /usr/local/lib/python3.7/dist-packages/cv2/*\n",
            "    /usr/local/lib/python3.7/dist-packages/opencv_python_headless-4.5.5.64.dist-info/*\n",
            "    /usr/local/lib/python3.7/dist-packages/opencv_python_headless.libs/libavcodec-65fa80df.so.58.134.100\n",
            "    /usr/local/lib/python3.7/dist-packages/opencv_python_headless.libs/libavformat-8ef5c7db.so.58.76.100\n",
            "    /usr/local/lib/python3.7/dist-packages/opencv_python_headless.libs/libavutil-9c768859.so.56.70.100\n",
            "    /usr/local/lib/python3.7/dist-packages/opencv_python_headless.libs/libbz2-a273e504.so.1.0.6\n",
            "    /usr/local/lib/python3.7/dist-packages/opencv_python_headless.libs/libcrypto-09fe7800.so.1.1\n",
            "    /usr/local/lib/python3.7/dist-packages/opencv_python_headless.libs/libgfortran-91cc3cb1.so.3.0.0\n",
            "    /usr/local/lib/python3.7/dist-packages/opencv_python_headless.libs/libopenblas-r0-f650aae0.3.3.so\n",
            "    /usr/local/lib/python3.7/dist-packages/opencv_python_headless.libs/libquadmath-96973f99.so.0.0.0\n",
            "    /usr/local/lib/python3.7/dist-packages/opencv_python_headless.libs/libssl-b92f8066.so.1.1\n",
            "    /usr/local/lib/python3.7/dist-packages/opencv_python_headless.libs/libswresample-99364a1c.so.3.9.100\n",
            "    /usr/local/lib/python3.7/dist-packages/opencv_python_headless.libs/libswscale-e6451464.so.5.9.100\n",
            "    /usr/local/lib/python3.7/dist-packages/opencv_python_headless.libs/libvpx-1016051d.so.7.0.0\n",
            "  Would not remove (might be manually added):\n",
            "    /usr/local/lib/python3.7/dist-packages/cv2/.libs/libQtCore-bbdab771.so.4.8.7\n",
            "    /usr/local/lib/python3.7/dist-packages/cv2/.libs/libQtGui-903938cd.so.4.8.7\n",
            "    /usr/local/lib/python3.7/dist-packages/cv2/.libs/libQtTest-1183da5d.so.4.8.7\n",
            "    /usr/local/lib/python3.7/dist-packages/cv2/.libs/libavcodec-3cdd3bd4.so.58.62.100\n",
            "    /usr/local/lib/python3.7/dist-packages/cv2/.libs/libavformat-69a63b50.so.58.35.100\n",
            "    /usr/local/lib/python3.7/dist-packages/cv2/.libs/libavutil-8e8979a8.so.56.36.100\n",
            "    /usr/local/lib/python3.7/dist-packages/cv2/.libs/libbz2-7225278b.so.1.0.3\n",
            "    /usr/local/lib/python3.7/dist-packages/cv2/.libs/libcrypto-a25ff511.so.1.1\n",
            "    /usr/local/lib/python3.7/dist-packages/cv2/.libs/libssl-fdf0b66c.so.1.1\n",
            "    /usr/local/lib/python3.7/dist-packages/cv2/.libs/libswresample-c6b3bbb9.so.3.6.100\n",
            "    /usr/local/lib/python3.7/dist-packages/cv2/.libs/libswscale-2d19f7d1.so.5.6.100\n",
            "    /usr/local/lib/python3.7/dist-packages/cv2/.libs/libvpx-c887ea55.so.6.1.0\n",
            "    /usr/local/lib/python3.7/dist-packages/cv2/.libs/libz-a147dcb0.so.1.2.3\n",
            "    /usr/local/lib/python3.7/dist-packages/cv2/cv2.cpython-37m-x86_64-linux-gnu.so\n",
            "Proceed (y/n)? y\n",
            "  Successfully uninstalled opencv-python-headless-4.5.5.64\n",
            "Collecting opencv-python-headless==4.5.2.52\n",
            "  Downloading opencv_python_headless-4.5.2.52-cp37-cp37m-manylinux2014_x86_64.whl (38.2 MB)\n",
            "\u001b[K     |████████████████████████████████| 38.2 MB 168 kB/s \n",
            "\u001b[?25hRequirement already satisfied: numpy>=1.14.5 in /usr/local/lib/python3.7/dist-packages (from opencv-python-headless==4.5.2.52) (1.21.5)\n",
            "Installing collected packages: opencv-python-headless\n",
            "Successfully installed opencv-python-headless-4.5.2.52\n",
            "opencv-contrib-python         4.1.2.30\n",
            "opencv-python                 4.1.2.30\n",
            "opencv-python-headless        4.5.2.52\n"
          ]
        }
      ]
    },
    {
      "cell_type": "code",
      "source": [
        "import os\n",
        "from PIL import Image\n",
        "\n",
        "import numpy as np\n",
        "import pandas as pd\n",
        "\n",
        "import torch\n",
        "import torch.nn as nn\n",
        "import torch.optim as optim\n",
        "from torch.utils.data import DataLoader\n",
        "from torch.utils.data import Dataset\n",
        "import torchvision\n",
        "from torchvision.transforms import ToPILImage\n",
        "import torchvision.transforms.functional as TF\n",
        "\n",
        "import albumentations as A\n",
        "from albumentations.pytorch import ToTensorV2\n",
        "from tqdm import tqdm\n",
        "\n",
        "import matplotlib.pyplot as plt\n",
        "from sklearn.model_selection import train_test_split\n",
        "from skimage.measure import label, regionprops, find_contours"
      ],
      "metadata": {
        "id": "5dyrWiuDQvcy"
      },
      "execution_count": null,
      "outputs": []
    },
    {
      "cell_type": "code",
      "source": [
        "LEARNING_RATE = 1e-4\n",
        "DEVICE = \"cuda\" if torch.cuda.is_available() else \"cpu\"\n",
        "BATCH_SIZE = 16\n",
        "NUM_EPOCHS = 10\n",
        "NUM_WORKERS = 2\n",
        "IMAGE_HEIGHT = 256  # 1280 originally\n",
        "IMAGE_WIDTH = 256  # 1918 originally\n",
        "PIN_MEMORY = True\n",
        "LOAD_MODEL = False\n",
        "IMAGE_DATA_SET_TYPE = ''\n",
        "MASK_SUFFIX_NO_EXTN = ''\n",
        "\n",
        "XRAY = True\n",
        "if XRAY:\n",
        "  IMAGE_DATA_SET_TYPE = 'MCU'\n",
        "  BASE_DIR = '/content/drive/MyDrive/Colab Notebooks/DataSets/LungSegmentationDataset/'\n",
        "  BASE_DIR = '/content/DataSets/LungSegmentationDataset/'\n",
        "  IMAGE_DIR = BASE_DIR + \"CXR_png/\"\n",
        "  MASK_DIR = BASE_DIR + \"masks/\"\n",
        "  IMAGE_SUFFIX = \".png\"\n",
        "  MASK_SUFFIX = \".png\"\n",
        "else:\n",
        "  BASE_DIR = '/content/DataSets/CarvanaDataSet/'\n",
        "  IMAGE_DIR = BASE_DIR + \"train_images/\"\n",
        "  MASK_DIR = BASE_DIR + \"train_masks/\"\n",
        "  IMAGE_SUFFIX = \".jpg\"\n",
        "  MASK_SUFFIX = \"_mask.gif\"\n",
        "  #MASK_SUFFIX_NO_EXTN = \"_mask\""
      ],
      "metadata": {
        "id": "AfKCYpY6RH0y"
      },
      "execution_count": null,
      "outputs": []
    },
    {
      "cell_type": "code",
      "source": [
        "DEVICE"
      ],
      "metadata": {
        "colab": {
          "base_uri": "https://localhost:8080/",
          "height": 35
        },
        "id": "VglOnJbmTsY_",
        "outputId": "9825f628-6948-460b-af23-e1efc1239b7a"
      },
      "execution_count": null,
      "outputs": [
        {
          "output_type": "execute_result",
          "data": {
            "text/plain": [
              "'cpu'"
            ],
            "application/vnd.google.colaboratory.intrinsic+json": {
              "type": "string"
            }
          },
          "metadata": {},
          "execution_count": 8
        }
      ]
    },
    {
      "cell_type": "code",
      "source": [
        "# !unzip '/content/drive/MyDrive/Colab Notebooks/DataSets/LungSegmentationDataset.zip' -d '/content/drive/MyDrive/Colab Notebooks/DataSets/'"
      ],
      "metadata": {
        "id": "LSNVzgHrfQk2"
      },
      "execution_count": null,
      "outputs": []
    },
    {
      "cell_type": "code",
      "source": [
        "image_names, mask_names = [], []\n",
        "def preprocess_dataset():\n",
        "  # CHN, MCU\n",
        "  all_images = os.listdir(IMAGE_DIR)\n",
        "  all_masks = os.listdir(MASK_DIR)\n",
        "  mc_mask_names = [mask.split(MASK_SUFFIX)[0] for mask in all_masks if mask.startswith(IMAGE_DATA_SET_TYPE)]\n",
        "  mc_image_names = [image.split(IMAGE_SUFFIX)[0] for image in all_images if image.startswith(IMAGE_DATA_SET_TYPE)]\n",
        "  print(f'{IMAGE_DATA_SET_TYPE} Dataset:: Number of images: {len(mc_image_names)}, Number of masks: {len(mc_mask_names)}')\n",
        "\n",
        "\n",
        "  # len([image for image in mc_image_names if (image + '_mask') not in mc_mask_names])\n",
        "  print(f'Number of images missing masks: {len([image for image in mc_image_names if (image + MASK_SUFFIX_NO_EXTN) not in mc_mask_names])}')\n",
        "\n",
        "  mask_names = mc_mask_names\n",
        "  image_names = mc_image_names\n",
        "\n",
        "  mask_names.sort()\n",
        "  image_names.sort()\n",
        "\n",
        "  return image_names, mask_names\n",
        "\n",
        "image_names, mask_names = preprocess_dataset()"
      ],
      "metadata": {
        "colab": {
          "base_uri": "https://localhost:8080/"
        },
        "id": "AuE9efdyppYr",
        "outputId": "889623bf-a1d1-476f-b536-7ee8f1e891cf"
      },
      "execution_count": null,
      "outputs": [
        {
          "output_type": "stream",
          "name": "stdout",
          "text": [
            "MCU Dataset:: Number of images: 138, Number of masks: 138\n",
            "Number of images missing masks: 0\n"
          ]
        }
      ]
    },
    {
      "cell_type": "code",
      "source": [
        "train_indices, validation_indices = train_test_split(range(len(mask_names)), test_size=0.2, random_state=2022)\n",
        "len(train_indices), len(validation_indices)"
      ],
      "metadata": {
        "colab": {
          "base_uri": "https://localhost:8080/"
        },
        "id": "zhBenOfItKVm",
        "outputId": "c22c243f-1aef-46aa-f1e1-1e0cfb9d2477"
      },
      "execution_count": null,
      "outputs": [
        {
          "output_type": "execute_result",
          "data": {
            "text/plain": [
              "(110, 28)"
            ]
          },
          "metadata": {},
          "execution_count": 10
        }
      ]
    },
    {
      "cell_type": "code",
      "source": [
        "image_names[0:3], mask_names[0:3]"
      ],
      "metadata": {
        "colab": {
          "base_uri": "https://localhost:8080/"
        },
        "id": "1Q88_z_axfp_",
        "outputId": "0d944297-6e35-41ff-ce2a-ba69d17ec2e2"
      },
      "execution_count": null,
      "outputs": [
        {
          "output_type": "execute_result",
          "data": {
            "text/plain": [
              "(['MCUCXR_0001_0', 'MCUCXR_0002_0', 'MCUCXR_0003_0'],\n",
              " ['MCUCXR_0001_0', 'MCUCXR_0002_0', 'MCUCXR_0003_0'])"
            ]
          },
          "metadata": {},
          "execution_count": 8
        }
      ]
    },
    {
      "cell_type": "code",
      "source": [
        "def save_checkpoint(state, filename):\n",
        "    print(\"=> Saving checkpoint \" + filename)\n",
        "    torch.save(state, filename)\n",
        "\n",
        "def load_checkpoint(model, filename):\n",
        "    print(\"=> Loading checkpoint \" + filename)\n",
        "    if DEVICE == 'cpu':\n",
        "      model.load_state_dict(torch.load(filename, map_location='cpu')[\"state_dict\"])\n",
        "    else:\n",
        "      model.load_state_dict(torch.load(filename)[\"state_dict\"])"
      ],
      "metadata": {
        "id": "kZYfruwM7AqV"
      },
      "execution_count": null,
      "outputs": []
    },
    {
      "cell_type": "code",
      "source": [
        "def check_accuracy(loader, model, device=\"cuda\"):\n",
        "    num_correct = 0\n",
        "    num_pixels = 0\n",
        "    dice_score = 0\n",
        "    model.eval()\n",
        "\n",
        "    with torch.no_grad():\n",
        "        for x, y in loader:\n",
        "            x = x.to(device)\n",
        "            y = y.to(device).unsqueeze(1)\n",
        "            preds = torch.sigmoid(model(x))\n",
        "            preds = (preds > 0.5).float()\n",
        "            num_correct += (preds == y).sum()\n",
        "            num_pixels += torch.numel(preds)\n",
        "            dice_score += (2 * (preds * y).sum()) / (\n",
        "                (preds + y).sum() + 1e-8\n",
        "            )\n",
        "\n",
        "    print(\n",
        "        f\"Got {num_correct}/{num_pixels} with acc {num_correct/num_pixels*100:.2f}\"\n",
        "    )\n",
        "    dice_score = dice_score/len(loader)\n",
        "    print(f\"Dice score: {dice_score}\")\n",
        "    model.train()\n",
        "    return dice_score"
      ],
      "metadata": {
        "id": "uXRGVsto7cm1"
      },
      "execution_count": null,
      "outputs": []
    },
    {
      "cell_type": "code",
      "source": [
        "def save_predictions_as_imgs(loader, model, folder=\"results/saved_images/\", device=\"cuda\"):\n",
        "    model.eval()\n",
        "    for idx, (x, y) in enumerate(loader):\n",
        "        x = x.to(device=device)\n",
        "        with torch.no_grad():\n",
        "            preds = torch.sigmoid(model(x))\n",
        "            preds = (preds > 0.5).float()\n",
        "        torchvision.utils.save_image(\n",
        "            preds, f\"{folder}/pred_{idx}.png\"\n",
        "        )\n",
        "        torchvision.utils.save_image(y.unsqueeze(1), f\"{folder}/true_{idx}.png\")\n",
        "\n",
        "    model.train()"
      ],
      "metadata": {
        "id": "r8pXUurC7o4x"
      },
      "execution_count": null,
      "outputs": []
    },
    {
      "cell_type": "code",
      "source": [
        "class CXRMaskDataset(Dataset):\n",
        "    def __init__(self, indices, image_names, mask_names, image_dir, mask_dir, transform=None):\n",
        "        self.indices = indices\n",
        "        self.image_names = image_names\n",
        "        self.mask_names = mask_names\n",
        "        self.image_dir = image_dir\n",
        "        self.mask_dir = mask_dir\n",
        "        self.transform = transform\n",
        "\n",
        "    def __len__(self):\n",
        "        return len(self.indices)\n",
        "\n",
        "    def __getitem__(self, index):\n",
        "        img_path = os.path.join(self.image_dir, self.image_names[self.indices[index]] + IMAGE_SUFFIX)\n",
        "        mask_path = os.path.join(self.mask_dir, self.image_names[self.indices[index]] + MASK_SUFFIX)\n",
        "        # print(f'img_path: {img_path}, mask_path: {mask_path}')\n",
        "        image = np.array(Image.open(img_path).convert(\"RGB\"))\n",
        "        mask = np.array(Image.open(mask_path).convert(\"L\"), dtype=np.float32)\n",
        "        mask[mask == 255.0] = 1.0\n",
        "\n",
        "        if self.transform is not None:\n",
        "            augmentations = self.transform(image=image, mask=mask)\n",
        "            image = augmentations[\"image\"]\n",
        "            mask = augmentations[\"mask\"]\n",
        "\n",
        "        return image, mask"
      ],
      "metadata": {
        "id": "tiUKMt6mm0gc"
      },
      "execution_count": null,
      "outputs": []
    },
    {
      "cell_type": "code",
      "source": [
        "train_transform = A.Compose(\n",
        "    [\n",
        "        A.Resize(height=IMAGE_HEIGHT, width=IMAGE_WIDTH),\n",
        "        A.Rotate(limit=35, p=1.0),\n",
        "        A.HorizontalFlip(p=0.5),\n",
        "        A.VerticalFlip(p=0.1),\n",
        "        A.Normalize(\n",
        "            mean=[0.0, 0.0, 0.0],\n",
        "            std=[1.0, 1.0, 1.0],\n",
        "            max_pixel_value=255.0,\n",
        "        ),\n",
        "        ToTensorV2(),\n",
        "    ],\n",
        ")\n",
        "\n",
        "validation_transforms = A.Compose(\n",
        "    [\n",
        "        A.Resize(height=IMAGE_HEIGHT, width=IMAGE_WIDTH),\n",
        "        A.Normalize(\n",
        "            mean=[0.0, 0.0, 0.0],\n",
        "            std=[1.0, 1.0, 1.0],\n",
        "            max_pixel_value=255.0,\n",
        "        ),\n",
        "        ToTensorV2(),\n",
        "    ],\n",
        ")"
      ],
      "metadata": {
        "id": "cxXytg6by5jt"
      },
      "execution_count": null,
      "outputs": []
    },
    {
      "cell_type": "code",
      "source": [
        "class DoubleConv(nn.Module):\n",
        "    def __init__(self, in_channels, out_channels):\n",
        "        super(DoubleConv, self).__init__()\n",
        "        self.conv = nn.Sequential(\n",
        "            nn.Conv2d(in_channels, out_channels, 3, 1, 1, bias=False),\n",
        "            nn.BatchNorm2d(out_channels),\n",
        "            nn.ReLU(inplace=True),\n",
        "            nn.Conv2d(out_channels, out_channels, 3, 1, 1, bias=False),\n",
        "            nn.BatchNorm2d(out_channels),\n",
        "            nn.ReLU(inplace=True),\n",
        "        )\n",
        "\n",
        "    def forward(self, x):\n",
        "        return self.conv(x)\n",
        "\n",
        "class UNET(nn.Module):\n",
        "    def __init__(\n",
        "            self, in_channels=3, out_channels=1, features=[64, 128, 256, 512],\n",
        "    ):\n",
        "        super(UNET, self).__init__()\n",
        "        self.ups = nn.ModuleList()\n",
        "        self.downs = nn.ModuleList()\n",
        "        self.pool = nn.MaxPool2d(kernel_size=2, stride=2)\n",
        "\n",
        "        # Down part of UNET\n",
        "        for feature in features:\n",
        "            self.downs.append(DoubleConv(in_channels, feature))\n",
        "            in_channels = feature\n",
        "\n",
        "        # Up part of UNET\n",
        "        for feature in reversed(features):\n",
        "            self.ups.append(\n",
        "                nn.ConvTranspose2d(\n",
        "                    feature*2, feature, kernel_size=2, stride=2,\n",
        "                )\n",
        "            )\n",
        "            self.ups.append(DoubleConv(feature*2, feature))\n",
        "\n",
        "        self.bottleneck = DoubleConv(features[-1], features[-1]*2)\n",
        "        self.final_conv = nn.Conv2d(features[0], out_channels, kernel_size=1)\n",
        "\n",
        "    def forward(self, x):\n",
        "        skip_connections = []\n",
        "\n",
        "        for down in self.downs:\n",
        "            x = down(x)\n",
        "            skip_connections.append(x)\n",
        "            x = self.pool(x)\n",
        "\n",
        "        x = self.bottleneck(x)\n",
        "        skip_connections = skip_connections[::-1]\n",
        "\n",
        "        for idx in range(0, len(self.ups), 2):\n",
        "            x = self.ups[idx](x)\n",
        "            skip_connection = skip_connections[idx//2]\n",
        "\n",
        "            if x.shape != skip_connection.shape:\n",
        "                x = TF.resize(x, size=skip_connection.shape[2:])\n",
        "\n",
        "            concat_skip = torch.cat((skip_connection, x), dim=1)\n",
        "            x = self.ups[idx+1](concat_skip)\n",
        "\n",
        "        return self.final_conv(x)\n",
        "\n",
        "def test():\n",
        "    x = torch.randn((3, 1, 161, 161))\n",
        "    model = UNET(in_channels=1, out_channels=1)\n",
        "    preds = model(x)\n",
        "    assert preds.shape == x.shape\n",
        "    \n",
        "test()"
      ],
      "metadata": {
        "id": "rOJFti3o5Ywn"
      },
      "execution_count": null,
      "outputs": []
    },
    {
      "cell_type": "code",
      "source": [
        "def train(loader, model, optimizer, loss_fn, scaler):\n",
        "    loop = tqdm(loader)\n",
        "\n",
        "    for batch_idx, (data, targets) in enumerate(loop):\n",
        "        data = data.to(device=DEVICE)\n",
        "        targets = targets.float().unsqueeze(1).to(device=DEVICE)\n",
        "\n",
        "        # forward\n",
        "        with torch.cuda.amp.autocast():\n",
        "            predictions = model(data)\n",
        "            loss = loss_fn(predictions, targets)\n",
        "\n",
        "        # backward\n",
        "        optimizer.zero_grad()\n",
        "        scaler.scale(loss).backward()\n",
        "        scaler.step(optimizer)\n",
        "        scaler.update()\n",
        "\n",
        "        # update tqdm loop\n",
        "        loop.set_postfix(loss=loss.item())\n",
        "    return loss.clone().detach().item()"
      ],
      "metadata": {
        "id": "TnhhfeB7nhwj"
      },
      "execution_count": null,
      "outputs": []
    },
    {
      "cell_type": "code",
      "source": [
        "import matplotlib.patches as patches\n",
        "TMP = 0\n",
        "def calculate_bounding_box_for_image(mask_image_path):\n",
        "  global TMP\n",
        "  print(TMP)\n",
        "  image = np.array(Image.open(mask_image_path).convert(\"L\"), dtype=np.float32)\n",
        "  TMP = image\n",
        "  print(image.shape)\n",
        "  h, w = image.shape\n",
        "  border = np.zeros((h, w))\n",
        "  contours = find_contours(image, 128)\n",
        "\n",
        "  print(image)\n",
        "  print('contours', len(contours))\n",
        "  for contour in contours:\n",
        "      \n",
        "      for c in contour:\n",
        "          x = int(c[0])\n",
        "          y = int(c[1])\n",
        "          border[x][y] = 255\n",
        "  lbl = label(border)\n",
        "  props = regionprops(lbl)\n",
        "  bboxes = []\n",
        "  for prop in props:\n",
        "    x1 = prop.bbox[1]\n",
        "    y1 = prop.bbox[0]\n",
        "    x2 = prop.bbox[3]\n",
        "    y2 = prop.bbox[2]\n",
        "    bboxes.append([x1, y1, x2, y2])\n",
        "\n",
        "  # print('bboxes', bboxes)\n",
        "\n",
        "  fig = plt.figure()\n",
        "\n",
        "  fig.add_subplot(1,3,1)\n",
        "  plt.axis('off')\n",
        "  plt.imshow(image, cmap='gray')\n",
        "  plt.title(\"CXR-Mask\")\n",
        "\n",
        "  axes = fig.add_subplot(1,3,2)\n",
        "  plt.axis('off')\n",
        "  plt.imshow(image, cmap='gray')\n",
        "  for bbox in bboxes:\n",
        "    rect = patches.Rectangle((bbox[0], bbox[1]), bbox[2]-bbox[0], bbox[3]-bbox[1], linewidth=2, edgecolor='yellow', facecolor='none')\n",
        "    axes.add_patch(rect)\n",
        "  plt.title(\"Mask\")\n",
        "\n",
        "  axes = fig.add_subplot(1,3,3)\n",
        "  plt.axis('off')\n",
        "  x1 = bboxes[0][0]\n",
        "  y1 = bboxes[0][1]\n",
        "  x2 = bboxes[0][2]\n",
        "  y2 = bboxes[0][3]\n",
        "  x3 = bboxes[1][0]\n",
        "  y3 = bboxes[1][1]\n",
        "  x4 = bboxes[1][2]\n",
        "  y4 = bboxes[1][3]\n",
        "  print(y1,y4,x1,x4)\n",
        "  print(y1-20,y4+50,x1-20,x4+20)\n",
        "  plt.imshow(image[y1-20:y4+50,x1-20:x4+20], cmap='gray')\n",
        "  plt.title(\"Mask\")\n",
        "\n",
        "  plt.show()\n",
        "\n",
        "\n",
        "rand_idx = np.random.randint(0, len(mask_names)-1)\n",
        "test_image = mask_names[rand_idx]\n",
        "calculate_bounding_box_for_image(f'/content/DataSets/LungSegmentationDataset/masks/{test_image}.png')"
      ],
      "metadata": {
        "colab": {
          "base_uri": "https://localhost:8080/",
          "height": 510
        },
        "id": "zvmJgZXcbGYZ",
        "outputId": "99aed161-d6a5-449e-fc8a-a6fe208ab6b1"
      },
      "execution_count": null,
      "outputs": [
        {
          "output_type": "stream",
          "name": "stdout",
          "text": [
            "0\n",
            "(4892, 4020)\n",
            "[[0. 0. 0. ... 0. 0. 0.]\n",
            " [0. 0. 0. ... 0. 0. 0.]\n",
            " [0. 0. 0. ... 0. 0. 0.]\n",
            " ...\n",
            " [0. 0. 0. ... 0. 0. 0.]\n",
            " [0. 0. 0. ... 0. 0. 0.]\n",
            " [0. 0. 0. ... 0. 0. 0.]]\n",
            "contours 2\n",
            "314 3630 1969 1675\n",
            "294 3680 1949 1695\n"
          ]
        },
        {
          "output_type": "stream",
          "name": "stderr",
          "text": [
            "/usr/local/lib/python3.7/dist-packages/ipykernel_launcher.py:60: UserWarning: Attempting to set identical left == right == -0.5 results in singular transformations; automatically expanding.\n"
          ]
        },
        {
          "output_type": "display_data",
          "data": {
            "text/plain": [
              "<Figure size 432x288 with 3 Axes>"
            ],
            "image/png": "[encoded data removed]"
          },
          "metadata": {
            "needs_background": "light"
          }
        }
      ]
    },
    {
      "cell_type": "code",
      "source": [
        "TMP"
      ],
      "metadata": {
        "colab": {
          "base_uri": "https://localhost:8080/"
        },
        "id": "FgBnCKihgtin",
        "outputId": "14dd0d90-c4b4-4c24-9c78-32484b7689d6"
      },
      "execution_count": null,
      "outputs": [
        {
          "output_type": "execute_result",
          "data": {
            "text/plain": [
              "array([[0., 0., 0., ..., 0., 0., 0.],\n",
              "       [0., 0., 0., ..., 0., 0., 0.],\n",
              "       [0., 0., 0., ..., 0., 0., 0.],\n",
              "       ...,\n",
              "       [0., 0., 0., ..., 0., 0., 0.],\n",
              "       [0., 0., 0., ..., 0., 0., 0.],\n",
              "       [0., 0., 0., ..., 0., 0., 0.]], dtype=float32)"
            ]
          },
          "metadata": {},
          "execution_count": 40
        }
      ]
    },
    {
      "cell_type": "code",
      "source": [
        "def lung_region_image_generator(image_tensors, mask_image_tensors):\n",
        "  assert image_tensors.shape, mask_image_tensors.shape\n",
        "\n",
        "  cropped_image_tensors = torch.zeros_like(image_tensors)\n",
        "  \n",
        "  cropped_images = torch.zeros_like(image_tensors)\n",
        "\n",
        "  mask_images_np = mask_image_tensors.cpu().detach().squeeze(1).numpy()\n",
        "\n",
        "  num_images = mask_images_np.shape[0]\n",
        "  for idx in range(num_images):\n",
        "    #print(mask_images_np[idx].shape)\n",
        "    image_tensor = image_tensors[idx]\n",
        "    mask_image_np = mask_images_np[idx]\n",
        "\n",
        "    image_height, image_width = image_tensor.shape[1], image_tensor.shape[2]\n",
        "    #print(f'image_height: {image_height}, image_width: {image_width}')\n",
        "\n",
        "    mask_height, mask_width = mask_image_np.shape\n",
        "    border = np.zeros((mask_height, mask_width))\n",
        "    contours = find_contours(mask_image_np, 0.5)\n",
        "\n",
        "    #print('num contours', len(contours))\n",
        "    for contour in contours:  \n",
        "      for c in contour:\n",
        "        x = int(c[0])\n",
        "        y = int(c[1])\n",
        "        border[x][y] = 255\n",
        "\n",
        "    lbl = label(border)\n",
        "    props = regionprops(lbl)\n",
        "    bboxes = []\n",
        "    for prop in props:\n",
        "      # Bounding box (min_row, min_col, max_row, max_col)\n",
        "      x1 = prop.bbox[1]\n",
        "      y1 = prop.bbox[0]\n",
        "      x2 = prop.bbox[3]\n",
        "      y2 = prop.bbox[2]\n",
        "      bboxes.append([x1, y1, x2, y2])\n",
        "    #print('bboxes', bboxes)\n",
        "\n",
        "\n",
        "    x1 = bboxes[0][0]\n",
        "    y1 = bboxes[0][1]\n",
        "    x2 = bboxes[0][2]\n",
        "    y2 = bboxes[0][3]\n",
        "    x3 = bboxes[1][0]\n",
        "    y3 = bboxes[1][1]\n",
        "    x4 = bboxes[1][2]\n",
        "    y4 = bboxes[1][3]\n",
        "\n",
        "    \"\"\"\n",
        "    y_lower_bound = y1-10\n",
        "    y_upper_bound = y4+20\n",
        "    x_lower_bound = x1-10\n",
        "    x_upper_bound = x4+10\n",
        "    \"\"\"\n",
        "\n",
        "    y_lower_bound = np.max([np.min([y1, y2, y3, y4])-10, 0])\n",
        "    y_upper_bound = np.max([y1, y2, y3, y4])+20\n",
        "    x_lower_bound = np.max([np.min([x1, x2, x3, x4])-10, 0])\n",
        "    x_upper_bound = np.max([x1, x2, x3, x4])+10\n",
        "\n",
        "    #print(f'X f{x1}, {x2}, {x3}, {x4}')\n",
        "    #print(f'Y f{y1}, {y2}, {y3}, {y4}')\n",
        "    cropped_image_tensor = image_tensor\n",
        "    cropped_image_tensor = image_tensor[:,y_lower_bound:y_upper_bound, x_lower_bound:x_upper_bound]\n",
        "    #print(f'Bounds Y:{y_upper_bound}-{y_lower_bound}={y_upper_bound-y_lower_bound}, X:{x_upper_bound}-{x_lower_bound}={x_upper_bound-x_lower_bound}')\n",
        "    #print(f'cropped_image_tensor {cropped_image_tensor.shape}')\n",
        "    cropped_image_tensor = torchvision.transforms.Resize((image_tensor.shape[1], image_tensor.shape[2]))(cropped_image_tensor)\n",
        "    cropped_image_tensors[idx] = cropped_image_tensor\n",
        "\n",
        "    if False:\n",
        "      fig = plt.figure(figsize=(16, 14))\n",
        "\n",
        "      fig.add_subplot(1,5,1)\n",
        "      plt.axis('off')\n",
        "      plt.imshow(image_tensors[idx].permute(1, 2, 0))\n",
        "      plt.title(\"CXR-Mask\")\n",
        "\n",
        "      fig.add_subplot(1,5,2)\n",
        "      plt.axis('off')\n",
        "      plt.imshow(mask_image_np, cmap='gray')\n",
        "      plt.title(\"CXR-Mask\")\n",
        "\n",
        "      # 3rd\n",
        "      axes = fig.add_subplot(1,5,3)\n",
        "      plt.axis('off')\n",
        "      plt.imshow(mask_image_np, cmap='gray')\n",
        "      for bbox in bboxes:\n",
        "        rect = patches.Rectangle((bbox[0], bbox[1]), bbox[2]-bbox[0], bbox[3]-bbox[1], linewidth=2, edgecolor='yellow', facecolor='none')\n",
        "        axes.add_patch(rect)\n",
        "      #rect = patches.Rectangle((bbox[0], bbox[1]), bbox[2]-bbox[0], bbox[3]-bbox[1], linewidth=2, edgecolor='yellow', facecolor='none')\n",
        "      plt.title(\"Bounding Box\")\n",
        "\n",
        "      # 4th\n",
        "      axes = fig.add_subplot(1,5,4)\n",
        "      plt.axis('off')\n",
        "\n",
        "      print(f'Bounds {y_lower_bound}, {y_upper_bound}, {x_lower_bound} {x_upper_bound}')\n",
        "      cropped_mask_np = np.array(mask_image_np[y_lower_bound:y_upper_bound,x_lower_bound:x_upper_bound])\n",
        "      plt.imshow(cropped_mask_np, cmap='gray')\n",
        "      plt.title(\"Cropped Mask\")\n",
        "\n",
        "      # 5th\n",
        "      axes = fig.add_subplot(1,5,5)\n",
        "      plt.axis('off')\n",
        "      \n",
        "      plt.imshow(cropped_image_tensor.permute(1, 2, 0))\n",
        "      plt.title(\"Cropped CXR\")\n",
        "\n",
        "      plt.show()\n",
        "\n",
        "      print(f'CXR Image: {image_tensors[idx].shape}, Mask Image: {mask_image_np.shape}, Cropped Image: {cropped_mask_np.shape}')\n",
        "    \n",
        "  return cropped_image_tensors\n",
        "\n",
        "validation_dataset = CXRMaskDataset(validation_indices, image_names, mask_names, IMAGE_DIR, MASK_DIR, transform=validation_transforms)\n",
        "validation_loader = DataLoader(validation_dataset, batch_size=4, num_workers=NUM_WORKERS, pin_memory=PIN_MEMORY, shuffle=True)    \n",
        "for i, (x, y) in enumerate(validation_loader):\n",
        "  x = x.to(device=DEVICE)\n",
        "  y = y.float().unsqueeze(1).to(device=DEVICE)\n",
        "  lung_region_images = lung_region_image_generator(x, y)"
      ],
      "metadata": {
        "id": "y4dvqkKcbLor"
      },
      "execution_count": null,
      "outputs": []
    },
    {
      "cell_type": "code",
      "source": [
        "np.min([1, 2, 3])"
      ],
      "metadata": {
        "colab": {
          "base_uri": "https://localhost:8080/"
        },
        "id": "6nY3qMwOOnx-",
        "outputId": "704cadcc-04cc-4052-e8c3-ec759665fdff"
      },
      "execution_count": null,
      "outputs": [
        {
          "output_type": "execute_result",
          "data": {
            "text/plain": [
              "1"
            ]
          },
          "metadata": {},
          "execution_count": 128
        }
      ]
    },
    {
      "cell_type": "code",
      "source": [
        "t = torch.rand((2, 3, 256, 256))\n",
        "torch.sum(t)\n",
        "t1 = t[0]\n",
        "t2 = t1[:,6:194, 31:241]\n",
        "\n",
        "plt.imshow(t1.permute(1, 2, 0))\n",
        "\n",
        "plt.imshow(t2.permute(1, 2, 0))\n",
        "\n",
        "alb = A.Resize(height=IMAGE_HEIGHT, width=IMAGE_WIDTH)\n",
        "print(t2.numpy().shape)\n",
        "alb(image=t2.numpy())['image'].shape\n",
        "\n",
        "tnew = torchvision.transforms.Resize((256, 256))(t2)\n",
        "plt.imshow(tnew.permute(1, 2, 0))\n",
        "# veerenda"
      ],
      "metadata": {
        "colab": {
          "base_uri": "https://localhost:8080/",
          "height": 304
        },
        "id": "54DJOZQPwkTk",
        "outputId": "f463828c-1bad-4678-ddca-61180a2526d0"
      },
      "execution_count": null,
      "outputs": [
        {
          "output_type": "stream",
          "name": "stdout",
          "text": [
            "(3, 188, 210)\n"
          ]
        },
        {
          "output_type": "execute_result",
          "data": {
            "text/plain": [
              "<matplotlib.image.AxesImage at 0x7fa6006af410>"
            ]
          },
          "metadata": {},
          "execution_count": 98
        },
        {
          "output_type": "display_data",
          "data": {
            "text/plain": [
              "<Figure size 432x288 with 1 Axes>"
            ],
            "image/png": "[encoded data removed]"
          },
          "metadata": {
            "needs_background": "light"
          }
        }
      ]
    },
    {
      "cell_type": "code",
      "source": [
        ""
      ],
      "metadata": {
        "id": "Tz4pYnfh32h2"
      },
      "execution_count": null,
      "outputs": []
    },
    {
      "cell_type": "code",
      "source": [
        "def inference(image_path):\n",
        "  model = UNET(in_channels=3, out_channels=1).to(DEVICE)\n",
        "  load_checkpoint(model, BASE_DIR + \"results/unet_chesxray_mcu_8.pth\")\n",
        "  model.eval()\n",
        "\n",
        "  image = np.array(Image.open(image_path).convert(\"RGB\"))\n",
        "  x = validation_transforms(image=image)[\"image\"]\n",
        "  x = x.unsqueeze(dim=0)\n",
        "  x = x.to(device=DEVICE)\n",
        "  preds = torch.sigmoid(model(x))\n",
        "  preds = (preds > 0.5).float()\n",
        "\n",
        "  # Convert into 2 dimensional mask image\n",
        "  preds = preds.squeeze(dim=0)\n",
        "  preds = preds.squeeze(dim=0)\n",
        "  preds = preds.to('cpu')\n",
        "  \n",
        "  fig = plt.figure()\n",
        "\n",
        "  fig.add_subplot(1,2,1)\n",
        "  plt.axis('off')\n",
        "  plt.imshow(image)\n",
        "  plt.title(\"CXR\")\n",
        "\n",
        "  fig.add_subplot(1,2,2)\n",
        "  plt.axis('off')\n",
        "  plt.imshow(preds)\n",
        "  plt.title(\"Mask\")\n",
        "\n",
        "  plt.show()\n",
        "\n",
        "  # torchvision.utils.save_image(preds, \"output.png\")"
      ],
      "metadata": {
        "id": "Xa98IFXjnjBP"
      },
      "execution_count": null,
      "outputs": []
    },
    {
      "cell_type": "code",
      "source": [
        "from math import e\n",
        "def load_segmentation_model():\n",
        "  model = UNET(in_channels=3, out_channels=1).to(DEVICE)\n",
        "  load_checkpoint(model, BASE_DIR + \"results/unet_chesxray_mcu_8.pth\")\n",
        "  model.eval()\n",
        "  return model\n",
        "\n",
        "def lung_region_generator(batched_images_tensor, segmentation_model=None):\n",
        "  if segmentation_model is None:\n",
        "    segmentation_model = load_segmentation_model()\n",
        "  masks = segmentation_model(batched_images_tensor)\n",
        "  print(f'Masks: {masks.shape}')\n",
        "  return masks\n",
        "\n",
        "\n",
        "segmentation_model = load_segmentation_model()\n",
        "\n",
        "\n",
        "\"\"\"\n",
        "validation_dataset = CXRMaskDataset(validation_indices, image_names, mask_names, IMAGE_DIR, MASK_DIR, transform=validation_transforms)\n",
        "validation_loader = DataLoader(validation_dataset, batch_size=4, num_workers=NUM_WORKERS, pin_memory=PIN_MEMORY, shuffle=True)    \n",
        "for i, (x, y) in enumerate(validation_loader):\n",
        "  print(i, x.shape, y.shape)\n",
        "  x = x.to(device=DEVICE)\n",
        "  y = y.float().unsqueeze(1).to(device=DEVICE)\n",
        "  masks = lung_region_generator(x, segmentation_model)\n",
        "  lung_region_images = lung_region_image_generator(x, masks)\n",
        "  lung_region_images = lung_region_images.to(device=DEVICE)\n",
        "\n",
        "  grid = torchvision.utils.make_grid(x, nrow=8)\n",
        "  grid_np = grid.cpu().numpy().transpose(1, 2, 0)  # channel dim should be last\n",
        "  plt.matshow(grid_np)\n",
        "\n",
        "  grid = torchvision.utils.make_grid(y, nrow=8)\n",
        "  grid_np = grid.cpu().numpy().transpose(1, 2, 0)  # channel dim should be last\n",
        "  plt.matshow(grid_np)\n",
        "\n",
        "  grid = torchvision.utils.make_grid(masks, nrow=8)\n",
        "  grid_np = grid.cpu().numpy().transpose(1, 2, 0)  # channel dim should be last\n",
        "  plt.matshow(grid_np)\n",
        "\n",
        "  grid = torchvision.utils.make_grid(lung_region_images, nrow=8)\n",
        "  grid_np = grid.cpu().numpy().transpose(1, 2, 0)  # channel dim should be last\n",
        "  plt.matshow(grid_np)\n",
        "\n",
        "  \n",
        "  break\n",
        "\"\"\""
      ],
      "metadata": {
        "colab": {
          "base_uri": "https://localhost:8080/",
          "height": 374
        },
        "id": "eUTGEkbYRysE",
        "outputId": "f6e9c4ca-124d-4153-f1f6-cb47371399e0"
      },
      "execution_count": null,
      "outputs": [
        {
          "output_type": "stream",
          "name": "stdout",
          "text": [
            "=> Loading checkpoint /content/DataSets/LungSegmentationDataset/results/unet_chesxray_mcu_8.pth\n"
          ]
        },
        {
          "output_type": "error",
          "ename": "AttributeError",
          "evalue": "ignored",
          "traceback": [
            "\u001b[0;31m---------------------------------------------------------------------------\u001b[0m",
            "\u001b[0;31mAttributeError\u001b[0m                            Traceback (most recent call last)",
            "\u001b[0;32m<ipython-input-22-8b80c94cdadf>\u001b[0m in \u001b[0;36m<module>\u001b[0;34m()\u001b[0m\n\u001b[1;32m     15\u001b[0m \u001b[0;34m\u001b[0m\u001b[0m\n\u001b[1;32m     16\u001b[0m \u001b[0msegmentation_model\u001b[0m \u001b[0;34m=\u001b[0m \u001b[0mload_segmentation_model\u001b[0m\u001b[0;34m(\u001b[0m\u001b[0;34m)\u001b[0m\u001b[0;34m\u001b[0m\u001b[0;34m\u001b[0m\u001b[0m\n\u001b[0;32m---> 17\u001b[0;31m \u001b[0msegmentation_model\u001b[0m\u001b[0;34m.\u001b[0m\u001b[0msummary\u001b[0m\u001b[0;34m(\u001b[0m\u001b[0;34m)\u001b[0m\u001b[0;34m\u001b[0m\u001b[0;34m\u001b[0m\u001b[0m\n\u001b[0m\u001b[1;32m     18\u001b[0m \u001b[0;34m\u001b[0m\u001b[0m\n\u001b[1;32m     19\u001b[0m \"\"\"\n",
            "\u001b[0;32m/usr/local/lib/python3.7/dist-packages/torch/nn/modules/module.py\u001b[0m in \u001b[0;36m__getattr__\u001b[0;34m(self, name)\u001b[0m\n\u001b[1;32m   1176\u001b[0m                 \u001b[0;32mreturn\u001b[0m \u001b[0mmodules\u001b[0m\u001b[0;34m[\u001b[0m\u001b[0mname\u001b[0m\u001b[0;34m]\u001b[0m\u001b[0;34m\u001b[0m\u001b[0;34m\u001b[0m\u001b[0m\n\u001b[1;32m   1177\u001b[0m         raise AttributeError(\"'{}' object has no attribute '{}'\".format(\n\u001b[0;32m-> 1178\u001b[0;31m             type(self).__name__, name))\n\u001b[0m\u001b[1;32m   1179\u001b[0m \u001b[0;34m\u001b[0m\u001b[0m\n\u001b[1;32m   1180\u001b[0m     \u001b[0;32mdef\u001b[0m \u001b[0m__setattr__\u001b[0m\u001b[0;34m(\u001b[0m\u001b[0mself\u001b[0m\u001b[0;34m,\u001b[0m \u001b[0mname\u001b[0m\u001b[0;34m:\u001b[0m \u001b[0mstr\u001b[0m\u001b[0;34m,\u001b[0m \u001b[0mvalue\u001b[0m\u001b[0;34m:\u001b[0m \u001b[0mUnion\u001b[0m\u001b[0;34m[\u001b[0m\u001b[0mTensor\u001b[0m\u001b[0;34m,\u001b[0m \u001b[0;34m'Module'\u001b[0m\u001b[0;34m]\u001b[0m\u001b[0;34m)\u001b[0m \u001b[0;34m->\u001b[0m \u001b[0;32mNone\u001b[0m\u001b[0;34m:\u001b[0m\u001b[0;34m\u001b[0m\u001b[0;34m\u001b[0m\u001b[0m\n",
            "\u001b[0;31mAttributeError\u001b[0m: 'UNET' object has no attribute 'summary'"
          ]
        }
      ]
    },
    {
      "cell_type": "code",
      "source": [
        "#dict(segmentation_model.named_modules())\n",
        "def get_n_params(model):\n",
        "    pp=0\n",
        "    for p in list(model.parameters()):\n",
        "        nn=1\n",
        "        for s in list(p.size()):\n",
        "            nn = nn*s\n",
        "        pp += nn\n",
        "    return pp\n",
        "get_n_params(segmentation_model)"
      ],
      "metadata": {
        "colab": {
          "base_uri": "https://localhost:8080/"
        },
        "id": "mc0MfYqcHtgM",
        "outputId": "00144fe5-664c-484b-854c-6cc1bd6d89fd"
      },
      "execution_count": null,
      "outputs": [
        {
          "output_type": "execute_result",
          "data": {
            "text/plain": [
              "31037633"
            ]
          },
          "metadata": {},
          "execution_count": 24
        }
      ]
    },
    {
      "cell_type": "code",
      "source": [
        "def main():\n",
        "    model = UNET(in_channels=3, out_channels=1).to(DEVICE)\n",
        "    loss_fn = nn.BCEWithLogitsLoss()\n",
        "    optimizer = optim.Adam(model.parameters(), lr=LEARNING_RATE)\n",
        "\n",
        "    train_dataset = CXRMaskDataset(train_indices, image_names, mask_names, IMAGE_DIR, MASK_DIR, transform=train_transform)\n",
        "    train_loader = DataLoader(train_dataset, batch_size=BATCH_SIZE, num_workers=NUM_WORKERS, pin_memory=PIN_MEMORY, shuffle=True)\n",
        "\n",
        "\n",
        "    validation_dataset = CXRMaskDataset(validation_indices, image_names, mask_names, IMAGE_DIR, MASK_DIR, transform=validation_transforms)\n",
        "    validation_loader = DataLoader(validation_dataset, batch_size=BATCH_SIZE, num_workers=NUM_WORKERS, pin_memory=PIN_MEMORY, shuffle=False)    \n",
        "\n",
        "    if LOAD_MODEL:\n",
        "        load_checkpoint(model, BASE_DIR + \"results/unet_chesxray_mcu_8.pth\")\n",
        "\n",
        "    check_accuracy(validation_loader, model, device=DEVICE)\n",
        "    scaler = torch.cuda.amp.GradScaler()\n",
        "    train_losses, train_accuracies, validate_accuracies = [], [], []\n",
        "\n",
        "\n",
        "    results = []\n",
        "    for epoch in range(NUM_EPOCHS):\n",
        "        train_loss = train(train_loader, model, optimizer, loss_fn, scaler)\n",
        "        train_losses.append(train_loss)\n",
        "\n",
        "        # save model\n",
        "        checkpoint = {\n",
        "            \"state_dict\": model.state_dict(),\n",
        "            \"optimizer\":optimizer.state_dict(),\n",
        "        }\n",
        "        save_checkpoint(checkpoint, BASE_DIR + \"results/unet_chesxray_mcu_\" + str(epoch) + \".pth\")\n",
        "\n",
        "        # check accuracy\n",
        "        dice_score = check_accuracy(train_loader, model, device=DEVICE)\n",
        "        train_accuracies.append(dice_score.item())\n",
        "        dice_score = check_accuracy(validation_loader, model, device=DEVICE)\n",
        "        validate_accuracies.append(dice_score.item())\n",
        "\n",
        "        # print some examples to a folder\n",
        "        save_predictions_as_imgs(validation_loader, model, folder = BASE_DIR + 'results/saved_images', device=DEVICE)\n",
        "\n",
        "        results = pd.DataFrame({'Iteration': range(len(train_losses)), \n",
        "                                'Training Loss': train_losses,\n",
        "                                'Training Dice Accuracy': train_accuracies,\n",
        "                                'Validation Dice Accuracy': validate_accuracies})\n",
        "        results.to_csv(BASE_DIR + 'results/summary.csv')\n",
        "        print(results)\n",
        "    return results"
      ],
      "metadata": {
        "id": "VuFoNJTO51Mu"
      },
      "execution_count": null,
      "outputs": []
    },
    {
      "cell_type": "code",
      "source": [
        ""
      ],
      "metadata": {
        "id": "fpfRhOhumkv1"
      },
      "execution_count": null,
      "outputs": []
    },
    {
      "cell_type": "code",
      "source": [
        "#summary = main()"
      ],
      "metadata": {
        "id": "qSBGij_DAacA"
      },
      "execution_count": null,
      "outputs": []
    },
    {
      "cell_type": "code",
      "source": [
        "#summary = main()"
      ],
      "metadata": {
        "id": "Ky6dCQw5Z7WG"
      },
      "execution_count": null,
      "outputs": []
    },
    {
      "cell_type": "code",
      "source": [
        "test_img_path = '/content/DataSets/LungSegmentationDataset/CXR_png/CHNCXR_0276_0.png'\n",
        "test_img_path = '/content/NIH/00006585_014.png'\n",
        "#inference(test_img_path)"
      ],
      "metadata": {
        "id": "Laz7nZMLq4DO"
      },
      "execution_count": null,
      "outputs": []
    },
    {
      "cell_type": "code",
      "source": [
        "#!rm /content/results/saved_images/*.png\n",
        "#!rm {BASE_DIR + 'results/saved_images/*.*'}\n",
        "!rm {BASE_DIR + 'results/*.pth'}"
      ],
      "metadata": {
        "colab": {
          "base_uri": "https://localhost:8080/"
        },
        "id": "82MbP-CG57w5",
        "outputId": "ba21fe9b-bdbe-4461-90de-a93b45b88c2f"
      },
      "execution_count": null,
      "outputs": [
        {
          "output_type": "stream",
          "name": "stdout",
          "text": [
            "rm: cannot remove '/content/DataSets/LungSegmentationDataset/results/*.pth': No such file or directory\n"
          ]
        }
      ]
    },
    {
      "cell_type": "code",
      "source": [
        ""
      ],
      "metadata": {
        "id": "tOeD19DTVTKR"
      },
      "execution_count": null,
      "outputs": []
    },
    {
      "cell_type": "code",
      "source": [
        ""
      ],
      "metadata": {
        "id": "Wgqnh_RQVTO1"
      },
      "execution_count": null,
      "outputs": []
    },
    {
      "cell_type": "code",
      "source": [
        "#!ls /content/drive/MyDrive/Colab\\ Notebooks/\n",
        "!mkdir -p /content/drive/MyDrive/Colab\\ Notebooks/ModelResults/UNet/result1/saved_images\n",
        "!cp -v /content/DataSets/LungSegmentationDataset/results/unet_chesxray_mcu_8.pth /content/drive/MyDrive/Colab\\ Notebooks/ModelResults/UNet/result1/\n",
        "!cp -v /content/DataSets/LungSegmentationDataset/results/summary.csv /content/drive/MyDrive/Colab\\ Notebooks/ModelResults/UNet/result1/\n",
        "!cp -v /content/DataSets/LungSegmentationDataset/results/saved_images/*.* /content/drive/MyDrive/Colab\\ Notebooks/ModelResults/UNet/result1/saved_images/"
      ],
      "metadata": {
        "id": "Q9U_NR_SVTcm"
      },
      "execution_count": null,
      "outputs": []
    },
    {
      "cell_type": "code",
      "source": [
        "!cp -v /content/drive/MyDrive/Colab\\ Notebooks/ModelResults/UNet/result1/unet_chesxray_mcu_8.pth  /content/DataSets/LungSegmentationDataset/results/"
      ],
      "metadata": {
        "id": "YlFdt_FcVTgE",
        "colab": {
          "base_uri": "https://localhost:8080/"
        },
        "outputId": "575ae802-8bda-4438-a289-35f18df26c9f"
      },
      "execution_count": null,
      "outputs": [
        {
          "output_type": "stream",
          "name": "stdout",
          "text": [
            "'/content/drive/MyDrive/Colab Notebooks/ModelResults/UNet/result1/unet_chesxray_mcu_8.pth' -> '/content/DataSets/LungSegmentationDataset/results/unet_chesxray_mcu_8.pth'\n"
          ]
        }
      ]
    },
    {
      "cell_type": "code",
      "source": [
        ""
      ],
      "metadata": {
        "id": "ymgSIzr1VTkF"
      },
      "execution_count": null,
      "outputs": []
    },
    {
      "cell_type": "code",
      "source": [
        ""
      ],
      "metadata": {
        "id": "c4G88wj6VToS"
      },
      "execution_count": null,
      "outputs": []
    },
    {
      "cell_type": "code",
      "source": [
        ""
      ],
      "metadata": {
        "id": "r7k5AZcqVTrk"
      },
      "execution_count": null,
      "outputs": []
    },
    {
      "cell_type": "code",
      "source": [
        "train_dataset = CXRMaskDataset(train_indices, image_names, mask_names, IMAGE_DIR, MASK_DIR, transform=train_transform)\n",
        "train_loader = DataLoader(train_dataset, batch_size=BATCH_SIZE, num_workers=NUM_WORKERS, pin_memory=PIN_MEMORY, shuffle=False)    \n",
        "\n",
        "for i, (x, y) in enumerate(train_loader):\n",
        "  print(i, x.shape, y.shape)\n",
        "  x = x.to(device=DEVICE)\n",
        "  y = y.float().unsqueeze(1).to(device=DEVICE)\n",
        "  grid = torchvision.utils.make_grid(x, nrow=8)\n",
        "  grid_np = grid.cpu().numpy().transpose(1, 2, 0)  # channel dim should be last\n",
        "  plt.matshow(grid_np)\n",
        "\n",
        "  grid = torchvision.utils.make_grid(y, nrow=8)\n",
        "  grid_np = grid.cpu().numpy().transpose(1, 2, 0)  # channel dim should be last\n",
        "  plt.matshow(grid_np)    \n",
        "\n",
        "  break"
      ],
      "metadata": {
        "id": "unRknLmJVTw5"
      },
      "execution_count": null,
      "outputs": []
    },
    {
      "cell_type": "code",
      "source": [
        "validation_dataset = CXRMaskDataset(validation_indices, image_names, mask_names, IMAGE_DIR, MASK_DIR, transform=validation_transforms)\n",
        "validation_loader = DataLoader(validation_dataset, batch_size=BATCH_SIZE, num_workers=NUM_WORKERS, pin_memory=PIN_MEMORY, shuffle=False)    \n",
        "for i, (x, y) in enumerate(validation_loader):\n",
        "  print(i, x.shape, y.shape)\n",
        "  x = x.to(device=DEVICE)\n",
        "  y = y.float().unsqueeze(1).to(device=DEVICE)\n",
        "  grid = torchvision.utils.make_grid(x, nrow=8)\n",
        "  grid_np = grid.cpu().numpy().transpose(1, 2, 0)  # channel dim should be last\n",
        "  plt.matshow(grid_np)\n",
        "\n",
        "  grid = torchvision.utils.make_grid(y, nrow=8)\n",
        "  grid_np = grid.cpu().numpy().transpose(1, 2, 0)  # channel dim should be last\n",
        "  plt.matshow(grid_np)    \n",
        "\n",
        "  break"
      ],
      "metadata": {
        "id": "aHtDwSjL9m7U"
      },
      "execution_count": null,
      "outputs": []
    },
    {
      "cell_type": "code",
      "source": [
        ""
      ],
      "metadata": {
        "id": "-RpnCUOFh3Le"
      },
      "execution_count": null,
      "outputs": []
    },
    {
      "cell_type": "code",
      "source": [
        "train_losses, train_accuracies, validate_accuracies = [], [], []\n",
        "\n",
        "train_losses.append(1)\n",
        "train_losses.append(2)\n",
        "\n",
        "train_accuracies.append(3)\n",
        "train_accuracies.append(4)\n",
        "pd.DataFrame({'Iteration': range(len(train_losses)), \n",
        "              'Training Loss': train_losses,\n",
        "              'Training Dice Accuracy': train_accuracies}).to_csv('results.csv')"
      ],
      "metadata": {
        "id": "frotI4tr-XUY"
      },
      "execution_count": null,
      "outputs": []
    },
    {
      "cell_type": "code",
      "source": [
        ""
      ],
      "metadata": {
        "id": "nF5rMQjIJGEc"
      },
      "execution_count": null,
      "outputs": []
    }
  ]
}